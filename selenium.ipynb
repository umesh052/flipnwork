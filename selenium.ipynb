{
 "cells": [
  {
   "cell_type": "code",
   "execution_count": 6,
   "metadata": {},
   "outputs": [
    {
     "name": "stdout",
     "output_type": "stream",
     "text": [
      "Requirement already satisfied: selenium in c:\\users\\umesh gupta\\anaconda3\\lib\\site-packages (3.141.0)\n",
      "Requirement already satisfied: urllib3 in c:\\users\\umesh gupta\\anaconda3\\lib\\site-packages (from selenium) (1.25.11)\n"
     ]
    }
   ],
   "source": [
    "!pip install selenium"
   ]
  },
  {
   "cell_type": "markdown",
   "metadata": {},
   "source": [
    "# Q1: Write a python program to scrape data for “Data Analyst” Job position in “Bangalore” location. You have to scrape the job-title, job-location, company_name, experience_required. You have to scrape first 10 jobs data."
   ]
  },
  {
   "cell_type": "code",
   "execution_count": 33,
   "metadata": {},
   "outputs": [],
   "source": [
    "import selenium\n",
    "import pandas as pd\n",
    "from selenium import webdriver"
   ]
  },
  {
   "cell_type": "code",
   "execution_count": 34,
   "metadata": {},
   "outputs": [],
   "source": [
    "driver = webdriver.Chrome(\"chromedriver.exe\")"
   ]
  },
  {
   "cell_type": "code",
   "execution_count": 4,
   "metadata": {},
   "outputs": [],
   "source": [
    "url = \"https://www.naukri.com/\"\n",
    "driver.get(url)"
   ]
  },
  {
   "cell_type": "code",
   "execution_count": 5,
   "metadata": {},
   "outputs": [],
   "source": [
    "search_job = driver.find_element_by_id(\"qsb-keyword-sugg\")"
   ]
  },
  {
   "cell_type": "code",
   "execution_count": 11,
   "metadata": {},
   "outputs": [],
   "source": [
    "search_job.send_keys(\"Data Analyst\")"
   ]
  },
  {
   "cell_type": "code",
   "execution_count": 18,
   "metadata": {},
   "outputs": [],
   "source": [
    "loc=driver.find_element_by_id(\"qsb-location-sugg\")"
   ]
  },
  {
   "cell_type": "code",
   "execution_count": 19,
   "metadata": {},
   "outputs": [],
   "source": [
    "loc.send_keys(\"Banglore\")"
   ]
  },
  {
   "cell_type": "code",
   "execution_count": 21,
   "metadata": {},
   "outputs": [],
   "source": [
    "ser=driver.find_element_by_class_name(\"btn\")"
   ]
  },
  {
   "cell_type": "code",
   "execution_count": 22,
   "metadata": {},
   "outputs": [],
   "source": [
    "ser.click()"
   ]
  },
  {
   "cell_type": "code",
   "execution_count": 51,
   "metadata": {},
   "outputs": [],
   "source": [
    "job_tit=driver.find_elements_by_xpath(\"//a[@class='title fw500 ellipsis']\")"
   ]
  },
  {
   "cell_type": "code",
   "execution_count": 52,
   "metadata": {},
   "outputs": [
    {
     "data": {
      "text/plain": [
       "['Senior Data Analyst - SQL/Tableau/Redshift',\n",
       " 'Hiring Business data analyst with Strong SQL Skills',\n",
       " 'Senior Data Analyst',\n",
       " 'Data Analyst - Work from Home',\n",
       " 'Data Analyst',\n",
       " 'Sr. Data Analyst DW BI- Immediate Joiners',\n",
       " 'Business Analyst - Data Analytics',\n",
       " 'Senior Data Analyst',\n",
       " 'Senior Safety Data Analyst - BI',\n",
       " 'Business Data Analyst',\n",
       " 'Business Data Analyst - Treasury Markets,',\n",
       " 'Data Analyst/Scientist',\n",
       " 'Hot Vacancies - Senior Data Analyst, Bengaluru',\n",
       " 'Data Analyst',\n",
       " 'Associate System and Data Analyst',\n",
       " 'Data Analyst- Azure',\n",
       " 'Marketing Data Analyst',\n",
       " 'Data Analyst',\n",
       " 'Associate Data Analyst',\n",
       " 'Immediate Hiring For Data Analyst - Bangalore']"
      ]
     },
     "execution_count": 52,
     "metadata": {},
     "output_type": "execute_result"
    }
   ],
   "source": [
    "job_title=[]\n",
    "for i in job_tit:\n",
    "    job_title.append(i.text)\n"
   ]
  },
  {
   "cell_type": "code",
   "execution_count": 30,
   "metadata": {},
   "outputs": [],
   "source": [
    "comp=driver.find_elements_by_xpath(\"//a[@class='subTitle ellipsis fleft']\")"
   ]
  },
  {
   "cell_type": "code",
   "execution_count": 31,
   "metadata": {},
   "outputs": [],
   "source": [
    "company=[]\n",
    "for i in comp:\n",
    "    company.append(i.text)"
   ]
  },
  {
   "cell_type": "code",
   "execution_count": 40,
   "metadata": {},
   "outputs": [],
   "source": [
    "loc=driver.find_elements_by_xpath(\"//li[@class='fleft grey-text br2 placeHolderLi location']\")"
   ]
  },
  {
   "cell_type": "code",
   "execution_count": 41,
   "metadata": {},
   "outputs": [
    {
     "data": {
      "text/plain": [
       "['Noida, Mumbai, Indore, Hyderabad/Secunderabad, Pune, Chennai, Bangalore/Bengaluru\\n(WFH during Covid)',\n",
       " 'Bangalore/Bengaluru',\n",
       " 'Bangalore/Bengaluru',\n",
       " 'Pune, Bangalore/Bengaluru, Mumbai (All Areas)',\n",
       " 'Bangalore/Bengaluru',\n",
       " 'Remote',\n",
       " 'Bangalore/Bengaluru',\n",
       " 'Bangalore/Bengaluru(2nd Phase JP Nagar)',\n",
       " 'Bangalore/Bengaluru',\n",
       " 'Bangalore/Bengaluru',\n",
       " 'Bangalore/Bengaluru',\n",
       " 'Mumbai, Hyderabad/Secunderabad, Pune, Chennai, Bangalore/Bengaluru',\n",
       " 'Bangalore/Bengaluru',\n",
       " 'Bangalore/Bengaluru',\n",
       " 'Bangalore/Bengaluru',\n",
       " 'Chennai, Bangalore/Bengaluru',\n",
       " 'Bangalore/Bengaluru',\n",
       " 'Bangalore/Bengaluru',\n",
       " 'Hyderabad/Secunderabad, Ahmedabad, Bangalore/Bengaluru',\n",
       " 'Bangalore/Bengaluru']"
      ]
     },
     "execution_count": 41,
     "metadata": {},
     "output_type": "execute_result"
    }
   ],
   "source": [
    "location=[]\n",
    "for i in loc:\n",
    "    location.append(i.text)"
   ]
  },
  {
   "cell_type": "code",
   "execution_count": 42,
   "metadata": {},
   "outputs": [],
   "source": [
    "exp=driver.find_elements_by_xpath(\"//li[@class='fleft grey-text br2 placeHolderLi experience']\")"
   ]
  },
  {
   "cell_type": "code",
   "execution_count": 43,
   "metadata": {},
   "outputs": [],
   "source": [
    "experience=[]\n",
    "for i in exp:\n",
    "    experience.append(i.text)"
   ]
  },
  {
   "cell_type": "code",
   "execution_count": 53,
   "metadata": {},
   "outputs": [
    {
     "data": {
      "text/html": [
       "<div>\n",
       "<style scoped>\n",
       "    .dataframe tbody tr th:only-of-type {\n",
       "        vertical-align: middle;\n",
       "    }\n",
       "\n",
       "    .dataframe tbody tr th {\n",
       "        vertical-align: top;\n",
       "    }\n",
       "\n",
       "    .dataframe thead th {\n",
       "        text-align: right;\n",
       "    }\n",
       "</style>\n",
       "<table border=\"1\" class=\"dataframe\">\n",
       "  <thead>\n",
       "    <tr style=\"text-align: right;\">\n",
       "      <th></th>\n",
       "      <th>Job Title</th>\n",
       "      <th>Location</th>\n",
       "      <th>Company</th>\n",
       "      <th>Experience</th>\n",
       "    </tr>\n",
       "  </thead>\n",
       "  <tbody>\n",
       "    <tr>\n",
       "      <th>0</th>\n",
       "      <td>Senior Data Analyst - SQL/Tableau/Redshift</td>\n",
       "      <td>Noida, Mumbai, Indore, Hyderabad/Secunderabad,...</td>\n",
       "      <td>Pronto Consulting Services</td>\n",
       "      <td>6-10 Yrs</td>\n",
       "    </tr>\n",
       "    <tr>\n",
       "      <th>1</th>\n",
       "      <td>Hiring Business data analyst with Strong SQL S...</td>\n",
       "      <td>Bangalore/Bengaluru</td>\n",
       "      <td>Hexaware Technologies Ltd.</td>\n",
       "      <td>9-13 Yrs</td>\n",
       "    </tr>\n",
       "    <tr>\n",
       "      <th>2</th>\n",
       "      <td>Senior Data Analyst</td>\n",
       "      <td>Bangalore/Bengaluru</td>\n",
       "      <td>Publicis Groupe</td>\n",
       "      <td>1-5 Yrs</td>\n",
       "    </tr>\n",
       "    <tr>\n",
       "      <th>3</th>\n",
       "      <td>Data Analyst - Work from Home</td>\n",
       "      <td>Pune, Bangalore/Bengaluru, Mumbai (All Areas)</td>\n",
       "      <td>POWER STORES E COMMERCE PRIVATE LIMITED</td>\n",
       "      <td>2-5 Yrs</td>\n",
       "    </tr>\n",
       "    <tr>\n",
       "      <th>4</th>\n",
       "      <td>Data Analyst</td>\n",
       "      <td>Bangalore/Bengaluru</td>\n",
       "      <td>Innovsource Services Private Limited</td>\n",
       "      <td>1-6 Yrs</td>\n",
       "    </tr>\n",
       "    <tr>\n",
       "      <th>5</th>\n",
       "      <td>Sr. Data Analyst DW BI- Immediate Joiners</td>\n",
       "      <td>Remote</td>\n",
       "      <td>Kelly Outsourcing and Consulting Group India P...</td>\n",
       "      <td>5-10 Yrs</td>\n",
       "    </tr>\n",
       "    <tr>\n",
       "      <th>6</th>\n",
       "      <td>Business Analyst - Data Analytics</td>\n",
       "      <td>Bangalore/Bengaluru</td>\n",
       "      <td>BankBazaar</td>\n",
       "      <td>1-5 Yrs</td>\n",
       "    </tr>\n",
       "    <tr>\n",
       "      <th>7</th>\n",
       "      <td>Senior Data Analyst</td>\n",
       "      <td>Bangalore/Bengaluru(2nd Phase JP Nagar)</td>\n",
       "      <td>Liventus, Inc.</td>\n",
       "      <td>5-8 Yrs</td>\n",
       "    </tr>\n",
       "    <tr>\n",
       "      <th>8</th>\n",
       "      <td>Senior Safety Data Analyst - BI</td>\n",
       "      <td>Bangalore/Bengaluru</td>\n",
       "      <td>Novo Nordisk India</td>\n",
       "      <td>5-10 Yrs</td>\n",
       "    </tr>\n",
       "    <tr>\n",
       "      <th>9</th>\n",
       "      <td>Business Data Analyst</td>\n",
       "      <td>Bangalore/Bengaluru</td>\n",
       "      <td>NetApp</td>\n",
       "      <td>3-6 Yrs</td>\n",
       "    </tr>\n",
       "  </tbody>\n",
       "</table>\n",
       "</div>"
      ],
      "text/plain": [
       "                                           Job Title  \\\n",
       "0         Senior Data Analyst - SQL/Tableau/Redshift   \n",
       "1  Hiring Business data analyst with Strong SQL S...   \n",
       "2                                Senior Data Analyst   \n",
       "3                      Data Analyst - Work from Home   \n",
       "4                                       Data Analyst   \n",
       "5          Sr. Data Analyst DW BI- Immediate Joiners   \n",
       "6                  Business Analyst - Data Analytics   \n",
       "7                                Senior Data Analyst   \n",
       "8                    Senior Safety Data Analyst - BI   \n",
       "9                              Business Data Analyst   \n",
       "\n",
       "                                            Location  \\\n",
       "0  Noida, Mumbai, Indore, Hyderabad/Secunderabad,...   \n",
       "1                                Bangalore/Bengaluru   \n",
       "2                                Bangalore/Bengaluru   \n",
       "3      Pune, Bangalore/Bengaluru, Mumbai (All Areas)   \n",
       "4                                Bangalore/Bengaluru   \n",
       "5                                             Remote   \n",
       "6                                Bangalore/Bengaluru   \n",
       "7            Bangalore/Bengaluru(2nd Phase JP Nagar)   \n",
       "8                                Bangalore/Bengaluru   \n",
       "9                                Bangalore/Bengaluru   \n",
       "\n",
       "                                             Company Experience  \n",
       "0                         Pronto Consulting Services   6-10 Yrs  \n",
       "1                         Hexaware Technologies Ltd.   9-13 Yrs  \n",
       "2                                    Publicis Groupe    1-5 Yrs  \n",
       "3            POWER STORES E COMMERCE PRIVATE LIMITED    2-5 Yrs  \n",
       "4               Innovsource Services Private Limited    1-6 Yrs  \n",
       "5  Kelly Outsourcing and Consulting Group India P...   5-10 Yrs  \n",
       "6                                         BankBazaar    1-5 Yrs  \n",
       "7                                     Liventus, Inc.    5-8 Yrs  \n",
       "8                                 Novo Nordisk India   5-10 Yrs  \n",
       "9                                             NetApp    3-6 Yrs  "
      ]
     },
     "execution_count": 53,
     "metadata": {},
     "output_type": "execute_result"
    }
   ],
   "source": [
    "df= pd.DataFrame({\"Job Title\":job_title[0:10],\n",
    "                   \"Location\":location[0:10],\n",
    "                   \"Company\":company[0:10],\n",
    "                   \"Experience\":experience[0:10]})\n",
    "\n",
    "df"
   ]
  },
  {
   "cell_type": "code",
   "execution_count": null,
   "metadata": {},
   "outputs": [],
   "source": []
  },
  {
   "cell_type": "markdown",
   "metadata": {},
   "source": [
    "# Q2: Write a python program to scrape data for “Data Scientist” Job position in “Bangalore” location. You have to scrape the job-title, job-location, company_name, full job-description. You have to scrape first 10 jobs data."
   ]
  },
  {
   "cell_type": "code",
   "execution_count": 162,
   "metadata": {},
   "outputs": [],
   "source": [
    "url = \"https://www.naukri.com/\"\n",
    "driver.get(url)"
   ]
  },
  {
   "cell_type": "code",
   "execution_count": 163,
   "metadata": {},
   "outputs": [],
   "source": [
    "search_job = driver.find_element_by_id(\"qsb-keyword-sugg\")"
   ]
  },
  {
   "cell_type": "code",
   "execution_count": 164,
   "metadata": {},
   "outputs": [],
   "source": [
    "search_job.send_keys(\"Data Scientist\")"
   ]
  },
  {
   "cell_type": "code",
   "execution_count": 165,
   "metadata": {},
   "outputs": [],
   "source": [
    "loc=driver.find_element_by_id(\"qsb-location-sugg\")"
   ]
  },
  {
   "cell_type": "code",
   "execution_count": 166,
   "metadata": {},
   "outputs": [],
   "source": [
    "loc.send_keys(\"Banglore\")"
   ]
  },
  {
   "cell_type": "code",
   "execution_count": 167,
   "metadata": {},
   "outputs": [],
   "source": [
    "ser=driver.find_element_by_class_name(\"btn\")"
   ]
  },
  {
   "cell_type": "code",
   "execution_count": 168,
   "metadata": {},
   "outputs": [],
   "source": [
    "ser.click()"
   ]
  },
  {
   "cell_type": "code",
   "execution_count": 169,
   "metadata": {},
   "outputs": [],
   "source": [
    "job_tit=driver.find_elements_by_xpath(\"//a[@class='title fw500 ellipsis']\")"
   ]
  },
  {
   "cell_type": "code",
   "execution_count": 170,
   "metadata": {},
   "outputs": [
    {
     "data": {
      "text/plain": [
       "20"
      ]
     },
     "execution_count": 170,
     "metadata": {},
     "output_type": "execute_result"
    }
   ],
   "source": [
    "job_title=[]\n",
    "for i in job_tit:\n",
    "    job_title.append(i.text)\n",
    "    \n",
    "len(job_title)"
   ]
  },
  {
   "cell_type": "code",
   "execution_count": 171,
   "metadata": {},
   "outputs": [],
   "source": [
    "comp=driver.find_elements_by_xpath(\"//a[@class='subTitle ellipsis fleft']\")"
   ]
  },
  {
   "cell_type": "code",
   "execution_count": 172,
   "metadata": {},
   "outputs": [
    {
     "data": {
      "text/plain": [
       "20"
      ]
     },
     "execution_count": 172,
     "metadata": {},
     "output_type": "execute_result"
    }
   ],
   "source": [
    "company=[]\n",
    "for i in comp:\n",
    "    company.append(i.text)\n",
    "    \n",
    "len(company)"
   ]
  },
  {
   "cell_type": "code",
   "execution_count": 173,
   "metadata": {},
   "outputs": [],
   "source": [
    "loc=driver.find_elements_by_xpath(\"//li[@class='fleft grey-text br2 placeHolderLi location']\")"
   ]
  },
  {
   "cell_type": "code",
   "execution_count": 174,
   "metadata": {},
   "outputs": [
    {
     "data": {
      "text/plain": [
       "20"
      ]
     },
     "execution_count": 174,
     "metadata": {},
     "output_type": "execute_result"
    }
   ],
   "source": [
    "location=[]\n",
    "for i in loc:\n",
    "    location.append(i.text)\n",
    "    \n",
    "len(location)"
   ]
  },
  {
   "cell_type": "code",
   "execution_count": 175,
   "metadata": {},
   "outputs": [],
   "source": [
    "url= []\n",
    "for i in driver.find_elements_by_xpath('//a[@class=\"title fw500 ellipsis\"]'):\n",
    "    url.append(i.get_attribute('href'))"
   ]
  },
  {
   "cell_type": "code",
   "execution_count": 176,
   "metadata": {},
   "outputs": [
    {
     "data": {
      "text/plain": [
       "10"
      ]
     },
     "execution_count": 176,
     "metadata": {},
     "output_type": "execute_result"
    }
   ],
   "source": [
    "description =[]\n",
    "for i in url[0:14]: \n",
    "    driver.get(url=i)\n",
    "    desc = driver.find_elements_by_xpath('//*[@class=\"dang-inner-html\"]')\n",
    "    try:\n",
    "        for i in desc:\n",
    "            description.append(i.text.replace(\"\\n\",\"\"))\n",
    "    except:\n",
    "        description.append(None)\n",
    "len(description)  "
   ]
  },
  {
   "cell_type": "code",
   "execution_count": 177,
   "metadata": {},
   "outputs": [
    {
     "data": {
      "text/html": [
       "<div>\n",
       "<style scoped>\n",
       "    .dataframe tbody tr th:only-of-type {\n",
       "        vertical-align: middle;\n",
       "    }\n",
       "\n",
       "    .dataframe tbody tr th {\n",
       "        vertical-align: top;\n",
       "    }\n",
       "\n",
       "    .dataframe thead th {\n",
       "        text-align: right;\n",
       "    }\n",
       "</style>\n",
       "<table border=\"1\" class=\"dataframe\">\n",
       "  <thead>\n",
       "    <tr style=\"text-align: right;\">\n",
       "      <th></th>\n",
       "      <th>Job Title</th>\n",
       "      <th>Company</th>\n",
       "      <th>Location</th>\n",
       "      <th>Full description</th>\n",
       "    </tr>\n",
       "  </thead>\n",
       "  <tbody>\n",
       "    <tr>\n",
       "      <th>0</th>\n",
       "      <td>Data Scientist- Senior Business Analyst/Lead A...</td>\n",
       "      <td>Evalueserve.com Pvt. Ltd</td>\n",
       "      <td>Gurgaon/Gurugram, Bangalore/Bengaluru</td>\n",
       "      <td>Job DescriptionUnderstand and design analytica...</td>\n",
       "    </tr>\n",
       "    <tr>\n",
       "      <th>1</th>\n",
       "      <td>Senior Data Scientist</td>\n",
       "      <td>Signify</td>\n",
       "      <td>Bangalore/Bengaluru</td>\n",
       "      <td>What you ll doResearch, design and prototype r...</td>\n",
       "    </tr>\n",
       "    <tr>\n",
       "      <th>2</th>\n",
       "      <td>Senior Data Scientist (Analytics),</td>\n",
       "      <td>Luxoft</td>\n",
       "      <td>Bangalore/Bengaluru</td>\n",
       "      <td>Data and Analytics Proposal Responses for Cr...</td>\n",
       "    </tr>\n",
       "    <tr>\n",
       "      <th>3</th>\n",
       "      <td>Data Scientist: Advanced Analytics</td>\n",
       "      <td>IBM India Pvt. Limited</td>\n",
       "      <td>Bangalore/Bengaluru</td>\n",
       "      <td>Roles and ResponsibilitiesWell-versed in quant...</td>\n",
       "    </tr>\n",
       "    <tr>\n",
       "      <th>4</th>\n",
       "      <td>Data Scientist</td>\n",
       "      <td>IBM India Pvt. Limited</td>\n",
       "      <td>Bangalore/Bengaluru</td>\n",
       "      <td>Be a part of the Enterprise IT , Information...</td>\n",
       "    </tr>\n",
       "    <tr>\n",
       "      <th>5</th>\n",
       "      <td>Senior Data Scientist</td>\n",
       "      <td>SMITHS DETECTION SYSTEMS PRIVATE LIMITED</td>\n",
       "      <td>Bangalore/Bengaluru</td>\n",
       "      <td>- Ability to understand a problem statement an...</td>\n",
       "    </tr>\n",
       "    <tr>\n",
       "      <th>6</th>\n",
       "      <td>Lead Data Scientist</td>\n",
       "      <td>TransOrg Solutions Services (P) Ltd.</td>\n",
       "      <td>Bangalore/Bengaluru, Delhi / NCR, Mumbai (All ...</td>\n",
       "      <td>- Ability to understand a problem statement an...</td>\n",
       "    </tr>\n",
       "    <tr>\n",
       "      <th>7</th>\n",
       "      <td>Senior Data Scientist</td>\n",
       "      <td>Philips India Limited</td>\n",
       "      <td>Bangalore/Bengaluru</td>\n",
       "      <td>Provide advanced analytical capabilities to su...</td>\n",
       "    </tr>\n",
       "    <tr>\n",
       "      <th>8</th>\n",
       "      <td>Senior Data Scientist - KPO</td>\n",
       "      <td>TalentCo Search Pvt Ltd</td>\n",
       "      <td>Mumbai, Bangalore/Bengaluru, Delhi / NCR</td>\n",
       "      <td>Job Role ResponsibilitiesBe a part of a growin...</td>\n",
       "    </tr>\n",
       "    <tr>\n",
       "      <th>9</th>\n",
       "      <td>Senior Data Scientist</td>\n",
       "      <td>TalentCo Search Pvt Ltd</td>\n",
       "      <td>Mumbai, Delhi / NCR, Bangalore/Bengaluru</td>\n",
       "      <td>We are looking for a Data Scientist with 6+ ye...</td>\n",
       "    </tr>\n",
       "  </tbody>\n",
       "</table>\n",
       "</div>"
      ],
      "text/plain": [
       "                                           Job Title  \\\n",
       "0  Data Scientist- Senior Business Analyst/Lead A...   \n",
       "1                              Senior Data Scientist   \n",
       "2                 Senior Data Scientist (Analytics),   \n",
       "3                 Data Scientist: Advanced Analytics   \n",
       "4                                     Data Scientist   \n",
       "5                              Senior Data Scientist   \n",
       "6                                Lead Data Scientist   \n",
       "7                              Senior Data Scientist   \n",
       "8                        Senior Data Scientist - KPO   \n",
       "9                              Senior Data Scientist   \n",
       "\n",
       "                                    Company  \\\n",
       "0                  Evalueserve.com Pvt. Ltd   \n",
       "1                                   Signify   \n",
       "2                                    Luxoft   \n",
       "3                    IBM India Pvt. Limited   \n",
       "4                    IBM India Pvt. Limited   \n",
       "5  SMITHS DETECTION SYSTEMS PRIVATE LIMITED   \n",
       "6      TransOrg Solutions Services (P) Ltd.   \n",
       "7                     Philips India Limited   \n",
       "8                   TalentCo Search Pvt Ltd   \n",
       "9                   TalentCo Search Pvt Ltd   \n",
       "\n",
       "                                            Location  \\\n",
       "0              Gurgaon/Gurugram, Bangalore/Bengaluru   \n",
       "1                                Bangalore/Bengaluru   \n",
       "2                                Bangalore/Bengaluru   \n",
       "3                                Bangalore/Bengaluru   \n",
       "4                                Bangalore/Bengaluru   \n",
       "5                                Bangalore/Bengaluru   \n",
       "6  Bangalore/Bengaluru, Delhi / NCR, Mumbai (All ...   \n",
       "7                                Bangalore/Bengaluru   \n",
       "8           Mumbai, Bangalore/Bengaluru, Delhi / NCR   \n",
       "9           Mumbai, Delhi / NCR, Bangalore/Bengaluru   \n",
       "\n",
       "                                    Full description  \n",
       "0  Job DescriptionUnderstand and design analytica...  \n",
       "1  What you ll doResearch, design and prototype r...  \n",
       "2    Data and Analytics Proposal Responses for Cr...  \n",
       "3  Roles and ResponsibilitiesWell-versed in quant...  \n",
       "4    Be a part of the Enterprise IT , Information...  \n",
       "5  - Ability to understand a problem statement an...  \n",
       "6  - Ability to understand a problem statement an...  \n",
       "7  Provide advanced analytical capabilities to su...  \n",
       "8  Job Role ResponsibilitiesBe a part of a growin...  \n",
       "9  We are looking for a Data Scientist with 6+ ye...  "
      ]
     },
     "execution_count": 177,
     "metadata": {},
     "output_type": "execute_result"
    }
   ],
   "source": [
    "df = pd.DataFrame({\"Job Title\":job_title[0:10],\n",
    "                    \"Company\":company[0:10],\n",
    "                   \"Location\":location[0:10],\n",
    "                   \"Full description\":description[0:10]})\n",
    "df"
   ]
  },
  {
   "cell_type": "code",
   "execution_count": null,
   "metadata": {},
   "outputs": [],
   "source": []
  },
  {
   "cell_type": "code",
   "execution_count": null,
   "metadata": {},
   "outputs": [],
   "source": []
  },
  {
   "cell_type": "markdown",
   "metadata": {},
   "source": [
    "# Q3: In this question you have to scrape data using the filters available on the webpage as shown below:"
   ]
  },
  {
   "cell_type": "code",
   "execution_count": 12,
   "metadata": {},
   "outputs": [],
   "source": [
    "url = \"https://www.naukri.com/\"\n",
    "driver.get(url)"
   ]
  },
  {
   "cell_type": "code",
   "execution_count": 13,
   "metadata": {},
   "outputs": [],
   "source": [
    "search_job = driver.find_element_by_id(\"qsb-keyword-sugg\")"
   ]
  },
  {
   "cell_type": "code",
   "execution_count": 14,
   "metadata": {},
   "outputs": [],
   "source": [
    "search_job.send_keys(\"Data Scientist\")"
   ]
  },
  {
   "cell_type": "code",
   "execution_count": 15,
   "metadata": {},
   "outputs": [],
   "source": [
    "ser=driver.find_element_by_class_name(\"btn\")"
   ]
  },
  {
   "cell_type": "code",
   "execution_count": 16,
   "metadata": {},
   "outputs": [],
   "source": [
    "ser.click()"
   ]
  },
  {
   "cell_type": "code",
   "execution_count": 18,
   "metadata": {},
   "outputs": [],
   "source": [
    "checkbox = driver.find_element_by_xpath(\"/html/body/div[1]/div[3]/div[2]/section[1]/div[2]/div[3]/div[2]/div[3]/label/i\")"
   ]
  },
  {
   "cell_type": "code",
   "execution_count": 19,
   "metadata": {},
   "outputs": [],
   "source": [
    "checkbox.click()"
   ]
  },
  {
   "cell_type": "code",
   "execution_count": 21,
   "metadata": {},
   "outputs": [],
   "source": [
    "checkbox = driver.find_element_by_xpath(\"/html/body/div[1]/div[3]/div[2]/section[1]/div[2]/div[4]/div[2]/div[2]/label/i\")"
   ]
  },
  {
   "cell_type": "code",
   "execution_count": 22,
   "metadata": {},
   "outputs": [],
   "source": [
    "checkbox.click()"
   ]
  },
  {
   "cell_type": "code",
   "execution_count": 23,
   "metadata": {},
   "outputs": [],
   "source": [
    "job_title = driver.find_elements_by_xpath(\"//a[@class='title fw500 ellipsis']\")"
   ]
  },
  {
   "cell_type": "code",
   "execution_count": 24,
   "metadata": {},
   "outputs": [],
   "source": [
    "job_titles=[]\n",
    "for i in job_title:\n",
    "    job_titles.append(i.text)\n"
   ]
  },
  {
   "cell_type": "code",
   "execution_count": 25,
   "metadata": {},
   "outputs": [],
   "source": [
    "comp = driver.find_elements_by_xpath(\"//a[@class='subTitle ellipsis fleft']\")\n",
    "company =[]\n",
    "for i in comp:\n",
    "    company.append(i.text)"
   ]
  },
  {
   "cell_type": "code",
   "execution_count": 26,
   "metadata": {},
   "outputs": [],
   "source": [
    "loc = driver.find_elements_by_xpath(\"//li[@class='fleft grey-text br2 placeHolderLi location']\")\n",
    "location =[]\n",
    "for i in loc:\n",
    "    location.append(i.text)"
   ]
  },
  {
   "cell_type": "code",
   "execution_count": 27,
   "metadata": {},
   "outputs": [],
   "source": [
    "exp = driver.find_elements_by_xpath(\"//li[@class='fleft grey-text br2 placeHolderLi experience']\")\n",
    "experience =[]\n",
    "for i in exp:\n",
    "    experience.append(i.text)"
   ]
  },
  {
   "cell_type": "code",
   "execution_count": 28,
   "metadata": {},
   "outputs": [
    {
     "data": {
      "text/html": [
       "<div>\n",
       "<style scoped>\n",
       "    .dataframe tbody tr th:only-of-type {\n",
       "        vertical-align: middle;\n",
       "    }\n",
       "\n",
       "    .dataframe tbody tr th {\n",
       "        vertical-align: top;\n",
       "    }\n",
       "\n",
       "    .dataframe thead th {\n",
       "        text-align: right;\n",
       "    }\n",
       "</style>\n",
       "<table border=\"1\" class=\"dataframe\">\n",
       "  <thead>\n",
       "    <tr style=\"text-align: right;\">\n",
       "      <th></th>\n",
       "      <th>Job Title</th>\n",
       "      <th>Location</th>\n",
       "      <th>Company</th>\n",
       "      <th>Experience</th>\n",
       "    </tr>\n",
       "  </thead>\n",
       "  <tbody>\n",
       "    <tr>\n",
       "      <th>0</th>\n",
       "      <td>Data Scientist</td>\n",
       "      <td>Gurgaon/Gurugram</td>\n",
       "      <td>CBRE South Asia Pvt Ltd</td>\n",
       "      <td>2-4 Yrs</td>\n",
       "    </tr>\n",
       "    <tr>\n",
       "      <th>1</th>\n",
       "      <td>Data Scientist / Sr. Data Scientist</td>\n",
       "      <td>Noida, Pune, Mumbai (All Areas)</td>\n",
       "      <td>WEGARNER SOLUTIONS PRIVATE LIMITED</td>\n",
       "      <td>0-5 Yrs</td>\n",
       "    </tr>\n",
       "    <tr>\n",
       "      <th>2</th>\n",
       "      <td>Only Fresher / Data Scientist / Data Analyst /...</td>\n",
       "      <td>Noida, Gurgaon/Gurugram, Delhi / NCR</td>\n",
       "      <td>GABA Consultancy services</td>\n",
       "      <td>0-0 Yrs</td>\n",
       "    </tr>\n",
       "    <tr>\n",
       "      <th>3</th>\n",
       "      <td>Data Scientist / Data Analyst</td>\n",
       "      <td>Gurgaon/Gurugram</td>\n",
       "      <td>CARS24</td>\n",
       "      <td>1-5 Yrs</td>\n",
       "    </tr>\n",
       "    <tr>\n",
       "      <th>4</th>\n",
       "      <td>Immediate Openings For DATA Scientist with 6 T...</td>\n",
       "      <td>Kolkata, Hyderabad/Secunderabad, Pune, Ahmedab...</td>\n",
       "      <td>Entune IT Consulting Private Limited</td>\n",
       "      <td>5-8 Yrs</td>\n",
       "    </tr>\n",
       "    <tr>\n",
       "      <th>5</th>\n",
       "      <td>Data Scientist</td>\n",
       "      <td>Gurgaon/Gurugram</td>\n",
       "      <td>Decimal Technologies Pvt Ltd.</td>\n",
       "      <td>1-3 Yrs</td>\n",
       "    </tr>\n",
       "    <tr>\n",
       "      <th>6</th>\n",
       "      <td>Senior Data Scientist - Noida</td>\n",
       "      <td>Noida</td>\n",
       "      <td>Optum Global Solutions (India) Private Limited</td>\n",
       "      <td>2-6 Yrs</td>\n",
       "    </tr>\n",
       "    <tr>\n",
       "      <th>7</th>\n",
       "      <td>Data Scientist</td>\n",
       "      <td>Noida(Sector-59 Noida)</td>\n",
       "      <td>R Systems International Ltd.</td>\n",
       "      <td>5-10 Yrs</td>\n",
       "    </tr>\n",
       "    <tr>\n",
       "      <th>8</th>\n",
       "      <td>Hiring Data Scientist Develope || IDS Infotech...</td>\n",
       "      <td>Chandigarh, Hyderabad/Secunderabad, Chennai, B...</td>\n",
       "      <td>IDS Infotech Ltd.</td>\n",
       "      <td>5-10 Yrs</td>\n",
       "    </tr>\n",
       "    <tr>\n",
       "      <th>9</th>\n",
       "      <td>Hiring Data Scientist Develope || IDS Infotech...</td>\n",
       "      <td>Chandigarh, Hyderabad/Secunderabad, Chennai, B...</td>\n",
       "      <td>IDS Infotech Ltd.</td>\n",
       "      <td>5-10 Yrs</td>\n",
       "    </tr>\n",
       "  </tbody>\n",
       "</table>\n",
       "</div>"
      ],
      "text/plain": [
       "                                           Job Title  \\\n",
       "0                                     Data Scientist   \n",
       "1                Data Scientist / Sr. Data Scientist   \n",
       "2  Only Fresher / Data Scientist / Data Analyst /...   \n",
       "3                      Data Scientist / Data Analyst   \n",
       "4  Immediate Openings For DATA Scientist with 6 T...   \n",
       "5                                     Data Scientist   \n",
       "6                      Senior Data Scientist - Noida   \n",
       "7                                     Data Scientist   \n",
       "8  Hiring Data Scientist Develope || IDS Infotech...   \n",
       "9  Hiring Data Scientist Develope || IDS Infotech...   \n",
       "\n",
       "                                            Location  \\\n",
       "0                                   Gurgaon/Gurugram   \n",
       "1                    Noida, Pune, Mumbai (All Areas)   \n",
       "2               Noida, Gurgaon/Gurugram, Delhi / NCR   \n",
       "3                                   Gurgaon/Gurugram   \n",
       "4  Kolkata, Hyderabad/Secunderabad, Pune, Ahmedab...   \n",
       "5                                   Gurgaon/Gurugram   \n",
       "6                                              Noida   \n",
       "7                             Noida(Sector-59 Noida)   \n",
       "8  Chandigarh, Hyderabad/Secunderabad, Chennai, B...   \n",
       "9  Chandigarh, Hyderabad/Secunderabad, Chennai, B...   \n",
       "\n",
       "                                          Company Experience  \n",
       "0                         CBRE South Asia Pvt Ltd    2-4 Yrs  \n",
       "1              WEGARNER SOLUTIONS PRIVATE LIMITED    0-5 Yrs  \n",
       "2                       GABA Consultancy services    0-0 Yrs  \n",
       "3                                          CARS24    1-5 Yrs  \n",
       "4            Entune IT Consulting Private Limited    5-8 Yrs  \n",
       "5                   Decimal Technologies Pvt Ltd.    1-3 Yrs  \n",
       "6  Optum Global Solutions (India) Private Limited    2-6 Yrs  \n",
       "7                    R Systems International Ltd.   5-10 Yrs  \n",
       "8                               IDS Infotech Ltd.   5-10 Yrs  \n",
       "9                               IDS Infotech Ltd.   5-10 Yrs  "
      ]
     },
     "execution_count": 28,
     "metadata": {},
     "output_type": "execute_result"
    }
   ],
   "source": [
    "df3 = pd.DataFrame({\"Job Title\":job_titles[0:10],\n",
    "                   \"Location\":location[0:10],\n",
    "                   \"Company\":company[0:10],\n",
    "                   \"Experience\":experience[0:10]})\n",
    "df3"
   ]
  },
  {
   "cell_type": "code",
   "execution_count": null,
   "metadata": {},
   "outputs": [],
   "source": []
  },
  {
   "cell_type": "code",
   "execution_count": null,
   "metadata": {},
   "outputs": [],
   "source": []
  },
  {
   "cell_type": "code",
   "execution_count": null,
   "metadata": {},
   "outputs": [],
   "source": []
  },
  {
   "cell_type": "markdown",
   "metadata": {},
   "source": [
    "# Q7: Scrape 100 reviews data from flipkart.com for iphone11 phone."
   ]
  },
  {
   "cell_type": "code",
   "execution_count": 132,
   "metadata": {},
   "outputs": [],
   "source": [
    "driver.get(\"https://www.flipkart.com/apple-iphone-11-black-64-gb-includes\u0002earpods-power\u0002adapter/p/itm0f37c2240b217?pid=MOBFKCTSVZAXUHGR&lid=LSTMOBFKCTSVZAXUHGREPBFGI&marketplace.\")"
   ]
  },
  {
   "cell_type": "code",
   "execution_count": 112,
   "metadata": {},
   "outputs": [],
   "source": [
    "all=driver.find_element_by_xpath('/html/body/div[1]/div/div[3]/div[1]/div[2]/div[8]/div/div/div[5]/div/a/div/span')\n",
    "all.click()"
   ]
  },
  {
   "cell_type": "code",
   "execution_count": 113,
   "metadata": {},
   "outputs": [],
   "source": [
    "a=[]\n",
    "for i in driver.find_elements_by_xpath('//div[@class=\"_2MImiq _1Qnn1K\"]//a'):\n",
    "    a.append(i.get_attribute('href'))"
   ]
  },
  {
   "cell_type": "code",
   "execution_count": 129,
   "metadata": {},
   "outputs": [],
   "source": [
    "rat=[]\n",
    "rev=[]\n",
    "des=[]\n",
    "for i in a:\n",
    "    driver.get(i)\n",
    "    try:\n",
    "        for i in driver.find_elements_by_xpath('//div[@class=\"_3LWZlK _1BLPMq\"]'):\n",
    "            rat.append(i.text)\n",
    "    except:\n",
    "        \"None\"\n",
    "    try:\n",
    "        for i in driver.find_elements_by_xpath('//p[@class=\"_2-N8zT\"]'):\n",
    "            rev.append(i.text)\n",
    "    except:\n",
    "        \"None\"\n",
    "    try:\n",
    "        for i in driver.find_elements_by_xpath('//div[@class=\"t-ZTKy\"]'):\n",
    "            des.append(i.text)\n",
    "    except:\n",
    "        \"None\""
   ]
  },
  {
   "cell_type": "code",
   "execution_count": 131,
   "metadata": {},
   "outputs": [
    {
     "data": {
      "text/html": [
       "<div>\n",
       "<style scoped>\n",
       "    .dataframe tbody tr th:only-of-type {\n",
       "        vertical-align: middle;\n",
       "    }\n",
       "\n",
       "    .dataframe tbody tr th {\n",
       "        vertical-align: top;\n",
       "    }\n",
       "\n",
       "    .dataframe thead th {\n",
       "        text-align: right;\n",
       "    }\n",
       "</style>\n",
       "<table border=\"1\" class=\"dataframe\">\n",
       "  <thead>\n",
       "    <tr style=\"text-align: right;\">\n",
       "      <th></th>\n",
       "      <th>Rating</th>\n",
       "      <th>Review</th>\n",
       "      <th>Full Review</th>\n",
       "    </tr>\n",
       "  </thead>\n",
       "  <tbody>\n",
       "    <tr>\n",
       "      <th>0</th>\n",
       "      <td>5</td>\n",
       "      <td>Simply awesome</td>\n",
       "      <td>Really satisfied with the Product I received.....</td>\n",
       "    </tr>\n",
       "    <tr>\n",
       "      <th>1</th>\n",
       "      <td>5</td>\n",
       "      <td>Brilliant</td>\n",
       "      <td>The Best Phone for the Money\\n\\nThe iPhone 11 ...</td>\n",
       "    </tr>\n",
       "    <tr>\n",
       "      <th>2</th>\n",
       "      <td>5</td>\n",
       "      <td>Fabulous!</td>\n",
       "      <td>This is my first iOS phone. I am very happy wi...</td>\n",
       "    </tr>\n",
       "    <tr>\n",
       "      <th>3</th>\n",
       "      <td>5</td>\n",
       "      <td>Perfect product!</td>\n",
       "      <td>Amazing phone with great cameras and better ba...</td>\n",
       "    </tr>\n",
       "    <tr>\n",
       "      <th>4</th>\n",
       "      <td>5</td>\n",
       "      <td>Worth every penny</td>\n",
       "      <td>Previously I was using one plus 3t it was a gr...</td>\n",
       "    </tr>\n",
       "    <tr>\n",
       "      <th>...</th>\n",
       "      <td>...</td>\n",
       "      <td>...</td>\n",
       "      <td>...</td>\n",
       "    </tr>\n",
       "    <tr>\n",
       "      <th>95</th>\n",
       "      <td>5</td>\n",
       "      <td>Mind-blowing purchase</td>\n",
       "      <td>Excellent camera 📸 And Display touching very N...</td>\n",
       "    </tr>\n",
       "    <tr>\n",
       "      <th>96</th>\n",
       "      <td>5</td>\n",
       "      <td>Excellent</td>\n",
       "      <td>A perfect phone and a good battery super camer...</td>\n",
       "    </tr>\n",
       "    <tr>\n",
       "      <th>97</th>\n",
       "      <td>5</td>\n",
       "      <td>Fabulous!</td>\n",
       "      <td>Everything is perfect pictures come out so cle...</td>\n",
       "    </tr>\n",
       "    <tr>\n",
       "      <th>98</th>\n",
       "      <td>5</td>\n",
       "      <td>Excellent</td>\n",
       "      <td>Value for money product. This iphone 11 is rea...</td>\n",
       "    </tr>\n",
       "    <tr>\n",
       "      <th>99</th>\n",
       "      <td>5</td>\n",
       "      <td>Wonderful</td>\n",
       "      <td>Super and marvellous phone look very cute and ...</td>\n",
       "    </tr>\n",
       "  </tbody>\n",
       "</table>\n",
       "<p>100 rows × 3 columns</p>\n",
       "</div>"
      ],
      "text/plain": [
       "   Rating                 Review  \\\n",
       "0       5         Simply awesome   \n",
       "1       5              Brilliant   \n",
       "2       5              Fabulous!   \n",
       "3       5       Perfect product!   \n",
       "4       5      Worth every penny   \n",
       "..    ...                    ...   \n",
       "95      5  Mind-blowing purchase   \n",
       "96      5              Excellent   \n",
       "97      5              Fabulous!   \n",
       "98      5              Excellent   \n",
       "99      5              Wonderful   \n",
       "\n",
       "                                          Full Review  \n",
       "0   Really satisfied with the Product I received.....  \n",
       "1   The Best Phone for the Money\\n\\nThe iPhone 11 ...  \n",
       "2   This is my first iOS phone. I am very happy wi...  \n",
       "3   Amazing phone with great cameras and better ba...  \n",
       "4   Previously I was using one plus 3t it was a gr...  \n",
       "..                                                ...  \n",
       "95  Excellent camera 📸 And Display touching very N...  \n",
       "96  A perfect phone and a good battery super camer...  \n",
       "97  Everything is perfect pictures come out so cle...  \n",
       "98  Value for money product. This iphone 11 is rea...  \n",
       "99  Super and marvellous phone look very cute and ...  \n",
       "\n",
       "[100 rows x 3 columns]"
      ]
     },
     "execution_count": 131,
     "metadata": {},
     "output_type": "execute_result"
    }
   ],
   "source": [
    "df= pd.DataFrame({\"Rating\":rat[0:100],\n",
    "                   \"Review\":rev[0:100],\n",
    "                   \"Full Review\":des[0:100]})\n",
    "\n",
    "df"
   ]
  },
  {
   "cell_type": "markdown",
   "metadata": {},
   "source": [
    "# Q8: Scrape data for first 100 sneakers you find when you visit flipkart.com and search for “sneakers” in the search field."
   ]
  },
  {
   "cell_type": "code",
   "execution_count": 5,
   "metadata": {},
   "outputs": [],
   "source": [
    "driver.get(\"https://www.flipkart.com/\")"
   ]
  },
  {
   "cell_type": "code",
   "execution_count": 6,
   "metadata": {},
   "outputs": [],
   "source": [
    "search = driver.find_element_by_class_name(\"_3704LK\")"
   ]
  },
  {
   "cell_type": "code",
   "execution_count": 6,
   "metadata": {},
   "outputs": [],
   "source": [
    "search.send_keys(\"sneakers\")"
   ]
  },
  {
   "cell_type": "code",
   "execution_count": 7,
   "metadata": {},
   "outputs": [],
   "source": [
    "btn=driver.find_element_by_class_name('L0Z3Pu')"
   ]
  },
  {
   "cell_type": "code",
   "execution_count": 8,
   "metadata": {},
   "outputs": [],
   "source": [
    "btn.click()"
   ]
  },
  {
   "cell_type": "code",
   "execution_count": 9,
   "metadata": {},
   "outputs": [],
   "source": [
    "a=[]\n",
    "for i in driver.find_elements_by_xpath('//div[@class=\"_2MImiq\"]//a'):\n",
    "    a.append(i.get_attribute('href'))"
   ]
  },
  {
   "cell_type": "code",
   "execution_count": 10,
   "metadata": {},
   "outputs": [],
   "source": [
    "brand=[]\n",
    "price=[]\n",
    "discount=[]\n",
    "product=[]\n",
    "\n",
    "for i in a[0:4]:\n",
    "    driver.get(i)\n",
    "    try:\n",
    "        for i in driver.find_elements_by_xpath('//div[@class=\"_2WkVRV\"]'):\n",
    "            brand.append(i.text)\n",
    "    except:\n",
    "        \"None\"\n",
    "    try:\n",
    "        for i in driver.find_elements_by_xpath('//div[@class=\"_3Ay6Sb\"]'):\n",
    "            discount.append(i.text)\n",
    "    except:\n",
    "        \"None\"\n",
    "    try:\n",
    "        for i in driver.find_elements_by_xpath('//div[@class=\"_30jeq3\"]'):\n",
    "            price.append(i.text)\n",
    "    except:\n",
    "        \"None\"\n",
    "    try:\n",
    "        for i in driver.find_elements_by_class_name(\"IRpwTa\"):\n",
    "            product.append(i.text)\n",
    "    except:\n",
    "        \"None\""
   ]
  },
  {
   "cell_type": "code",
   "execution_count": 11,
   "metadata": {},
   "outputs": [
    {
     "data": {
      "text/plain": [
       "(160, 159, 160, 160)"
      ]
     },
     "execution_count": 11,
     "metadata": {},
     "output_type": "execute_result"
    }
   ],
   "source": [
    "len(product),len(discount),len(price),len(brand)"
   ]
  },
  {
   "cell_type": "code",
   "execution_count": 12,
   "metadata": {},
   "outputs": [
    {
     "data": {
      "text/html": [
       "<div>\n",
       "<style scoped>\n",
       "    .dataframe tbody tr th:only-of-type {\n",
       "        vertical-align: middle;\n",
       "    }\n",
       "\n",
       "    .dataframe tbody tr th {\n",
       "        vertical-align: top;\n",
       "    }\n",
       "\n",
       "    .dataframe thead th {\n",
       "        text-align: right;\n",
       "    }\n",
       "</style>\n",
       "<table border=\"1\" class=\"dataframe\">\n",
       "  <thead>\n",
       "    <tr style=\"text-align: right;\">\n",
       "      <th></th>\n",
       "      <th>Brand</th>\n",
       "      <th>Price</th>\n",
       "      <th>Discount</th>\n",
       "      <th>Product Des</th>\n",
       "    </tr>\n",
       "  </thead>\n",
       "  <tbody>\n",
       "    <tr>\n",
       "      <th>0</th>\n",
       "      <td>DUCATI</td>\n",
       "      <td>₹1,289</td>\n",
       "      <td>65% off</td>\n",
       "      <td>Sneakers For Men</td>\n",
       "    </tr>\n",
       "    <tr>\n",
       "      <th>1</th>\n",
       "      <td>DUCATI</td>\n",
       "      <td>₹1,445</td>\n",
       "      <td>60% off</td>\n",
       "      <td>Sneakers For Men</td>\n",
       "    </tr>\n",
       "    <tr>\n",
       "      <th>2</th>\n",
       "      <td>Chevit</td>\n",
       "      <td>₹449</td>\n",
       "      <td>70% off</td>\n",
       "      <td>Unique &amp; Perfect Collection Combo Pack of 02 S...</td>\n",
       "    </tr>\n",
       "    <tr>\n",
       "      <th>3</th>\n",
       "      <td>Chevit</td>\n",
       "      <td>₹599</td>\n",
       "      <td>62% off</td>\n",
       "      <td>Super Stylish &amp; Trendy Combo Pack of 02 Pairs ...</td>\n",
       "    </tr>\n",
       "    <tr>\n",
       "      <th>4</th>\n",
       "      <td>BRUTON</td>\n",
       "      <td>₹499</td>\n",
       "      <td>80% off</td>\n",
       "      <td>Modern &amp; Trendy Collection Combo Pack of 02 Sh...</td>\n",
       "    </tr>\n",
       "    <tr>\n",
       "      <th>...</th>\n",
       "      <td>...</td>\n",
       "      <td>...</td>\n",
       "      <td>...</td>\n",
       "      <td>...</td>\n",
       "    </tr>\n",
       "    <tr>\n",
       "      <th>95</th>\n",
       "      <td>Numenzo</td>\n",
       "      <td>₹426</td>\n",
       "      <td>48% off</td>\n",
       "      <td>Sneakers For Men</td>\n",
       "    </tr>\n",
       "    <tr>\n",
       "      <th>96</th>\n",
       "      <td>SHOE ISLAND</td>\n",
       "      <td>₹519</td>\n",
       "      <td>69% off</td>\n",
       "      <td>Sneakers For Men</td>\n",
       "    </tr>\n",
       "    <tr>\n",
       "      <th>97</th>\n",
       "      <td>Zsyto</td>\n",
       "      <td>₹398</td>\n",
       "      <td>72% off</td>\n",
       "      <td>Sneakers For Men</td>\n",
       "    </tr>\n",
       "    <tr>\n",
       "      <th>98</th>\n",
       "      <td>PROVOGUE</td>\n",
       "      <td>₹559</td>\n",
       "      <td>75% off</td>\n",
       "      <td>Sneakers For Men</td>\n",
       "    </tr>\n",
       "    <tr>\n",
       "      <th>99</th>\n",
       "      <td>ASTEROID</td>\n",
       "      <td>₹499</td>\n",
       "      <td>56% off</td>\n",
       "      <td>Original Luxury Branded Fashionable Men's Casu...</td>\n",
       "    </tr>\n",
       "  </tbody>\n",
       "</table>\n",
       "<p>100 rows × 4 columns</p>\n",
       "</div>"
      ],
      "text/plain": [
       "          Brand   Price Discount  \\\n",
       "0        DUCATI  ₹1,289  65% off   \n",
       "1        DUCATI  ₹1,445  60% off   \n",
       "2        Chevit    ₹449  70% off   \n",
       "3        Chevit    ₹599  62% off   \n",
       "4        BRUTON    ₹499  80% off   \n",
       "..          ...     ...      ...   \n",
       "95      Numenzo    ₹426  48% off   \n",
       "96  SHOE ISLAND    ₹519  69% off   \n",
       "97        Zsyto    ₹398  72% off   \n",
       "98     PROVOGUE    ₹559  75% off   \n",
       "99     ASTEROID    ₹499  56% off   \n",
       "\n",
       "                                          Product Des  \n",
       "0                                    Sneakers For Men  \n",
       "1                                    Sneakers For Men  \n",
       "2   Unique & Perfect Collection Combo Pack of 02 S...  \n",
       "3   Super Stylish & Trendy Combo Pack of 02 Pairs ...  \n",
       "4   Modern & Trendy Collection Combo Pack of 02 Sh...  \n",
       "..                                                ...  \n",
       "95                                   Sneakers For Men  \n",
       "96                                   Sneakers For Men  \n",
       "97                                   Sneakers For Men  \n",
       "98                                   Sneakers For Men  \n",
       "99  Original Luxury Branded Fashionable Men's Casu...  \n",
       "\n",
       "[100 rows x 4 columns]"
      ]
     },
     "execution_count": 12,
     "metadata": {},
     "output_type": "execute_result"
    }
   ],
   "source": [
    "df= pd.DataFrame({\"Brand\":brand[0:100],\n",
    "                   \"Price\":price[0:100],\n",
    "                   \"Discount\":discount[0:100],\n",
    "                    \"Product Des\":product[0:100]})\n",
    "\n",
    "df"
   ]
  },
  {
   "cell_type": "code",
   "execution_count": null,
   "metadata": {},
   "outputs": [],
   "source": []
  },
  {
   "cell_type": "markdown",
   "metadata": {},
   "source": [
    " # Q6 : Scrape data of first 100 sunglasses listings on flipkart.com. You have to scrape four attributes"
   ]
  },
  {
   "cell_type": "code",
   "execution_count": 4,
   "metadata": {},
   "outputs": [],
   "source": [
    "driver.get(\"https://www.flipkart.com/\")"
   ]
  },
  {
   "cell_type": "code",
   "execution_count": 5,
   "metadata": {},
   "outputs": [],
   "source": [
    "search = driver.find_element_by_class_name(\"_3704LK\")"
   ]
  },
  {
   "cell_type": "code",
   "execution_count": 6,
   "metadata": {},
   "outputs": [],
   "source": [
    "search.send_keys(\"sunglasses\")"
   ]
  },
  {
   "cell_type": "code",
   "execution_count": 7,
   "metadata": {},
   "outputs": [],
   "source": [
    "btn=driver.find_element_by_class_name('L0Z3Pu')\n",
    "btn.click()"
   ]
  },
  {
   "cell_type": "code",
   "execution_count": 10,
   "metadata": {},
   "outputs": [],
   "source": [
    "urls=[]\n",
    "for i in driver.find_elements_by_xpath('//div[@class=\"_2MImiq\"]//a'):\n",
    "    urls.append(i.get_attribute('href'))\n",
    "    "
   ]
  },
  {
   "cell_type": "code",
   "execution_count": 19,
   "metadata": {},
   "outputs": [],
   "source": [
    "name=[]\n",
    "descr=[]\n",
    "price=[]\n",
    "discount=[]"
   ]
  },
  {
   "cell_type": "code",
   "execution_count": 20,
   "metadata": {},
   "outputs": [],
   "source": [
    "for i in urls[0:3]:\n",
    "    driver.get(i)\n",
    "    try:\n",
    "        product = driver.find_elements_by_class_name(\"_2WkVRV\")\n",
    "        for i in product:\n",
    "            name.append(i.text)\n",
    "    except:\n",
    "        product.append(\"--\")\n",
    "\n",
    "\n",
    "    des = driver.find_elements_by_class_name(\"IRpwTa\") \n",
    "    for i in des:\n",
    "        descr.append(i.text)\n",
    "\n",
    "    for i in driver.find_elements_by_xpath(\"//div[@class='_30jeq3']\"):\n",
    "        price.append(i.text)\n",
    "\n",
    "    for i in driver.find_elements_by_xpath(\"//div[@class='_3Ay6Sb']\"):\n",
    "        discount.append(i.text)"
   ]
  },
  {
   "cell_type": "code",
   "execution_count": 22,
   "metadata": {},
   "outputs": [
    {
     "data": {
      "text/html": [
       "<div>\n",
       "<style scoped>\n",
       "    .dataframe tbody tr th:only-of-type {\n",
       "        vertical-align: middle;\n",
       "    }\n",
       "\n",
       "    .dataframe tbody tr th {\n",
       "        vertical-align: top;\n",
       "    }\n",
       "\n",
       "    .dataframe thead th {\n",
       "        text-align: right;\n",
       "    }\n",
       "</style>\n",
       "<table border=\"1\" class=\"dataframe\">\n",
       "  <thead>\n",
       "    <tr style=\"text-align: right;\">\n",
       "      <th></th>\n",
       "      <th>Brand</th>\n",
       "      <th>Product Description</th>\n",
       "      <th>Price</th>\n",
       "      <th>Discount %</th>\n",
       "    </tr>\n",
       "  </thead>\n",
       "  <tbody>\n",
       "    <tr>\n",
       "      <th>0</th>\n",
       "      <td>Elligator</td>\n",
       "      <td>UV Protection Round Sunglasses (54)</td>\n",
       "      <td>₹295</td>\n",
       "      <td>88% off</td>\n",
       "    </tr>\n",
       "    <tr>\n",
       "      <th>1</th>\n",
       "      <td>Fastrack</td>\n",
       "      <td>UV Protection Rectangular Sunglasses (Free Size)</td>\n",
       "      <td>₹513</td>\n",
       "      <td>35% off</td>\n",
       "    </tr>\n",
       "    <tr>\n",
       "      <th>2</th>\n",
       "      <td>kingsunglasses</td>\n",
       "      <td>Mirrored, UV Protection Wayfarer Sunglasses (F...</td>\n",
       "      <td>₹299</td>\n",
       "      <td>88% off</td>\n",
       "    </tr>\n",
       "    <tr>\n",
       "      <th>3</th>\n",
       "      <td>Fastrack</td>\n",
       "      <td>UV Protection Wayfarer Sunglasses (Free Size)</td>\n",
       "      <td>₹758</td>\n",
       "      <td>15% off</td>\n",
       "    </tr>\n",
       "    <tr>\n",
       "      <th>4</th>\n",
       "      <td>PIRASO</td>\n",
       "      <td>UV Protection Aviator Sunglasses (54)</td>\n",
       "      <td>₹237</td>\n",
       "      <td>85% off</td>\n",
       "    </tr>\n",
       "    <tr>\n",
       "      <th>...</th>\n",
       "      <td>...</td>\n",
       "      <td>...</td>\n",
       "      <td>...</td>\n",
       "      <td>...</td>\n",
       "    </tr>\n",
       "    <tr>\n",
       "      <th>95</th>\n",
       "      <td>ROADWAY</td>\n",
       "      <td>UV Protection Retro Square, Sports Sunglasses ...</td>\n",
       "      <td>₹294</td>\n",
       "      <td>80% off</td>\n",
       "    </tr>\n",
       "    <tr>\n",
       "      <th>96</th>\n",
       "      <td>Wrogn</td>\n",
       "      <td>UV Protection Wayfarer Sunglasses (56)</td>\n",
       "      <td>₹684</td>\n",
       "      <td>73% off</td>\n",
       "    </tr>\n",
       "    <tr>\n",
       "      <th>97</th>\n",
       "      <td>PHENOMENAL</td>\n",
       "      <td>UV Protection, Mirrored, Gradient Retro Square...</td>\n",
       "      <td>₹246</td>\n",
       "      <td>87% off</td>\n",
       "    </tr>\n",
       "    <tr>\n",
       "      <th>98</th>\n",
       "      <td>NuVew</td>\n",
       "      <td>UV Protection Sports Sunglasses (73)</td>\n",
       "      <td>₹348</td>\n",
       "      <td>72% off</td>\n",
       "    </tr>\n",
       "    <tr>\n",
       "      <th>99</th>\n",
       "      <td>ROYAL SON</td>\n",
       "      <td>Polarized, UV Protection Round Sunglasses (49)</td>\n",
       "      <td>₹664</td>\n",
       "      <td>66% off</td>\n",
       "    </tr>\n",
       "  </tbody>\n",
       "</table>\n",
       "<p>100 rows × 4 columns</p>\n",
       "</div>"
      ],
      "text/plain": [
       "             Brand                                Product Description Price  \\\n",
       "0        Elligator                UV Protection Round Sunglasses (54)  ₹295   \n",
       "1         Fastrack   UV Protection Rectangular Sunglasses (Free Size)  ₹513   \n",
       "2   kingsunglasses  Mirrored, UV Protection Wayfarer Sunglasses (F...  ₹299   \n",
       "3         Fastrack      UV Protection Wayfarer Sunglasses (Free Size)  ₹758   \n",
       "4           PIRASO              UV Protection Aviator Sunglasses (54)  ₹237   \n",
       "..             ...                                                ...   ...   \n",
       "95         ROADWAY  UV Protection Retro Square, Sports Sunglasses ...  ₹294   \n",
       "96           Wrogn             UV Protection Wayfarer Sunglasses (56)  ₹684   \n",
       "97      PHENOMENAL  UV Protection, Mirrored, Gradient Retro Square...  ₹246   \n",
       "98           NuVew               UV Protection Sports Sunglasses (73)  ₹348   \n",
       "99       ROYAL SON     Polarized, UV Protection Round Sunglasses (49)  ₹664   \n",
       "\n",
       "   Discount %  \n",
       "0     88% off  \n",
       "1     35% off  \n",
       "2     88% off  \n",
       "3     15% off  \n",
       "4     85% off  \n",
       "..        ...  \n",
       "95    80% off  \n",
       "96    73% off  \n",
       "97    87% off  \n",
       "98    72% off  \n",
       "99    66% off  \n",
       "\n",
       "[100 rows x 4 columns]"
      ]
     },
     "execution_count": 22,
     "metadata": {},
     "output_type": "execute_result"
    }
   ],
   "source": [
    "df = pd.DataFrame({\"Brand\":name[0:100],\n",
    "                   \"Product Description\":descr[0:100],\n",
    "                   \"Price\":price[0:100],\n",
    "                   \"Discount %\":discount[0:100]})\n",
    "df"
   ]
  },
  {
   "cell_type": "code",
   "execution_count": null,
   "metadata": {},
   "outputs": [],
   "source": []
  },
  {
   "cell_type": "markdown",
   "metadata": {},
   "source": [
    "# Q9: Go to the link- https://www.myntra.com/shoes Set Price filter to “Rs. 6649 to Rs. 13099” , Color filter to “Black”, as shown inthe below image"
   ]
  },
  {
   "cell_type": "code",
   "execution_count": 51,
   "metadata": {},
   "outputs": [],
   "source": [
    "driver.get(\"https://www.myntra.com/shoes\")"
   ]
  },
  {
   "cell_type": "code",
   "execution_count": 52,
   "metadata": {},
   "outputs": [],
   "source": [
    "col=driver.find_element_by_xpath('/html/body/div[2]/div/div[1]/main/div[3]/div[1]/section/div/div[6]/ul/li[1]/label/div')\n",
    "col.click()"
   ]
  },
  {
   "cell_type": "code",
   "execution_count": 53,
   "metadata": {},
   "outputs": [],
   "source": [
    "price=driver.find_element_by_xpath('/html/body/div[2]/div/div[1]/main/div[3]/div[1]/section/div/div[5]/ul/li[2]/label/div')\n",
    "price.click()"
   ]
  },
  {
   "cell_type": "code",
   "execution_count": 54,
   "metadata": {},
   "outputs": [],
   "source": [
    "a=[]\n",
    "for i in driver.find_elements_by_xpath('//ul[@class=\"pagination-container\"]//a'):\n",
    "    a.append(i.get_attribute('href'))"
   ]
  },
  {
   "cell_type": "code",
   "execution_count": 56,
   "metadata": {},
   "outputs": [],
   "source": [
    "brand=[]\n",
    "price=[]\n",
    "product=[]\n",
    "\n",
    "for i in a[0:4]:\n",
    "    driver.get(i)\n",
    "    try:\n",
    "        for i in driver.find_elements_by_xpath('//h3[@class=\"product-brand\"]'):\n",
    "            brand.append(i.text)\n",
    "    except:\n",
    "        \"None\"\n",
    "    try:\n",
    "        for i in driver.find_elements_by_xpath('//div[@class=\"product-price\"]'):\n",
    "            price.append(i.text)\n",
    "    except:\n",
    "        \"None\"\n",
    "    try:\n",
    "        for i in driver.find_elements_by_xpath('//h4[@class=\"product-product\"]'):\n",
    "            product.append(i.text)\n",
    "    except:\n",
    "        \"None\"\n",
    "   "
   ]
  },
  {
   "cell_type": "code",
   "execution_count": 59,
   "metadata": {},
   "outputs": [
    {
     "data": {
      "text/plain": [
       "200"
      ]
     },
     "execution_count": 59,
     "metadata": {},
     "output_type": "execute_result"
    }
   ],
   "source": [
    "len(price)"
   ]
  },
  {
   "cell_type": "code",
   "execution_count": 58,
   "metadata": {},
   "outputs": [
    {
     "data": {
      "text/html": [
       "<div>\n",
       "<style scoped>\n",
       "    .dataframe tbody tr th:only-of-type {\n",
       "        vertical-align: middle;\n",
       "    }\n",
       "\n",
       "    .dataframe tbody tr th {\n",
       "        vertical-align: top;\n",
       "    }\n",
       "\n",
       "    .dataframe thead th {\n",
       "        text-align: right;\n",
       "    }\n",
       "</style>\n",
       "<table border=\"1\" class=\"dataframe\">\n",
       "  <thead>\n",
       "    <tr style=\"text-align: right;\">\n",
       "      <th></th>\n",
       "      <th>Brand</th>\n",
       "      <th>Price</th>\n",
       "      <th>Product Des</th>\n",
       "    </tr>\n",
       "  </thead>\n",
       "  <tbody>\n",
       "    <tr>\n",
       "      <th>0</th>\n",
       "      <td>ALDO</td>\n",
       "      <td>Rs. 9999</td>\n",
       "      <td>Men Sneakers</td>\n",
       "    </tr>\n",
       "    <tr>\n",
       "      <th>1</th>\n",
       "      <td>ADIDAS</td>\n",
       "      <td>Rs. 6079Rs. 7599(20% OFF)</td>\n",
       "      <td>Women Response SR Running</td>\n",
       "    </tr>\n",
       "    <tr>\n",
       "      <th>2</th>\n",
       "      <td>Nike</td>\n",
       "      <td>Rs. 8295</td>\n",
       "      <td>Zoom Winflo 8 Running Shoes</td>\n",
       "    </tr>\n",
       "    <tr>\n",
       "      <th>3</th>\n",
       "      <td>ALDO</td>\n",
       "      <td>Rs. 9999</td>\n",
       "      <td>Men Sneakers</td>\n",
       "    </tr>\n",
       "    <tr>\n",
       "      <th>4</th>\n",
       "      <td>Nike</td>\n",
       "      <td>Rs. 8295</td>\n",
       "      <td>JORDAN ONE TAKE II Basketball</td>\n",
       "    </tr>\n",
       "    <tr>\n",
       "      <th>...</th>\n",
       "      <td>...</td>\n",
       "      <td>...</td>\n",
       "      <td>...</td>\n",
       "    </tr>\n",
       "    <tr>\n",
       "      <th>95</th>\n",
       "      <td>RARE RABBIT</td>\n",
       "      <td>Rs. 7999</td>\n",
       "      <td>Perforations Leather Brogues</td>\n",
       "    </tr>\n",
       "    <tr>\n",
       "      <th>96</th>\n",
       "      <td>Puma</td>\n",
       "      <td>Rs. 10999</td>\n",
       "      <td>Men Spike 19.1 Cricket Shoes</td>\n",
       "    </tr>\n",
       "    <tr>\n",
       "      <th>97</th>\n",
       "      <td>Puma</td>\n",
       "      <td>Rs. 10999</td>\n",
       "      <td>Men Spike 19.1 Cricket Shoes</td>\n",
       "    </tr>\n",
       "    <tr>\n",
       "      <th>98</th>\n",
       "      <td>Nike</td>\n",
       "      <td>Rs. 8295</td>\n",
       "      <td>Men AIR MAX AP Sneakers</td>\n",
       "    </tr>\n",
       "    <tr>\n",
       "      <th>99</th>\n",
       "      <td>UNDER ARMOUR</td>\n",
       "      <td>Rs. 6999</td>\n",
       "      <td>Women Charged Assert 8 Mrble</td>\n",
       "    </tr>\n",
       "  </tbody>\n",
       "</table>\n",
       "<p>100 rows × 3 columns</p>\n",
       "</div>"
      ],
      "text/plain": [
       "           Brand                      Price                    Product Des\n",
       "0           ALDO                   Rs. 9999                   Men Sneakers\n",
       "1         ADIDAS  Rs. 6079Rs. 7599(20% OFF)      Women Response SR Running\n",
       "2           Nike                   Rs. 8295    Zoom Winflo 8 Running Shoes\n",
       "3           ALDO                   Rs. 9999                   Men Sneakers\n",
       "4           Nike                   Rs. 8295  JORDAN ONE TAKE II Basketball\n",
       "..           ...                        ...                            ...\n",
       "95   RARE RABBIT                   Rs. 7999   Perforations Leather Brogues\n",
       "96          Puma                  Rs. 10999   Men Spike 19.1 Cricket Shoes\n",
       "97          Puma                  Rs. 10999   Men Spike 19.1 Cricket Shoes\n",
       "98          Nike                   Rs. 8295        Men AIR MAX AP Sneakers\n",
       "99  UNDER ARMOUR                   Rs. 6999   Women Charged Assert 8 Mrble\n",
       "\n",
       "[100 rows x 3 columns]"
      ]
     },
     "execution_count": 58,
     "metadata": {},
     "output_type": "execute_result"
    }
   ],
   "source": [
    "df= pd.DataFrame({\"Brand\":brand[0:100],\n",
    "                   \"Price\":price[0:100],\n",
    "                    \"Product Des\":product[0:100]})\n",
    "\n",
    "df"
   ]
  },
  {
   "cell_type": "code",
   "execution_count": null,
   "metadata": {},
   "outputs": [],
   "source": []
  },
  {
   "cell_type": "markdown",
   "metadata": {},
   "source": [
    "# Q10: Go to webpage https://www.amazon.in/ Enter “Laptop” in the search field and then click the search icon. Then set CPU Type filter to “Intel Core i7” and “Intel Core i9” as shown in thebelow image:"
   ]
  },
  {
   "cell_type": "code",
   "execution_count": 31,
   "metadata": {},
   "outputs": [],
   "source": [
    "driver.get(\"https://www.amazon.in/\")"
   ]
  },
  {
   "cell_type": "code",
   "execution_count": 32,
   "metadata": {},
   "outputs": [],
   "source": [
    "search = driver.find_element_by_id(\"twotabsearchtextbox\")"
   ]
  },
  {
   "cell_type": "code",
   "execution_count": 33,
   "metadata": {},
   "outputs": [],
   "source": [
    "search.send_keys(\"Laptop\")"
   ]
  },
  {
   "cell_type": "code",
   "execution_count": 34,
   "metadata": {},
   "outputs": [],
   "source": [
    "btn=driver.find_element_by_id('nav-search-submit-button')\n",
    "btn.click()"
   ]
  },
  {
   "cell_type": "code",
   "execution_count": 36,
   "metadata": {},
   "outputs": [],
   "source": [
    "col=driver.find_element_by_xpath('/html/body/div[1]/div[2]/div[1]/div[2]/div/div[3]/span/div[1]/span/div/div/div[6]/ul[3]/li[26]/span/a/div/label/i')\n",
    "col.click()\n"
   ]
  },
  {
   "cell_type": "code",
   "execution_count": 38,
   "metadata": {},
   "outputs": [],
   "source": [
    "l=driver.find_element_by_xpath('/html/body/div[1]/div[2]/div[1]/div[2]/div/div[3]/span/div[1]/span/div/div/div[6]/ul[3]/li[28]/span/a/div/label/i')\n",
    "l.click()\n"
   ]
  },
  {
   "cell_type": "code",
   "execution_count": 39,
   "metadata": {},
   "outputs": [],
   "source": [
    "title=[]\n",
    "price=[]\n",
    "\n",
    "try:\n",
    "    for i in driver.find_elements_by_xpath('//h2[@class=\"a-size-mini a-spacing-none a-color-base s-line-clamp-2\"]'):\n",
    "        title.append(i.text.replace(\"\\n\",\"\").strip())\n",
    "except:\n",
    "    title.append(None)\n",
    "\n",
    "try:\n",
    "    for i in driver.find_elements_by_class_name(\"a-price-whole\"):\n",
    "        price.append(i.text)\n",
    "except:\n",
    "    \"None\""
   ]
  },
  {
   "cell_type": "code",
   "execution_count": 43,
   "metadata": {},
   "outputs": [
    {
     "data": {
      "text/plain": [
       "28"
      ]
     },
     "execution_count": 43,
     "metadata": {},
     "output_type": "execute_result"
    }
   ],
   "source": [
    "urls=[]\n",
    "for i in driver.find_elements_by_xpath('//a[@class=\"a-link-normal a-text-normal\"]'):\n",
    "    urls.append(i.get_attribute(\"href\"))\n",
    "len(urls)"
   ]
  },
  {
   "cell_type": "code",
   "execution_count": 51,
   "metadata": {},
   "outputs": [],
   "source": [
    "rat=[]\n",
    "for i in urls[:10]:\n",
    "    driver.get(i)\n",
    "    try:\n",
    "        R=driver.find_element_by_xpath(\"//div[@class='a-fixed-left-grid-col aok-align-center a-col-right']\")\n",
    "        rat.append(R.text)\n",
    "    except:\n",
    "        rat.append(\"-\")"
   ]
  },
  {
   "cell_type": "code",
   "execution_count": 53,
   "metadata": {},
   "outputs": [
    {
     "data": {
      "text/html": [
       "<div>\n",
       "<style scoped>\n",
       "    .dataframe tbody tr th:only-of-type {\n",
       "        vertical-align: middle;\n",
       "    }\n",
       "\n",
       "    .dataframe tbody tr th {\n",
       "        vertical-align: top;\n",
       "    }\n",
       "\n",
       "    .dataframe thead th {\n",
       "        text-align: right;\n",
       "    }\n",
       "</style>\n",
       "<table border=\"1\" class=\"dataframe\">\n",
       "  <thead>\n",
       "    <tr style=\"text-align: right;\">\n",
       "      <th></th>\n",
       "      <th>title</th>\n",
       "      <th>Price</th>\n",
       "      <th>Rating</th>\n",
       "    </tr>\n",
       "  </thead>\n",
       "  <tbody>\n",
       "    <tr>\n",
       "      <th>0</th>\n",
       "      <td>ASUS TUF Dash F15 (2021), 15.6\" (39.62 cms) FH...</td>\n",
       "      <td>1,07,990</td>\n",
       "      <td>4.5 out of 5</td>\n",
       "    </tr>\n",
       "    <tr>\n",
       "      <th>1</th>\n",
       "      <td>HP Envy 11th Gen Core i7 Processor 13.3-inch (...</td>\n",
       "      <td>1,09,990</td>\n",
       "      <td>4.1 out of 5</td>\n",
       "    </tr>\n",
       "    <tr>\n",
       "      <th>2</th>\n",
       "      <td>MSI GF65 Thin, Intel i7-10750H, 15.6\" FHD (39....</td>\n",
       "      <td>81,990</td>\n",
       "      <td>3.7 out of 5</td>\n",
       "    </tr>\n",
       "    <tr>\n",
       "      <th>3</th>\n",
       "      <td>HP Pavilion (2021) Thin &amp; Light 11th Gen Core ...</td>\n",
       "      <td>84,990</td>\n",
       "      <td>4.3 out of 5</td>\n",
       "    </tr>\n",
       "    <tr>\n",
       "      <th>4</th>\n",
       "      <td>Mi Notebook Horizon Edition 14 Intel Core i7-1...</td>\n",
       "      <td>59,490</td>\n",
       "      <td>4.4 out of 5</td>\n",
       "    </tr>\n",
       "    <tr>\n",
       "      <th>5</th>\n",
       "      <td>ASUS TUF Gaming F15 (2020), 15.6-inch (39.62 c...</td>\n",
       "      <td>71,990</td>\n",
       "      <td>4 out of 5</td>\n",
       "    </tr>\n",
       "    <tr>\n",
       "      <th>6</th>\n",
       "      <td>MSI GF75 Thin, Intel i7-10750H, 17.3\" (43.9 cm...</td>\n",
       "      <td>74,990</td>\n",
       "      <td>4.6 out of 5</td>\n",
       "    </tr>\n",
       "    <tr>\n",
       "      <th>7</th>\n",
       "      <td>HP Pavilion Gaming(2021) 10th Gen Intel Core i...</td>\n",
       "      <td>89,990</td>\n",
       "      <td>4.4 out of 5</td>\n",
       "    </tr>\n",
       "    <tr>\n",
       "      <th>8</th>\n",
       "      <td>ASUS TUF Dash F15 (2021), 15.6\" (39.62 cms) FH...</td>\n",
       "      <td>1,07,990</td>\n",
       "      <td>4.5 out of 5</td>\n",
       "    </tr>\n",
       "    <tr>\n",
       "      <th>9</th>\n",
       "      <td>Lenovo IdeaPad Gaming 3 Intel Core i7 10th Gen...</td>\n",
       "      <td>73,990</td>\n",
       "      <td>4.4 out of 5</td>\n",
       "    </tr>\n",
       "  </tbody>\n",
       "</table>\n",
       "</div>"
      ],
      "text/plain": [
       "                                               title     Price        Rating\n",
       "0  ASUS TUF Dash F15 (2021), 15.6\" (39.62 cms) FH...  1,07,990  4.5 out of 5\n",
       "1  HP Envy 11th Gen Core i7 Processor 13.3-inch (...  1,09,990  4.1 out of 5\n",
       "2  MSI GF65 Thin, Intel i7-10750H, 15.6\" FHD (39....    81,990  3.7 out of 5\n",
       "3  HP Pavilion (2021) Thin & Light 11th Gen Core ...    84,990  4.3 out of 5\n",
       "4  Mi Notebook Horizon Edition 14 Intel Core i7-1...    59,490  4.4 out of 5\n",
       "5  ASUS TUF Gaming F15 (2020), 15.6-inch (39.62 c...    71,990    4 out of 5\n",
       "6  MSI GF75 Thin, Intel i7-10750H, 17.3\" (43.9 cm...    74,990  4.6 out of 5\n",
       "7  HP Pavilion Gaming(2021) 10th Gen Intel Core i...    89,990  4.4 out of 5\n",
       "8  ASUS TUF Dash F15 (2021), 15.6\" (39.62 cms) FH...  1,07,990  4.5 out of 5\n",
       "9  Lenovo IdeaPad Gaming 3 Intel Core i7 10th Gen...    73,990  4.4 out of 5"
      ]
     },
     "execution_count": 53,
     "metadata": {},
     "output_type": "execute_result"
    }
   ],
   "source": [
    "df= pd.DataFrame({\"title\":title[0:10],\n",
    "                   \"Price\":price[0:10],\n",
    "                    \"Rating\":rat})\n",
    "\n",
    "df"
   ]
  },
  {
   "cell_type": "code",
   "execution_count": null,
   "metadata": {},
   "outputs": [],
   "source": []
  },
  {
   "cell_type": "markdown",
   "metadata": {},
   "source": [
    "# Q4 Write a python program to scrape data for first 10 job results for Data scientist Designation in Noida location. You have to scrape company_name, No. of days ago when job was posted, Rating of the company"
   ]
  },
  {
   "cell_type": "code",
   "execution_count": 35,
   "metadata": {},
   "outputs": [],
   "source": [
    "driver.get(\"https://www.glassdoor.co.in/member/home/index.htm\")"
   ]
  },
  {
   "cell_type": "code",
   "execution_count": 36,
   "metadata": {},
   "outputs": [],
   "source": [
    "signin = driver.find_element_by_xpath(\"/html/body/header/nav[1]/div/div/div/div[4]/div[2]/form/div/div[1]/div/div/input\")\n",
    "signin.click()"
   ]
  },
  {
   "cell_type": "code",
   "execution_count": 38,
   "metadata": {},
   "outputs": [],
   "source": [
    "signin.send_keys(\"Data Scientist\")"
   ]
  },
  {
   "cell_type": "code",
   "execution_count": 40,
   "metadata": {},
   "outputs": [],
   "source": [
    "loc= driver.find_element_by_xpath(\"/html/body/header/nav[1]/div/div/div/div[4]/div[2]/form/div/div[3]/div/input\")"
   ]
  },
  {
   "cell_type": "code",
   "execution_count": 41,
   "metadata": {},
   "outputs": [],
   "source": [
    "loc.send_keys(\"Noida\")"
   ]
  },
  {
   "cell_type": "code",
   "execution_count": 43,
   "metadata": {},
   "outputs": [],
   "source": [
    "btn=driver.find_element_by_xpath(\"/html/body/header/nav[1]/div/div/div/div[4]/div[2]/form/div/button\")"
   ]
  },
  {
   "cell_type": "code",
   "execution_count": 44,
   "metadata": {},
   "outputs": [],
   "source": [
    "btn.click()"
   ]
  },
  {
   "cell_type": "code",
   "execution_count": 45,
   "metadata": {},
   "outputs": [
    {
     "data": {
      "text/plain": [
       "['https://www.glassdoor.co.in/Job/noida-data-scientist-jobs-SRCH_IL.0,5_IC4477468_KO6,20.htm?includeNoSalaryJobs=true&p=0',\n",
       " 'https://www.glassdoor.co.in/Job/noida-data-scientist-jobs-SRCH_IL.0,5_IC4477468_KO6,20.htm?includeNoSalaryJobs=true&p=1',\n",
       " 'https://www.glassdoor.co.in/Job/noida-data-scientist-jobs-SRCH_IL.0,5_IC4477468_KO6,20.htm?includeNoSalaryJobs=true&p=2',\n",
       " 'https://www.glassdoor.co.in/Job/noida-data-scientist-jobs-SRCH_IL.0,5_IC4477468_KO6,20.htm?includeNoSalaryJobs=true&p=3',\n",
       " 'https://www.glassdoor.co.in/Job/noida-data-scientist-jobs-SRCH_IL.0,5_IC4477468_KO6,20.htm?includeNoSalaryJobs=true&p=4',\n",
       " 'https://www.glassdoor.co.in/Job/noida-data-scientist-jobs-SRCH_IL.0,5_IC4477468_KO6,20.htm?includeNoSalaryJobs=true&p=5',\n",
       " 'https://www.glassdoor.co.in/Job/noida-data-scientist-jobs-SRCH_IL.0,5_IC4477468_KO6,20.htm?includeNoSalaryJobs=true&p=2']"
      ]
     },
     "execution_count": 45,
     "metadata": {},
     "output_type": "execute_result"
    }
   ],
   "source": [
    "a=[]\n",
    "for i in driver.find_elements_by_xpath('//div[@class=\"cell alignRt middle css-zdpt2t\"]//a'):\n",
    "    a.append(i.get_attribute('href'))\n",
    "    \n",
    "a"
   ]
  },
  {
   "cell_type": "code",
   "execution_count": 46,
   "metadata": {},
   "outputs": [],
   "source": [
    "company=[]\n",
    "rat=[]\n",
    "daysago=[]\n",
    "\n",
    "for i in a[0:1]:\n",
    "    driver.get(i)\n",
    "    try:\n",
    "        for i in driver.find_elements_by_xpath('//div[@class=\"d-flex justify-content-between align-items-start\"]'):\n",
    "            company.append(i.text)\n",
    "    except:\n",
    "        \"None\"\n",
    "    try:\n",
    "        for i in driver.find_elements_by_xpath('//span[@class=\"css-19pjha7 e1cjmv6j1\"]'):\n",
    "            rat.append(i.text)\n",
    "    except:\n",
    "        \"None\"\n",
    "    try:\n",
    "        for i in driver.find_elements_by_xpath('//div[@class=\"d-flex align-items-end pl-std css-mi55ob\"]'):\n",
    "            daysago.append(i.text)\n",
    "    except:\n",
    "        \"None\"\n",
    "   "
   ]
  },
  {
   "cell_type": "code",
   "execution_count": 47,
   "metadata": {},
   "outputs": [
    {
     "data": {
      "text/html": [
       "<div>\n",
       "<style scoped>\n",
       "    .dataframe tbody tr th:only-of-type {\n",
       "        vertical-align: middle;\n",
       "    }\n",
       "\n",
       "    .dataframe tbody tr th {\n",
       "        vertical-align: top;\n",
       "    }\n",
       "\n",
       "    .dataframe thead th {\n",
       "        text-align: right;\n",
       "    }\n",
       "</style>\n",
       "<table border=\"1\" class=\"dataframe\">\n",
       "  <thead>\n",
       "    <tr style=\"text-align: right;\">\n",
       "      <th></th>\n",
       "      <th>Company</th>\n",
       "      <th>Rating</th>\n",
       "      <th>No. of days ago when job was posted</th>\n",
       "    </tr>\n",
       "  </thead>\n",
       "  <tbody>\n",
       "    <tr>\n",
       "      <th>0</th>\n",
       "      <td>Liberin Technologies Private Limited</td>\n",
       "      <td></td>\n",
       "      <td>17d</td>\n",
       "    </tr>\n",
       "    <tr>\n",
       "      <th>1</th>\n",
       "      <td>Data Trained Education</td>\n",
       "      <td>3.8</td>\n",
       "      <td>7d</td>\n",
       "    </tr>\n",
       "    <tr>\n",
       "      <th>2</th>\n",
       "      <td>Pixel Vision</td>\n",
       "      <td>3.8</td>\n",
       "      <td>28d</td>\n",
       "    </tr>\n",
       "    <tr>\n",
       "      <th>3</th>\n",
       "      <td>Emerging India Analytics</td>\n",
       "      <td>5.0</td>\n",
       "      <td>9d</td>\n",
       "    </tr>\n",
       "    <tr>\n",
       "      <th>4</th>\n",
       "      <td>Biz2Credit Inc</td>\n",
       "      <td>3.4</td>\n",
       "      <td></td>\n",
       "    </tr>\n",
       "    <tr>\n",
       "      <th>5</th>\n",
       "      <td>Crowe</td>\n",
       "      <td>4.1</td>\n",
       "      <td>30d+</td>\n",
       "    </tr>\n",
       "    <tr>\n",
       "      <th>6</th>\n",
       "      <td>Salasar New Age Technologies</td>\n",
       "      <td>3.9</td>\n",
       "      <td>30d+</td>\n",
       "    </tr>\n",
       "    <tr>\n",
       "      <th>7</th>\n",
       "      <td>CRMNEXT</td>\n",
       "      <td>4.4</td>\n",
       "      <td>2d</td>\n",
       "    </tr>\n",
       "    <tr>\n",
       "      <th>8</th>\n",
       "      <td>Techlive</td>\n",
       "      <td>3.8</td>\n",
       "      <td>30d+</td>\n",
       "    </tr>\n",
       "    <tr>\n",
       "      <th>9</th>\n",
       "      <td>Newgen Software</td>\n",
       "      <td>3.8</td>\n",
       "      <td>28d</td>\n",
       "    </tr>\n",
       "  </tbody>\n",
       "</table>\n",
       "</div>"
      ],
      "text/plain": [
       "                                Company Rating  \\\n",
       "0  Liberin Technologies Private Limited          \n",
       "1                Data Trained Education    3.8   \n",
       "2                          Pixel Vision    3.8   \n",
       "3              Emerging India Analytics    5.0   \n",
       "4                        Biz2Credit Inc    3.4   \n",
       "5                                 Crowe    4.1   \n",
       "6          Salasar New Age Technologies    3.9   \n",
       "7                               CRMNEXT    4.4   \n",
       "8                              Techlive    3.8   \n",
       "9                       Newgen Software    3.8   \n",
       "\n",
       "  No. of days ago when job was posted  \n",
       "0                                 17d  \n",
       "1                                  7d  \n",
       "2                                 28d  \n",
       "3                                  9d  \n",
       "4                                      \n",
       "5                                30d+  \n",
       "6                                30d+  \n",
       "7                                  2d  \n",
       "8                                30d+  \n",
       "9                                 28d  "
      ]
     },
     "execution_count": 47,
     "metadata": {},
     "output_type": "execute_result"
    }
   ],
   "source": [
    "df= pd.DataFrame({\"Company\":company[0:10],\n",
    "                   \"Rating\":rat[0:10],\n",
    "                    \"No. of days ago when job was posted\":daysago[0:10]})\n",
    "\n",
    "df"
   ]
  },
  {
   "cell_type": "code",
   "execution_count": null,
   "metadata": {},
   "outputs": [],
   "source": []
  },
  {
   "cell_type": "markdown",
   "metadata": {},
   "source": [
    "# Q5: Write a python program to scrape the salary data for Data Scientist designation in Noida location.You have to scrape Company name, Number of salaries, Average salary, Min salary, Max Salary."
   ]
  },
  {
   "cell_type": "code",
   "execution_count": 48,
   "metadata": {},
   "outputs": [],
   "source": [
    "driver.get(\"https://www.glassdoor.co.in/Salaries/index.htm\")"
   ]
  },
  {
   "cell_type": "code",
   "execution_count": 49,
   "metadata": {},
   "outputs": [],
   "source": [
    "search = driver.find_element_by_xpath(\"/html/body/div[3]/div/div[1]/div[1]/div/div/form/input[5]\")"
   ]
  },
  {
   "cell_type": "code",
   "execution_count": 50,
   "metadata": {},
   "outputs": [],
   "source": [
    "search.send_keys(\"Data Scientist\")"
   ]
  },
  {
   "cell_type": "code",
   "execution_count": 51,
   "metadata": {},
   "outputs": [],
   "source": [
    "loc= driver.find_element_by_xpath(\"/html/body/div[3]/div/div[1]/div[1]/div/div/form/input[6]\")"
   ]
  },
  {
   "cell_type": "code",
   "execution_count": 52,
   "metadata": {},
   "outputs": [],
   "source": [
    "loc.send_keys(\"Noida\")"
   ]
  },
  {
   "cell_type": "code",
   "execution_count": 60,
   "metadata": {},
   "outputs": [],
   "source": [
    "btn=driver.find_element_by_xpath(\"/html/body/div[3]/div/div[1]/div[1]/div/div/form/button\")"
   ]
  },
  {
   "cell_type": "code",
   "execution_count": 61,
   "metadata": {},
   "outputs": [],
   "source": [
    "btn.click()"
   ]
  },
  {
   "cell_type": "code",
   "execution_count": 62,
   "metadata": {},
   "outputs": [],
   "source": [
    "a=[]\n",
    "for i in driver.find_elements_by_xpath('//ul[@class=\"css-1ff5hnt\"]//a'):\n",
    "    a.append(i.get_attribute('href'))\n",
    "    \n"
   ]
  },
  {
   "cell_type": "code",
   "execution_count": 63,
   "metadata": {},
   "outputs": [],
   "source": [
    "comp=[]\n",
    "no=[]\n",
    "price=[]\n",
    "mini=[]\n",
    "maxi=[]\n",
    "\n",
    "for i in a[0:1]:\n",
    "    driver.get(i)\n",
    "    try:\n",
    "        for i in driver.find_elements_by_xpath('//h3[@class=\"m-0 css-g261rn\"]'):\n",
    "            comp.append(i.text)\n",
    "    except:\n",
    "        \"None\"\n",
    "    try:\n",
    "        for i in driver.find_elements_by_xpath('//div[@class=\"col-12 col-lg-auto\"]'):\n",
    "            no.append(i.text)\n",
    "    except:\n",
    "        \"None\"\n",
    "    try:\n",
    "        for i in driver.find_elements_by_xpath('//h3[@class=\"m-0 css-g261rn\"]'):\n",
    "            price.append(i.text)\n",
    "    except:\n",
    "        \"None\"\n",
    "    try:\n",
    "        for i in driver.find_elements_by_xpath('//p[@class=\"m-0 css-1vkj9it\"]'):\n",
    "            mini.append(i.text)\n",
    "    except:\n",
    "        \"None\"\n",
    "for i in range(20,len(mini),3):\n",
    "    maxi.append(mini[i])"
   ]
  },
  {
   "cell_type": "code",
   "execution_count": 64,
   "metadata": {},
   "outputs": [],
   "source": [
    "mini=mini[19::3]"
   ]
  },
  {
   "cell_type": "code",
   "execution_count": 65,
   "metadata": {},
   "outputs": [],
   "source": [
    "comp=comp[4::2]"
   ]
  },
  {
   "cell_type": "code",
   "execution_count": 66,
   "metadata": {},
   "outputs": [],
   "source": [
    "price=price[5::2]"
   ]
  },
  {
   "cell_type": "code",
   "execution_count": 68,
   "metadata": {},
   "outputs": [
    {
     "data": {
      "text/html": [
       "<div>\n",
       "<style scoped>\n",
       "    .dataframe tbody tr th:only-of-type {\n",
       "        vertical-align: middle;\n",
       "    }\n",
       "\n",
       "    .dataframe tbody tr th {\n",
       "        vertical-align: top;\n",
       "    }\n",
       "\n",
       "    .dataframe thead th {\n",
       "        text-align: right;\n",
       "    }\n",
       "</style>\n",
       "<table border=\"1\" class=\"dataframe\">\n",
       "  <thead>\n",
       "    <tr style=\"text-align: right;\">\n",
       "      <th></th>\n",
       "      <th>Company name</th>\n",
       "      <th>No of salaries</th>\n",
       "      <th>Avg Salary</th>\n",
       "      <th>Min</th>\n",
       "      <th>Max</th>\n",
       "    </tr>\n",
       "  </thead>\n",
       "  <tbody>\n",
       "    <tr>\n",
       "      <th>0</th>\n",
       "      <td>Tata Consultancy Services</td>\n",
       "      <td>18 salaries</td>\n",
       "      <td>₹6,12,205</td>\n",
       "      <td>₹3L</td>\n",
       "      <td>₹13L</td>\n",
       "    </tr>\n",
       "    <tr>\n",
       "      <th>1</th>\n",
       "      <td>IBM</td>\n",
       "      <td>18 salaries</td>\n",
       "      <td>₹9,00,000</td>\n",
       "      <td>₹6L</td>\n",
       "      <td>₹27L</td>\n",
       "    </tr>\n",
       "    <tr>\n",
       "      <th>2</th>\n",
       "      <td>Accenture</td>\n",
       "      <td>15 salaries</td>\n",
       "      <td>₹11,63,336</td>\n",
       "      <td>₹6L</td>\n",
       "      <td>₹22L</td>\n",
       "    </tr>\n",
       "    <tr>\n",
       "      <th>3</th>\n",
       "      <td>Delhivery</td>\n",
       "      <td>15 salaries</td>\n",
       "      <td>₹12,18,244</td>\n",
       "      <td>₹5L</td>\n",
       "      <td>₹1Cr</td>\n",
       "    </tr>\n",
       "    <tr>\n",
       "      <th>4</th>\n",
       "      <td>Ericsson-Worldwide</td>\n",
       "      <td>14 salaries</td>\n",
       "      <td>₹7,39,238</td>\n",
       "      <td>₹4L</td>\n",
       "      <td>₹16L</td>\n",
       "    </tr>\n",
       "    <tr>\n",
       "      <th>5</th>\n",
       "      <td>UnitedHealth Group</td>\n",
       "      <td>14 salaries</td>\n",
       "      <td>₹12,80,000</td>\n",
       "      <td>₹8L</td>\n",
       "      <td>₹15L</td>\n",
       "    </tr>\n",
       "    <tr>\n",
       "      <th>6</th>\n",
       "      <td>Optum</td>\n",
       "      <td>10 salaries</td>\n",
       "      <td>₹13,20,960</td>\n",
       "      <td>₹8L</td>\n",
       "      <td>₹20L</td>\n",
       "    </tr>\n",
       "    <tr>\n",
       "      <th>7</th>\n",
       "      <td>Valiance Solutions</td>\n",
       "      <td>10 salaries</td>\n",
       "      <td>₹8,63,750</td>\n",
       "      <td>₹5L</td>\n",
       "      <td>₹15L</td>\n",
       "    </tr>\n",
       "    <tr>\n",
       "      <th>8</th>\n",
       "      <td>EXL Service</td>\n",
       "      <td>9 salaries</td>\n",
       "      <td>₹11,10,000</td>\n",
       "      <td>₹6L</td>\n",
       "      <td>₹15L</td>\n",
       "    </tr>\n",
       "    <tr>\n",
       "      <th>9</th>\n",
       "      <td>Optum Global Solutions</td>\n",
       "      <td>9 salaries</td>\n",
       "      <td>₹13,28,697</td>\n",
       "      <td>₹4L</td>\n",
       "      <td>₹22L</td>\n",
       "    </tr>\n",
       "  </tbody>\n",
       "</table>\n",
       "</div>"
      ],
      "text/plain": [
       "                Company name No of salaries  Avg Salary  Min   Max\n",
       "0  Tata Consultancy Services    18 salaries   ₹6,12,205  ₹3L  ₹13L\n",
       "1                        IBM    18 salaries   ₹9,00,000  ₹6L  ₹27L\n",
       "2                  Accenture    15 salaries  ₹11,63,336  ₹6L  ₹22L\n",
       "3                  Delhivery    15 salaries  ₹12,18,244  ₹5L  ₹1Cr\n",
       "4         Ericsson-Worldwide    14 salaries   ₹7,39,238  ₹4L  ₹16L\n",
       "5         UnitedHealth Group    14 salaries  ₹12,80,000  ₹8L  ₹15L\n",
       "6                      Optum    10 salaries  ₹13,20,960  ₹8L  ₹20L\n",
       "7         Valiance Solutions    10 salaries   ₹8,63,750  ₹5L  ₹15L\n",
       "8                EXL Service     9 salaries  ₹11,10,000  ₹6L  ₹15L\n",
       "9     Optum Global Solutions     9 salaries  ₹13,28,697  ₹4L  ₹22L"
      ]
     },
     "execution_count": 68,
     "metadata": {},
     "output_type": "execute_result"
    }
   ],
   "source": [
    "df= pd.DataFrame({\"Company name\":comp[0:10],\n",
    "                   \"No of salaries\":no[0:10],\n",
    "                    \"Avg Salary\":price[0:10],\n",
    "                   \"Min\":mini[0:10],\n",
    "                    \"Max\":maxi[0:10]})\n",
    "\n",
    "df"
   ]
  },
  {
   "cell_type": "code",
   "execution_count": null,
   "metadata": {},
   "outputs": [],
   "source": []
  }
 ],
 "metadata": {
  "kernelspec": {
   "display_name": "Python 3",
   "language": "python",
   "name": "python3"
  },
  "language_info": {
   "codemirror_mode": {
    "name": "ipython",
    "version": 3
   },
   "file_extension": ".py",
   "mimetype": "text/x-python",
   "name": "python",
   "nbconvert_exporter": "python",
   "pygments_lexer": "ipython3",
   "version": "3.8.5"
  }
 },
 "nbformat": 4,
 "nbformat_minor": 4
}
