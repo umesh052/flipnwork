{
 "cells": [
  {
   "cell_type": "markdown",
   "metadata": {},
   "source": [
    "# QUESTION  1"
   ]
  },
  {
   "cell_type": "code",
   "execution_count": 14,
   "metadata": {},
   "outputs": [],
   "source": [
    "import requests\n",
    "from bs4 import BeautifulSoup"
   ]
  },
  {
   "cell_type": "code",
   "execution_count": 15,
   "metadata": {},
   "outputs": [],
   "source": [
    "request=requests.get('https://en.wikipedia.org/wiki/Main_Page')\n",
    "\n",
    "\n",
    "soup=BeautifulSoup(request.content)"
   ]
  },
  {
   "cell_type": "code",
   "execution_count": 16,
   "metadata": {},
   "outputs": [
    {
     "data": {
      "text/plain": [
       "['Main Page',\n",
       " \"From today's featured article\",\n",
       " 'Did you know\\xa0...',\n",
       " 'In the news',\n",
       " 'On this day',\n",
       " \"From today's featured list\",\n",
       " \"Today's featured picture\",\n",
       " 'Other areas of Wikipedia',\n",
       " \"Wikipedia's sister projects\",\n",
       " 'Wikipedia languages',\n",
       " 'Navigation menu',\n",
       " ' Personal tools ',\n",
       " ' Namespaces ',\n",
       " ' Variants ',\n",
       " ' Views ',\n",
       " ' More ',\n",
       " ' Search ',\n",
       " ' Navigation ',\n",
       " ' Contribute ',\n",
       " ' Tools ',\n",
       " ' Print/export ',\n",
       " ' In other projects ',\n",
       " ' Languages ']"
      ]
     },
     "execution_count": 16,
     "metadata": {},
     "output_type": "execute_result"
    }
   ],
   "source": [
    "Headers=[]\n",
    "header = soup.find_all(['h1','h2','h3','h4','h5','h6'])\n",
    "for i in header:\n",
    "    Headers.append(i.text.replace('\\n',\" \"))\n",
    "    \n",
    "    \n",
    "Headers"
   ]
  },
  {
   "cell_type": "markdown",
   "metadata": {},
   "source": [
    "# QUESTIOIN 2 "
   ]
  },
  {
   "cell_type": "code",
   "execution_count": 1,
   "metadata": {},
   "outputs": [
    {
     "data": {
      "text/plain": [
       "<Response [200]>"
      ]
     },
     "execution_count": 1,
     "metadata": {},
     "output_type": "execute_result"
    }
   ],
   "source": [
    "import requests\n",
    "from bs4 import BeautifulSoup\n",
    "page = requests.get(\"https://www.imdb.com/search/title/?groups=top_100&sort=user_rating,desc\")\n",
    "page\n"
   ]
  },
  {
   "cell_type": "code",
   "execution_count": 2,
   "metadata": {},
   "outputs": [],
   "source": [
    "movies = BeautifulSoup(page.content)\n"
   ]
  },
  {
   "cell_type": "code",
   "execution_count": 3,
   "metadata": {},
   "outputs": [],
   "source": [
    "Name = movies.find_all('h3',class_='lister-item-header')"
   ]
  },
  {
   "cell_type": "code",
   "execution_count": 4,
   "metadata": {},
   "outputs": [],
   "source": [
    "name = []\n",
    "for i in Name:\n",
    "    for j in i.find_all(\"a\"):\n",
    "        name.append(j.text.replace(\"\\n\",\"\"))"
   ]
  },
  {
   "cell_type": "code",
   "execution_count": 5,
   "metadata": {},
   "outputs": [],
   "source": [
    "Year = []\n",
    "year = movies.find_all('span',class_=\"lister-item-year text-muted unbold\")\n",
    "for i in year:\n",
    "    Year.append(i.text)"
   ]
  },
  {
   "cell_type": "code",
   "execution_count": 6,
   "metadata": {},
   "outputs": [],
   "source": [
    "rating = movies.find_all(\"div\",class_=\"inline-block ratings-imdb-rating\")\n",
    "Rating = []\n",
    "for i in rating:\n",
    "    Rating.append(i.text.replace(\"\\n\",\"\"))"
   ]
  },
  {
   "cell_type": "code",
   "execution_count": 7,
   "metadata": {},
   "outputs": [
    {
     "data": {
      "text/plain": [
       "<Response [200]>"
      ]
     },
     "execution_count": 7,
     "metadata": {},
     "output_type": "execute_result"
    }
   ],
   "source": [
    "page2 = requests.get(\"https://www.imdb.com/search/title/?groups=top_100&sort=user_rating,desc&start=51&ref_=adv_nxt\")\n",
    "page2\n"
   ]
  },
  {
   "cell_type": "code",
   "execution_count": 8,
   "metadata": {},
   "outputs": [],
   "source": [
    "movies=BeautifulSoup(page2.content)\n"
   ]
  },
  {
   "cell_type": "code",
   "execution_count": 9,
   "metadata": {},
   "outputs": [],
   "source": [
    "for i in movies.find_all(\"h3\",class_=\"lister-item-header\"):\n",
    "    for j in i.find_all(\"a\"):\n",
    "        name.append(j.text.replace(\"\\n\",\"\"))"
   ]
  },
  {
   "cell_type": "code",
   "execution_count": 11,
   "metadata": {},
   "outputs": [],
   "source": [
    "rating = movies.find_all(\"div\",class_=\"inline-block ratings-imdb-rating\")\n",
    "for i in rating:\n",
    "    Rating.append(i.text.replace(\"\\n\",\"\"))"
   ]
  },
  {
   "cell_type": "code",
   "execution_count": 12,
   "metadata": {},
   "outputs": [],
   "source": [
    "year = movies.find_all('span',class_=\"lister-item-year text-muted unbold\")\n",
    "for i in year:\n",
    "    Year.append(i.text)\n"
   ]
  },
  {
   "cell_type": "code",
   "execution_count": 13,
   "metadata": {},
   "outputs": [
    {
     "data": {
      "text/html": [
       "<div>\n",
       "<style scoped>\n",
       "    .dataframe tbody tr th:only-of-type {\n",
       "        vertical-align: middle;\n",
       "    }\n",
       "\n",
       "    .dataframe tbody tr th {\n",
       "        vertical-align: top;\n",
       "    }\n",
       "\n",
       "    .dataframe thead th {\n",
       "        text-align: right;\n",
       "    }\n",
       "</style>\n",
       "<table border=\"1\" class=\"dataframe\">\n",
       "  <thead>\n",
       "    <tr style=\"text-align: right;\">\n",
       "      <th></th>\n",
       "      <th>Names</th>\n",
       "      <th>Year</th>\n",
       "      <th>Ratings</th>\n",
       "    </tr>\n",
       "  </thead>\n",
       "  <tbody>\n",
       "    <tr>\n",
       "      <th>0</th>\n",
       "      <td>The Shawshank Redemption</td>\n",
       "      <td>(1994)</td>\n",
       "      <td>9.3</td>\n",
       "    </tr>\n",
       "    <tr>\n",
       "      <th>1</th>\n",
       "      <td>The Godfather</td>\n",
       "      <td>(1972)</td>\n",
       "      <td>9.2</td>\n",
       "    </tr>\n",
       "    <tr>\n",
       "      <th>2</th>\n",
       "      <td>The Dark Knight</td>\n",
       "      <td>(2008)</td>\n",
       "      <td>9.0</td>\n",
       "    </tr>\n",
       "    <tr>\n",
       "      <th>3</th>\n",
       "      <td>The Godfather: Part II</td>\n",
       "      <td>(1974)</td>\n",
       "      <td>9.0</td>\n",
       "    </tr>\n",
       "    <tr>\n",
       "      <th>4</th>\n",
       "      <td>12 Angry Men</td>\n",
       "      <td>(1957)</td>\n",
       "      <td>9.0</td>\n",
       "    </tr>\n",
       "    <tr>\n",
       "      <th>...</th>\n",
       "      <td>...</td>\n",
       "      <td>...</td>\n",
       "      <td>...</td>\n",
       "    </tr>\n",
       "    <tr>\n",
       "      <th>95</th>\n",
       "      <td>North by Northwest</td>\n",
       "      <td>(1959)</td>\n",
       "      <td>8.3</td>\n",
       "    </tr>\n",
       "    <tr>\n",
       "      <th>96</th>\n",
       "      <td>Vertigo</td>\n",
       "      <td>(1958)</td>\n",
       "      <td>8.3</td>\n",
       "    </tr>\n",
       "    <tr>\n",
       "      <th>97</th>\n",
       "      <td>Singin' in the Rain</td>\n",
       "      <td>(1952)</td>\n",
       "      <td>8.3</td>\n",
       "    </tr>\n",
       "    <tr>\n",
       "      <th>98</th>\n",
       "      <td>Citizen Kane</td>\n",
       "      <td>(1941)</td>\n",
       "      <td>8.3</td>\n",
       "    </tr>\n",
       "    <tr>\n",
       "      <th>99</th>\n",
       "      <td>M - Eine Stadt sucht einen Mörder</td>\n",
       "      <td>(1931)</td>\n",
       "      <td>8.3</td>\n",
       "    </tr>\n",
       "  </tbody>\n",
       "</table>\n",
       "<p>100 rows × 3 columns</p>\n",
       "</div>"
      ],
      "text/plain": [
       "                                Names    Year Ratings\n",
       "0            The Shawshank Redemption  (1994)     9.3\n",
       "1                       The Godfather  (1972)     9.2\n",
       "2                     The Dark Knight  (2008)     9.0\n",
       "3              The Godfather: Part II  (1974)     9.0\n",
       "4                        12 Angry Men  (1957)     9.0\n",
       "..                                ...     ...     ...\n",
       "95                 North by Northwest  (1959)     8.3\n",
       "96                            Vertigo  (1958)     8.3\n",
       "97                Singin' in the Rain  (1952)     8.3\n",
       "98                       Citizen Kane  (1941)     8.3\n",
       "99  M - Eine Stadt sucht einen Mörder  (1931)     8.3\n",
       "\n",
       "[100 rows x 3 columns]"
      ]
     },
     "execution_count": 13,
     "metadata": {},
     "output_type": "execute_result"
    }
   ],
   "source": [
    "import pandas as pd\n",
    "movies=pd.DataFrame({\"Names\":name,\n",
    "                     \"Year\":Year,\n",
    "                     \"Ratings\":Rating})\n",
    "movies\n"
   ]
  },
  {
   "cell_type": "markdown",
   "metadata": {},
   "source": [
    "# QUESTION  3"
   ]
  },
  {
   "cell_type": "code",
   "execution_count": 14,
   "metadata": {},
   "outputs": [
    {
     "data": {
      "text/plain": [
       "<Response [200]>"
      ]
     },
     "execution_count": 14,
     "metadata": {},
     "output_type": "execute_result"
    }
   ],
   "source": [
    "import requests\n",
    "from bs4 import BeautifulSoup\n",
    "page = requests.get(\"https://www.imdb.com/india/top-rated-indian-movies/\")\n",
    "page\n"
   ]
  },
  {
   "cell_type": "code",
   "execution_count": 15,
   "metadata": {},
   "outputs": [],
   "source": [
    "movies = BeautifulSoup(page.content)\n"
   ]
  },
  {
   "cell_type": "code",
   "execution_count": 16,
   "metadata": {},
   "outputs": [],
   "source": [
    "Name=[]\n",
    "for i in movies.find_all('td',class_='titleColumn'):\n",
    "    for j in i.find_all('a'):\n",
    "        Name.append(j.text.replace('\\n','').strip())"
   ]
  },
  {
   "cell_type": "code",
   "execution_count": 17,
   "metadata": {},
   "outputs": [],
   "source": [
    "Year=[]\n",
    "for i in movies.find_all('td',class_='titleColumn'):\n",
    "    for j in i.find_all('span',class_='secondaryInfo'):\n",
    "        Year.append(j.text)"
   ]
  },
  {
   "cell_type": "code",
   "execution_count": 18,
   "metadata": {},
   "outputs": [],
   "source": [
    "IMDB=[]\n",
    "for i in movies.find_all('td',class_='ratingColumn imdbRating'):\n",
    "    IMDB.append(i.text.strip())"
   ]
  },
  {
   "cell_type": "code",
   "execution_count": 20,
   "metadata": {},
   "outputs": [
    {
     "data": {
      "text/html": [
       "<div>\n",
       "<style scoped>\n",
       "    .dataframe tbody tr th:only-of-type {\n",
       "        vertical-align: middle;\n",
       "    }\n",
       "\n",
       "    .dataframe tbody tr th {\n",
       "        vertical-align: top;\n",
       "    }\n",
       "\n",
       "    .dataframe thead th {\n",
       "        text-align: right;\n",
       "    }\n",
       "</style>\n",
       "<table border=\"1\" class=\"dataframe\">\n",
       "  <thead>\n",
       "    <tr style=\"text-align: right;\">\n",
       "      <th></th>\n",
       "      <th>Names</th>\n",
       "      <th>Year</th>\n",
       "      <th>Ratings</th>\n",
       "    </tr>\n",
       "  </thead>\n",
       "  <tbody>\n",
       "    <tr>\n",
       "      <th>0</th>\n",
       "      <td>Nayakan</td>\n",
       "      <td>(1987)</td>\n",
       "      <td>8.5</td>\n",
       "    </tr>\n",
       "    <tr>\n",
       "      <th>1</th>\n",
       "      <td>Pariyerum Perumal</td>\n",
       "      <td>(2018)</td>\n",
       "      <td>8.5</td>\n",
       "    </tr>\n",
       "    <tr>\n",
       "      <th>2</th>\n",
       "      <td>Anbe Sivam</td>\n",
       "      <td>(2003)</td>\n",
       "      <td>8.5</td>\n",
       "    </tr>\n",
       "    <tr>\n",
       "      <th>3</th>\n",
       "      <td>C/o Kancharapalem</td>\n",
       "      <td>(2018)</td>\n",
       "      <td>8.5</td>\n",
       "    </tr>\n",
       "    <tr>\n",
       "      <th>4</th>\n",
       "      <td>Golmaal</td>\n",
       "      <td>(1979)</td>\n",
       "      <td>8.5</td>\n",
       "    </tr>\n",
       "    <tr>\n",
       "      <th>...</th>\n",
       "      <td>...</td>\n",
       "      <td>...</td>\n",
       "      <td>...</td>\n",
       "    </tr>\n",
       "    <tr>\n",
       "      <th>245</th>\n",
       "      <td>Manorama: Six Feet Under</td>\n",
       "      <td>(2007)</td>\n",
       "      <td>7.6</td>\n",
       "    </tr>\n",
       "    <tr>\n",
       "      <th>246</th>\n",
       "      <td>Piku</td>\n",
       "      <td>(2015)</td>\n",
       "      <td>7.6</td>\n",
       "    </tr>\n",
       "    <tr>\n",
       "      <th>247</th>\n",
       "      <td>Wake Up Sid</td>\n",
       "      <td>(2009)</td>\n",
       "      <td>7.6</td>\n",
       "    </tr>\n",
       "    <tr>\n",
       "      <th>248</th>\n",
       "      <td>Ludo</td>\n",
       "      <td>(2020)</td>\n",
       "      <td>7.6</td>\n",
       "    </tr>\n",
       "    <tr>\n",
       "      <th>249</th>\n",
       "      <td>Dhruva</td>\n",
       "      <td>(2016)</td>\n",
       "      <td>7.6</td>\n",
       "    </tr>\n",
       "  </tbody>\n",
       "</table>\n",
       "<p>250 rows × 3 columns</p>\n",
       "</div>"
      ],
      "text/plain": [
       "                        Names    Year Ratings\n",
       "0                     Nayakan  (1987)     8.5\n",
       "1           Pariyerum Perumal  (2018)     8.5\n",
       "2                  Anbe Sivam  (2003)     8.5\n",
       "3           C/o Kancharapalem  (2018)     8.5\n",
       "4                     Golmaal  (1979)     8.5\n",
       "..                        ...     ...     ...\n",
       "245  Manorama: Six Feet Under  (2007)     7.6\n",
       "246                      Piku  (2015)     7.6\n",
       "247               Wake Up Sid  (2009)     7.6\n",
       "248                      Ludo  (2020)     7.6\n",
       "249                    Dhruva  (2016)     7.6\n",
       "\n",
       "[250 rows x 3 columns]"
      ]
     },
     "execution_count": 20,
     "metadata": {},
     "output_type": "execute_result"
    }
   ],
   "source": [
    "import pandas as pd\n",
    "movies=pd.DataFrame({\"Names\":Name,\n",
    "                     \"Year\":Year,\n",
    "                     \"Ratings\":IMDB})\n",
    "movies"
   ]
  },
  {
   "cell_type": "markdown",
   "metadata": {},
   "source": [
    "# QUESTION  4"
   ]
  },
  {
   "cell_type": "code",
   "execution_count": 29,
   "metadata": {},
   "outputs": [],
   "source": [
    "import requests\n",
    "from bs4 import BeautifulSoup"
   ]
  },
  {
   "cell_type": "code",
   "execution_count": 30,
   "metadata": {},
   "outputs": [
    {
     "data": {
      "text/plain": [
       "<Response [200]>"
      ]
     },
     "execution_count": 30,
     "metadata": {},
     "output_type": "execute_result"
    }
   ],
   "source": [
    "request=requests.get('https://bookpage.com/reviews?book_genre=fiction&page=1')\n",
    "request"
   ]
  },
  {
   "cell_type": "code",
   "execution_count": 31,
   "metadata": {},
   "outputs": [],
   "source": [
    "soup=BeautifulSoup(request.content)"
   ]
  },
  {
   "cell_type": "code",
   "execution_count": 32,
   "metadata": {},
   "outputs": [],
   "source": [
    "n=[]\n",
    "for i in soup.find_all('div',class_='flex-article-content'):\n",
    "    for j in i.find_all('a'):\n",
    "        n.append(j.text.replace(\"★\",\"\").strip())\n",
    "    \n"
   ]
  },
  {
   "cell_type": "code",
   "execution_count": 33,
   "metadata": {},
   "outputs": [
    {
     "data": {
      "text/plain": [
       "['How to Find Your Way in the Dark',\n",
       " 'All’s Well',\n",
       " 'Summer Fun',\n",
       " 'What Strange Paradise',\n",
       " 'China Room',\n",
       " 'A Passage North',\n",
       " 'The Startup Wife',\n",
       " 'The Tiger Mom’s Tale',\n",
       " 'Build Your House Around My Body',\n",
       " 'Together We Will Go']"
      ]
     },
     "execution_count": 33,
     "metadata": {},
     "output_type": "execute_result"
    }
   ],
   "source": [
    "name=n[0:len(n):4]\n",
    "name"
   ]
  },
  {
   "cell_type": "code",
   "execution_count": 34,
   "metadata": {},
   "outputs": [
    {
     "data": {
      "text/plain": [
       "['Fiction',\n",
       " 'Fiction',\n",
       " 'Fiction',\n",
       " 'Fiction',\n",
       " 'Fiction',\n",
       " 'Fiction',\n",
       " 'Fiction',\n",
       " 'Fiction',\n",
       " 'Fiction',\n",
       " 'Fiction']"
      ]
     },
     "execution_count": 34,
     "metadata": {},
     "output_type": "execute_result"
    }
   ],
   "source": [
    "genre=n[1:len(n):4]\n",
    "genre"
   ]
  },
  {
   "cell_type": "code",
   "execution_count": 35,
   "metadata": {},
   "outputs": [],
   "source": [
    "author=[]\n",
    "for i in soup.find_all('div',class_='flex-article-content'):\n",
    "    for j in i.find_all('p',class_='sans bold'):\n",
    "        author.append(j.text.replace(\"\\n\",\"\").strip())\n"
   ]
  },
  {
   "cell_type": "code",
   "execution_count": 36,
   "metadata": {},
   "outputs": [
    {
     "data": {
      "text/plain": [
       "['/reviews/26469-derek-b-miller-how-to-find-your-way-dark-fiction',\n",
       " '/reviews/26466-mona-awad-alls-well-fiction',\n",
       " '/reviews/26474-jeanne-thornton-summer-fun-fiction',\n",
       " '/reviews/26483-omar-el-akkad-what-strange-paradise-fiction',\n",
       " '/reviews/26375-sunjeev-sahota-china-room-fiction',\n",
       " '/reviews/26373-anuk-arudpragasm-passage-north-fiction',\n",
       " '/reviews/26386-tahmima-anam-startup-wife-fiction',\n",
       " '/reviews/26388-lyn-liao-butler-tiger-moms-tale-fiction',\n",
       " '/reviews/26374-violet-kupersmith-build-your-house-around-my-body-fiction',\n",
       " '/reviews/26390-j-michael-straczynski-together-we-will-go-fiction']"
      ]
     },
     "execution_count": 36,
     "metadata": {},
     "output_type": "execute_result"
    }
   ],
   "source": [
    "url_tags = soup.find_all(\"h4\",class_=\"italic\")\n",
    "\n",
    "url = []\n",
    "for i in url_tags:\n",
    "    for j in i.find_all(\"a\",href=True):\n",
    "        url.append(j[\"href\"])\n",
    "url"
   ]
  },
  {
   "cell_type": "code",
   "execution_count": 39,
   "metadata": {},
   "outputs": [
    {
     "data": {
      "text/plain": [
       "['  Prepare for surprises galore in How to Find Your Way in the Dark, a rollicking novel that begins with a lonely truck ride in New England in 1938 and follows its characters through a decade of fascinating history. Just when you think the story is heading one way, it veers in another, completely unexpected direction. Twelve-year-old Sheldon Horowitz and his father are driving home from Hartford, Connecticut, to Whately, Massachusetts, after honoring the one-year anniversary of Sheldon’s mother’s death. She and her sister died in a horrific movie theater fire in Hartford. And as if that isn’t enough tragedy for the novel’s first 13 pages, a truck purposely forces Sheldon and his father’s car off the road during their return trip, and Sheldon’s father dies. Readers of Derek B. Miller’s award-winning thriller, Norwegian by Night, will recognize Sheldon as that novel’s 82-year-old protagonist. As a Tom Sawyer-like boy in How to Find Your Way in the Dark, Sheldon is determined to make sense of his double tragedies, and his attempts to do so take the reader on one hell of a ride. As he seeks out the leering, mustached truck driver who killed his father, his quest leads him straight into danger—think mobsters, guns and jewel thefts. Miller has crafted a wide-ranging, years-spanning yet tightly structured plot, and he excels at placing memorable characters in unusual circumstances. Sheldon is joined in his adventures by his two older cousins, Abe and Mirabelle, and his best friend, Lenny, all of whom play pivotal roles. One summer, Lenny and Sheldon end up as bellhops at the famed Grossinger’s Resort in the Catskills, where Lenny practices standup comedy amid the glamorous, bustling atmosphere. An underlying seriousness lies at the heart of all of this intrigue, hilarity and fun. Sheldon, Abe, Mirabelle and Lenny, all Jewish, must confront the many faces of antisemitism during the turbulent years of World War II. Miller weaves in a multitude of historical details, including reports of the horrors in Europe and America’s reluctance to intervene. The ending of How to Find Your Way in the Dark is nothing short of brilliant, tying up a variety of loose ends while making a powerful statement about the need to fully recognize and address antisemitism. Readers are left with much to ponder, including life’s many uncertainties and cruel twists of fate. Despite these unhappy truths, we are also left with the uplifting wisdom of Lenny’s urgent prayer: “Dear God, give me the strength to be joyful.”  ',\n",
       " '  Miranda Fitch, the protagonist of Mona Awad’s third novel, All’s Well, might best be described—to borrow the title of the 1988 Pedro Almodóvar film—as a woman on the verge of a nervous breakdown. A professor of theater studies at a small liberal arts college in Massachusetts, she’s laboring mightily to stage a student production of Shakespeare’s All’s Well That Ends Well, which she thinks of as a “problem play,” one that’s “neither a tragedy nor a comedy. Both, always both.” Apart from a rebellious cast, Miranda’s primary obstacle is unremitting pain from an injury she sustained when she tumbled from a stage during her promising but brief acting career. The resulting hip injury led to serious back problems unrelieved by the ministrations of a string of doctors and physical therapists, transforming Miranda, divorced and not yet 40 years old, into a pill-gobbling automaton who has abandoned all hope of her own happy ending. All’s Well quickly leaves behind this depressingly naturalistic scenario to veer into the realm of fabulism when Miranda encounters three mysterious men in a local pub. The trio, who inexplicably have intimate knowledge of her life and struggles, grace her with what seems like a miracle cure. But as she discovers, even healing can come at a price. Awad efficiently portrays both Miranda’s confrontation with chronic pain and the slowly evaporating patience of the people in her orbit (her ex-husband, Paul; colleague and friend Grace; and Mark, the last in a chain of physical therapists) with her lack of improvement. Anyone who’s been similarly afflicted or knows someone who has will recognize this scenario. Awad leaves it to the reader to assess how much of Miranda’s mental turmoil is the product of an inexplicable but desperately welcome truce in her battle with pain, and how much flows from her encounter with supernatural forces. It’s a wild, at times over-the-top ride, but like Shakespeare’s eponymous work, there’s both pathos and humor in this story of how we suffer and the ways in which we’re healed.  ',\n",
       " '  It’s been nine years since the publication of Jeanne Thornton’s debut, The Dream of Doctor Bantam, and her second novel, Summer Fun, has been worth the wait. Dizzying and deliciously weird, it’s a sprawling yet intimate story about music, hidden trans histories and the transformative act of creation. Gala, a trans woman living in small-town New Mexico, is obsessed with a classic 1960s pop band called the Get Happies and their mysterious lead singer, B\\xa0 \\xa0 \\xa0 \\xa0. In a series of remarkable letters to B\\xa0 \\xa0 \\xa0 \\xa0, full of whip-smart observations and dark humor, Gala slowly reveals the true story of B\\xa0 \\xa0 \\xa0 \\xa0’s life and music, shedding light on herself in the process. This is no ordinary epistolary novel. Thornton discards convention, choosing instead to use the form to explore the possibilities of cross-generational queer and trans conversations. Gala’s letters act as a kind of portal, a manifestation of trans magic. She addresses B\\xa0 \\xa0 \\xa0 \\xa0 directly, often inhabiting the singer’s thoughts and emotions. Gala tells B\\xa0 \\xa0 \\xa0 \\xa0’s story from the inside, as if she were the one who lived it. Each letter is a small act of discovery, an unfolding mystery. The unique epistolary format makes space for deep connections, not only between Gala and B\\xa0 \\xa0 \\xa0 \\xa0 but also between Gala and the reader. It is impossible not to read these heartfelt missives without becoming wholly invested in her world. Reflecting on the impossibility of authenticity in the music industry, Gala muses as B\\xa0 \\xa0 \\xa0 \\xa0, “No one gets to sound like who they are; that isn’t how success operates.” But Thornton proves this isn’t always the case. Gala’s narration is singular—assured, sarcastic and yearning. She’s determined to tell her story, as well as B\\xa0 \\xa0 \\xa0 \\xa0’s, through her own particular lens, unrefined and vulnerable, full of messy contradictions. Thornton’s plotting is masterful, her prose elegant and her characterization nuanced. But it’s the emotional heft of Gala’s narrative voice that sets this novel apart. Summer Fun is unpredictable and delightful, structurally innovative and epic in scope. It’s a heartbreaking yet hopeful addition to the growing canon of literature that celebrates the complexity of trans lives.  ',\n",
       " '  According to the UN Refugee Agency, there were more than 26 million refugees worldwide at the end of 2019. Amid food insecurity, oppression and injustice, the global refugee crisis shows no signs of slowing, as migrants dare to cross dangerous seas on overcrowded ferries, fishing trawlers or other vessels in hopes of finding a better life. Many refugees fail to reach the next shore, becoming victims of dangerous waters or border patrols who turn them away. For Amir Utu, a 9-year-old Syrian boy in Omar El Akkad’s riveting second novel, What Strange Paradise, the voyage is at first a grand adventure, like in the comic books he reads. But after washing ashore on an unnamed island’s beach as the only survivor, Amir soon learns that this is no adventure but rather a matter of survival. Almost at once, he is pursued by soldiers combing the beach, and he must flee to escape them, though he barely understands why he is running in the first place. Amir’s flight brings him in contact with 15-year-old Vänna Hermes, who takes pity on him, hides him from the soldiers and tries to help him to safety. Amir is unable to understand Vänna’s language, but as the pair builds an unusual bond, Amir finds a friend amid a hostile world. An international journalist and author of the acclaimed novel American War, El Akkad shapes What Strange Paradise mostly through Amir’s point of view, alternating between the boy’s immediate past and his present situation as he struggles to comprehend his plight. The author’s decision to focus on Amir’s youthful innocence serves to downplay the serious political undertones of the refugee crisis, transforming the boy’s tale into an intimate action-adventure story that’s laced with hope and compassion, emotions with the power to transcend borders and worldly disputes.  ',\n",
       " '  Sunjeev Sahota’s brilliant second novel, the 2015 Booker Prize short-listed The Year of the Runaways, was a sweeping and absorbing look at hardscrabble Indian immigrant life in working-class England. His third book, China Room, is a shorter, more intimate novel that still tells a compelling and devastating tale. It’s also partially based on a true story. The novel alternates between two storylines in the 1920s and 1990s. The earlier timeline, which is based in part on Sahota’s great-grandmother’s experiences, is set in India’s heavily agricultural Punjab region. Notoriously patriarchal, rural India has been slow to offer women certain rights and opportunities, especially a century ago. Three brothers are married to young girls, including 15-year-old Mehar, in a triple ceremony. The girls are ruled with an iron fist by their mother-in-law, Mai, who barks orders like a military general and demeans them every chance she gets. Mai permits nightly visits between her sons and their new wives, but only in pitch darkness. In the confusion, an illicit affair begins. The second story, set during the summer of 1999, centers on Mehar’s great-grandson. Narrating from 2019, the man describes traveling to India, seeking refuge from the heroin that has wrecked his health and the racism that has broken apart his family in the U.K. While trying to overcome his addiction, he finds himself going cold turkey in the now rundown “china room” where Mehar used to live along with her sisters-in-law. The man’s story somewhat echoes Mehar’s, and when he falls for a female doctor who’s more than a decade older than he, the local village is rife with gossip. Through short chapters and sparse, tightly wrought prose, Sahota’s novel is both easy to read and difficult to put down. Something of a hometown hero, not only in the old steel town of Sheffield, where he currently resides, but also to British Indian and Asian writers, Sahota cements his place in a vibrant literary canon alongside Salman Rushdie, Kamila Shamsie, Mohsin Hamid, Hari Kunzru and others.  ',\n",
       " '  In Anuk Arudpragasam’s elegantly discursive second novel, memory, trauma and collective action determine the arc of lives. A Passage North begins in Colombo, Sri Lanka, where a young man named Krishan is mulling over an email from his cryptic ex-girlfriend, an activist named Anjum, whom he dated years ago in Delhi, India. Moments later, Krishan learns his grandmother’s caretaker, Rani, has mysteriously fallen down a well and died.\\xa0 These two events set the wheels in motion for Krishan’s journey to the center of himself. He boards a train to northern Sri Lanka to attend Rani’s funeral, but his journey exists more in mind than body. He meditates on his brief but engulfing love affair with Anjum and is haunted by the government-sanctioned persecution of the Tamil people. For readers unfamiliar with the Sri Lankan Civil War, A Passage North offers perspective on the Sinhalese-dominated government’s conflict with the Liberation Tigers of Tamil Eelam. The insurrectionist Tamil Tigers fought to form an independent state so their ethno-linguistic minority group could escape subjugation, rape and killing. Arudpragasam raises questions about unfettered devotion to higher causes as Krishan struggles to find his own true purpose, the way Anjum seemed to find hers by forming a politically active commune away from Delhi—and away from their life together. Arudpragasam expertly captures the ambiguity of romance between two young people who feel the call of the broader world even as they cling to each other. Krishan recalls meeting Anjum through the queer scene in Delhi, where he was enraptured by her easy confidence, her knowledge of poetry and languages, and the way she stared back at men who ogled her, forcing them to confront their own gaze. While Arudpragasam’s writing remains observational throughout, this love story adds heat and intrigue to an otherwise philosophical novel. In A Passage North, past and present bleed together. Flipping through the novel’s pages, the reader will notice an absence of white space and section breaks outside of chapter demarcations. There is no direct dialogue either. In this way, the novel is reminiscent of José Saramago’s work. But Arudpragasam’s writing is exceptionally graceful, which allows the text to flow despite its density. The lack of action may frustrate some readers, but this structure creates an otherwise impossible narrative reverie. Ultimately, A Passage North is an elegant story whose discursive nature pays off.\\xa0 \\xa0  ',\n",
       " '  The funny and sharp fourth novel by acclaimed Bangladesh-born British author Tahmima Anam, The Startup Wife, exposes the folly of looking for leadership in the startup sector, which reveres disruption in all areas except its own. In this brilliantly incisive social novel, a quasi-faith community springs from a social media platform called WAI, short for “We Are Infinite.” WAI uses an algorithm to design personalized rituals based on three meaningful elements of a person’s life—and then introduces that person to a like-minded community. It’s easy to see why WAI would be appealing. Its rituals fill the void many modern-day people feel in the absence of organized religion. The platform\\'s essential concept is that if we treat something as sacred, we believe that it is more than entertainment, that it offers moral rewards and is worthy of rigorous contemplation. (Listeners to the \"Harry Potter and the Sacred Text\" podcast will find this idea familiar.) But first, the novel begins with a love story: Thirteen years after high school, Asha Ray reunites with her crush, Cyrus Jones, when they attend a memorial for their late English teacher. Asha is four years into her Ph.D. at Harvard, and Cyrus has become a charismatic spiritual polyglot. He’s traveled the world, collecting bits of philosophy and religion from an endless variety of sources, and distilled them into something people can use in their own lives. “I create rituals,” he says. Cyrus and Asha’s intellectual connection is intense, and soon, so is their physical relationship. The novel focuses on their all-encompassing, interconnected work-life partnership, which also includes, to a lesser extent, their best friend, Jules. When Asha’s artificial intelligence research hits a roadblock, she draws inspiration from Cyrus’ work and decides “to start a platform that [allows] people without religion to practice a form of faith.” Through Asha’s programming wizardry, WAI becomes a life-changing phenomenon. But it quickly becomes clear that the platform, intended to bring people together, is likely to blow the triad apart. The Startup Wife is framed as a satirical novel about startup culture, but because Americans revere that culture, its foibles and failings are our failures, too. Tech investors subscribe to the “great man” theory of history as much as the rest of America, and this unavoidable fact begins to spoil Asha’s relationships with her two male partners. Investors are more apt to provide valuable exposure and support to a passion project fronted by a brilliant (usually white) man rather than a geeky brown woman. So even though Asha’s research is the source of the platform’s Empathy Module algorithm, handsome Cyrus becomes the figurehead for WAI. Initially resistant to making his spiritual practice into a business, he is easily seduced into playing CEO and messiah. While The Startup Wife is full of beautifully messy and enviable characters, Asha’s fierce feminism and candor stand out. Of course, she’s far from innocent. She’s a creative genius who wants her due, just as any man would. But it’s a delight to experience Asha’s first-person perspective of the world and her metamorphosis into a powerful, flawed woman. Because The Startup Wife is sexy and funny and puts relationships at the forefront, it might be easy to overlook its depth and sophistication. But its priorities are right where they should be. When people create a community with their friends and lovers, it is inevitable that boundaries will dissolve and that friendship, love, ego and identity will become intertwined. The Startup Wife’s insights about modern relationships, gender politics, race, technology and culture are as excellent and vital as its storytelling.  ',\n",
       " '  Unembellished and forthright, The Tiger Mom’s Tale is a touching story that illuminates intricacies of race, ethnicity, traditions and stereotypes. Thirty-something Lexa Thomas is a fitness trainer living in New York City, and she’s trying to adjust to the news that her white mother is divorcing Lexa’s white stepfather after falling for an Asian American acupuncturist. Then Lexa receives a call from her half sister in Taiwan, Hsu-Ling, who informs Lexa that their biological father has died. This stirs up memories of what happened during Lexa’s last visit to Taiwan, when she was forced to abandon her father and her heritage 22 years ago. But Hsu-Ling has more news. Their Uncle Pong has also died, within moments of their father’s death, and he left a mysterious letter for Lexa. Encouraged by her two half sisters, one Taiwanese and the other a white American, Lexa returns to Taiwan to claim her rightful place in the family. Lyn Liao Butler’s tale is a literary melting pot brimming with blended families and cultures. The straightforward, exposition-heavy narrative is sprinkled with Mandarin and broad references to different Asian foods and cultural elements, although the lack of development of these aspects may distract the reader from fully immersing themselves in Lexa’s journey to connect with her heritage. Scenes that reveal backstory and the surprising events that turned Lexa away from her Taiwanese relatives slowly tease out the novel’s climax. Lexa’s gentle humility and quiet confidence will garner the support of readers looking for a likable protagonist. A heartwarming romantic subplot is a sweet result of Lexa’s transformation and self-acceptance and provides another union of ethnic backgrounds. Filled with potential book club discussion topics and perfect for fans of YA novels by Jenny Han, The Tiger Mom’s Tale will unleash timely dialogue about identity, family secrets and cultural divides.  ',\n",
       " '  Remember the smoke monster from “Lost”? It appears that he’s alive and well and living in Violet Kupersmith’s debut novel, Build Your House Around My Body. Add in two-headed cobras, hungry ghosts, body-hopping and body horror (both the more ordinary kind that involves explosive emesis and incontinence, and the kind that involves eldritch distortions), then throw in Vietnam’s history as a chew toy of empires, and you have a small part of what goes on in this kaleidoscopic book. On its surface, Build Your House Around My Body concerns Winnie Nguyen, a Vietnamese American woman who’s come to Vietnam to teach and to find herself. One day, she disappears. Every chapter heading refers to her vanishing; one chapter is set 62 years before her disappearance, while another’s events occur the day after. It’s as if the workings of the cosmos depend on the fate of this messed up, seemingly insignificant young woman. And how messed up she is, despite her longing to be good. When she is told that good Vietnamese girls don’t drink coffee, she never touches it again. But Winnie just can’t make her life work. She exists in a state of squalor, both internally and externally, reflecting the condition of Saigon’s noisome open-air markets, sleazy sex motels and creepy karaoke bars and beer joints. Kupersmith’s grasp of her story’s secondary characters is as firm as her grasp of Winnie. There’s the gentle and befuddled Long and his estranged brother, Tan, both in love with a combative girl named Binh. There are Winnie’s ridiculous fellow teachers at the Achievement! International Language Academy. There are fortunetellers and shape-shifters, pepper and rubber plantation tycoons, and a lady who may or may not be a paraplegic who sells fake lottery tickets. It would have been easy for a book with so much going on to collapse into incoherence, but it’s an engaging read the whole way through. Build Your House Around My Body is an unsettling and powerful work.  ',\n",
       " '  As Together We Will Go opens, 29-year-old Mark believes he’s never going to succeed at writing. He’s had suicidal thoughts since high school, he’s had enough of life, and he’s come up with a plan: a final bus trip, one last cross-country party with a group of like-minded souls who can’t carry the weight of life anymore. J. Michael Straczynski’s novel follows this group of mostly young people intent on ending their lives. As the bus stops in several states to pick up passengers, the story cycles through all 12 characters’ perspectives, but six take center stage: the aforementioned Mark; Karen, a young woman with chronic pain; Tyler, a young man with a worsening hole in his heart; Vaughn, a 66-year-old widower with a painful secret; Lisa, whose bipolar disorder has led her to despair; and Shanelle, a lonely woman who has been bullied for her size. As the bus makes its way west, these characters connect, form alliances and deal with each other’s quirks and bad behavior. Straczynski, a comic book writer, screenwriter and co-creator of Netflix’s “Sense8,” uses text messages, emails, online journal entries and audio transcripts to reveal the characters’ thoughts and actions, creating a 21st-century epistolary novel. Because of this format, the novel moves along quickly, although the characters’ thoughts occasionally blur together, especially when musing philosophically on the state of the world and their places in it. But a late plot twist is satisfying, intensifying the characters’ bonds as they decide what to do. While a novel about characters planning to end their lives is not for everyone (as the introduction notes, “discretion is advised”), Together We Will Go is, in the end, about friendship and learning to love.  ']"
      ]
     },
     "execution_count": 39,
     "metadata": {},
     "output_type": "execute_result"
    }
   ],
   "source": [
    "reviews = []\n",
    "for i in url:\n",
    "    book = requests.get(\"https://www.bookpage.com\"+i)\n",
    "    soup= BeautifulSoup(book.content,\"html.parser\")\n",
    "    rev = soup.find(\"div\",class_=\"article-body\")\n",
    "    reviews.append(rev.text.replace(\"\\n\",\" \"))\n",
    "reviews    \n"
   ]
  },
  {
   "cell_type": "code",
   "execution_count": 40,
   "metadata": {},
   "outputs": [
    {
     "data": {
      "text/html": [
       "<div>\n",
       "<style scoped>\n",
       "    .dataframe tbody tr th:only-of-type {\n",
       "        vertical-align: middle;\n",
       "    }\n",
       "\n",
       "    .dataframe tbody tr th {\n",
       "        vertical-align: top;\n",
       "    }\n",
       "\n",
       "    .dataframe thead th {\n",
       "        text-align: right;\n",
       "    }\n",
       "</style>\n",
       "<table border=\"1\" class=\"dataframe\">\n",
       "  <thead>\n",
       "    <tr style=\"text-align: right;\">\n",
       "      <th></th>\n",
       "      <th>Names</th>\n",
       "      <th>Author</th>\n",
       "      <th>Genre</th>\n",
       "      <th>Review</th>\n",
       "    </tr>\n",
       "  </thead>\n",
       "  <tbody>\n",
       "    <tr>\n",
       "      <th>0</th>\n",
       "      <td>How to Find Your Way in the Dark</td>\n",
       "      <td>Derek B. Miller</td>\n",
       "      <td>Fiction</td>\n",
       "      <td>Prepare for surprises galore in How to Find ...</td>\n",
       "    </tr>\n",
       "    <tr>\n",
       "      <th>1</th>\n",
       "      <td>All’s Well</td>\n",
       "      <td>Mona Awad</td>\n",
       "      <td>Fiction</td>\n",
       "      <td>Miranda Fitch, the protagonist of Mona Awad’...</td>\n",
       "    </tr>\n",
       "    <tr>\n",
       "      <th>2</th>\n",
       "      <td>Summer Fun</td>\n",
       "      <td>Jeanne Thornton</td>\n",
       "      <td>Fiction</td>\n",
       "      <td>It’s been nine years since the publication o...</td>\n",
       "    </tr>\n",
       "    <tr>\n",
       "      <th>3</th>\n",
       "      <td>What Strange Paradise</td>\n",
       "      <td>Omar El Akkad</td>\n",
       "      <td>Fiction</td>\n",
       "      <td>According to the UN Refugee Agency, there we...</td>\n",
       "    </tr>\n",
       "    <tr>\n",
       "      <th>4</th>\n",
       "      <td>China Room</td>\n",
       "      <td>Sunjeev Sahota</td>\n",
       "      <td>Fiction</td>\n",
       "      <td>Sunjeev Sahota’s brilliant second novel, the...</td>\n",
       "    </tr>\n",
       "  </tbody>\n",
       "</table>\n",
       "</div>"
      ],
      "text/plain": [
       "                              Names           Author    Genre  \\\n",
       "0  How to Find Your Way in the Dark  Derek B. Miller  Fiction   \n",
       "1                        All’s Well        Mona Awad  Fiction   \n",
       "2                        Summer Fun  Jeanne Thornton  Fiction   \n",
       "3             What Strange Paradise    Omar El Akkad  Fiction   \n",
       "4                        China Room   Sunjeev Sahota  Fiction   \n",
       "\n",
       "                                              Review  \n",
       "0    Prepare for surprises galore in How to Find ...  \n",
       "1    Miranda Fitch, the protagonist of Mona Awad’...  \n",
       "2    It’s been nine years since the publication o...  \n",
       "3    According to the UN Refugee Agency, there we...  \n",
       "4    Sunjeev Sahota’s brilliant second novel, the...  "
      ]
     },
     "execution_count": 40,
     "metadata": {},
     "output_type": "execute_result"
    }
   ],
   "source": [
    "import pandas as pd\n",
    "books=pd.DataFrame({\"Names\":name[0:5],\n",
    "                     \"Author\":author[0:5],\n",
    "                     \"Genre\":genre[0:5],\n",
    "                    \"Review\":reviews[0:5]})\n",
    "books"
   ]
  },
  {
   "cell_type": "markdown",
   "metadata": {},
   "source": [
    "# QUESTION:5"
   ]
  },
  {
   "cell_type": "code",
   "execution_count": 1,
   "metadata": {},
   "outputs": [],
   "source": [
    "import requests\n",
    "from bs4 import BeautifulSoup"
   ]
  },
  {
   "cell_type": "code",
   "execution_count": 10,
   "metadata": {},
   "outputs": [
    {
     "data": {
      "text/plain": [
       "<Response [200]>"
      ]
     },
     "execution_count": 10,
     "metadata": {},
     "output_type": "execute_result"
    }
   ],
   "source": [
    "request = requests.get(\"https://www.icc-cricket.com/rankings/mens/player-rankings/odi/batting\")\n",
    "request"
   ]
  },
  {
   "cell_type": "code",
   "execution_count": 11,
   "metadata": {},
   "outputs": [],
   "source": [
    "odi=BeautifulSoup(request.content)"
   ]
  },
  {
   "cell_type": "code",
   "execution_count": 12,
   "metadata": {},
   "outputs": [],
   "source": [
    "name=odi.find_all('table',class_=\"table rankings-table\")"
   ]
  },
  {
   "cell_type": "code",
   "execution_count": 13,
   "metadata": {},
   "outputs": [],
   "source": [
    "names=[]\n",
    "for i in name:\n",
    "    for j in i.find_all('a'):\n",
    "        names.append(j.text)"
   ]
  },
  {
   "cell_type": "code",
   "execution_count": 14,
   "metadata": {},
   "outputs": [],
   "source": [
    "names=names[1:11:]\n"
   ]
  },
  {
   "cell_type": "code",
   "execution_count": 15,
   "metadata": {},
   "outputs": [],
   "source": [
    "team=[]\n",
    "for i in odi.find_all('table',class_=\"table rankings-table\"):\n",
    "    for j in i.find_all('div',class_=\"rankings-block__banner--nationality\"):\n",
    "        team.append(j.text.replace('\\n',''))\n"
   ]
  },
  {
   "cell_type": "code",
   "execution_count": 17,
   "metadata": {},
   "outputs": [],
   "source": [
    "for i in odi.find_all('table',class_=\"table rankings-table\"):\n",
    "    for j in i.find_all('span',class_=\"table-body__logo-text\"):\n",
    "        team.append(j.text)\n"
   ]
  },
  {
   "cell_type": "code",
   "execution_count": 18,
   "metadata": {},
   "outputs": [],
   "source": [
    "teams=team[0:10]"
   ]
  },
  {
   "cell_type": "code",
   "execution_count": 19,
   "metadata": {},
   "outputs": [],
   "source": [
    "rating=[]\n",
    "for i in odi.find_all('table',class_=\"table rankings-table\"):\n",
    "    for j in i.find_all('div',class_=\"rankings-block__banner--rating\"):\n",
    "        rating.append(j.text)"
   ]
  },
  {
   "cell_type": "code",
   "execution_count": 20,
   "metadata": {},
   "outputs": [],
   "source": [
    "for i in odi.find_all('table',class_=\"table rankings-table\"):\n",
    "    for j in i.find_all('td',class_=\"table-body__cell rating\"):\n",
    "        rating.append(j.text)"
   ]
  },
  {
   "cell_type": "code",
   "execution_count": 21,
   "metadata": {},
   "outputs": [],
   "source": [
    "ratings=rating[0:10]\n"
   ]
  },
  {
   "cell_type": "code",
   "execution_count": 22,
   "metadata": {},
   "outputs": [],
   "source": [
    "record=[]\n",
    "for i in odi.find_all('table',class_=\"table rankings-table\"):\n",
    "    for j in i.find_all('span',class_=\"rankings-block__career-best-text\"):\n",
    "        record.append(j.text.replace('\\n','').strip())"
   ]
  },
  {
   "cell_type": "code",
   "execution_count": 23,
   "metadata": {},
   "outputs": [],
   "source": [
    "for i in odi.find_all('table',class_=\"table rankings-table\"):\n",
    "    for j in i.find_all('td',class_=\"table-body__cell u-text-right u-hide-phablet\"):\n",
    "        record.append(j.text.replace('\\n','').strip())"
   ]
  },
  {
   "cell_type": "code",
   "execution_count": 24,
   "metadata": {},
   "outputs": [],
   "source": [
    "records=record[0:10]"
   ]
  },
  {
   "cell_type": "code",
   "execution_count": 25,
   "metadata": {},
   "outputs": [
    {
     "data": {
      "text/html": [
       "<div>\n",
       "<style scoped>\n",
       "    .dataframe tbody tr th:only-of-type {\n",
       "        vertical-align: middle;\n",
       "    }\n",
       "\n",
       "    .dataframe tbody tr th {\n",
       "        vertical-align: top;\n",
       "    }\n",
       "\n",
       "    .dataframe thead th {\n",
       "        text-align: right;\n",
       "    }\n",
       "</style>\n",
       "<table border=\"1\" class=\"dataframe\">\n",
       "  <thead>\n",
       "    <tr style=\"text-align: right;\">\n",
       "      <th></th>\n",
       "      <th>Position</th>\n",
       "      <th>Names</th>\n",
       "      <th>Team</th>\n",
       "      <th>Ratings</th>\n",
       "      <th>Records</th>\n",
       "    </tr>\n",
       "  </thead>\n",
       "  <tbody>\n",
       "    <tr>\n",
       "      <th>0</th>\n",
       "      <td>1</td>\n",
       "      <td>Babar Azam</td>\n",
       "      <td>PAK</td>\n",
       "      <td>873</td>\n",
       "      <td>873 v England, 13/07/2021</td>\n",
       "    </tr>\n",
       "    <tr>\n",
       "      <th>1</th>\n",
       "      <td>2</td>\n",
       "      <td>Virat Kohli</td>\n",
       "      <td>IND</td>\n",
       "      <td>848</td>\n",
       "      <td>911 v England, 12/07/2018</td>\n",
       "    </tr>\n",
       "    <tr>\n",
       "      <th>2</th>\n",
       "      <td>3</td>\n",
       "      <td>Rohit Sharma</td>\n",
       "      <td>IND</td>\n",
       "      <td>817</td>\n",
       "      <td>885 v Sri Lanka, 06/07/2019</td>\n",
       "    </tr>\n",
       "    <tr>\n",
       "      <th>3</th>\n",
       "      <td>4</td>\n",
       "      <td>Ross Taylor</td>\n",
       "      <td>NZ</td>\n",
       "      <td>801</td>\n",
       "      <td>841 v Bangladesh, 05/06/2019</td>\n",
       "    </tr>\n",
       "    <tr>\n",
       "      <th>4</th>\n",
       "      <td>5</td>\n",
       "      <td>Aaron Finch</td>\n",
       "      <td>AUS</td>\n",
       "      <td>791</td>\n",
       "      <td>798 v England, 25/06/2019</td>\n",
       "    </tr>\n",
       "    <tr>\n",
       "      <th>5</th>\n",
       "      <td>6</td>\n",
       "      <td>Jonny Bairstow</td>\n",
       "      <td>ENG</td>\n",
       "      <td>775</td>\n",
       "      <td>796 v India, 26/03/2021</td>\n",
       "    </tr>\n",
       "    <tr>\n",
       "      <th>6</th>\n",
       "      <td>7</td>\n",
       "      <td>David Warner</td>\n",
       "      <td>AUS</td>\n",
       "      <td>773</td>\n",
       "      <td>880 v Pakistan, 26/01/2017</td>\n",
       "    </tr>\n",
       "    <tr>\n",
       "      <th>7</th>\n",
       "      <td>8</td>\n",
       "      <td>Shai Hope</td>\n",
       "      <td>WI</td>\n",
       "      <td>773</td>\n",
       "      <td>808 v Bangladesh, 17/05/2019</td>\n",
       "    </tr>\n",
       "    <tr>\n",
       "      <th>8</th>\n",
       "      <td>9</td>\n",
       "      <td>Francois du Plessis</td>\n",
       "      <td>SA</td>\n",
       "      <td>766</td>\n",
       "      <td>820 v Australia, 06/07/2019</td>\n",
       "    </tr>\n",
       "    <tr>\n",
       "      <th>9</th>\n",
       "      <td>10</td>\n",
       "      <td>Quinton de Kock</td>\n",
       "      <td>SA</td>\n",
       "      <td>758</td>\n",
       "      <td>813 v Sri Lanka, 10/03/2019</td>\n",
       "    </tr>\n",
       "  </tbody>\n",
       "</table>\n",
       "</div>"
      ],
      "text/plain": [
       "   Position                Names                     Team Ratings  \\\n",
       "0         1           Babar Azam  PAK                         873   \n",
       "1         2          Virat Kohli                      IND     848   \n",
       "2         3         Rohit Sharma                      IND     817   \n",
       "3         4          Ross Taylor                       NZ     801   \n",
       "4         5          Aaron Finch                      AUS     791   \n",
       "5         6       Jonny Bairstow                      ENG     775   \n",
       "6         7         David Warner                      AUS     773   \n",
       "7         8            Shai Hope                       WI     773   \n",
       "8         9  Francois du Plessis                       SA     766   \n",
       "9        10      Quinton de Kock                       SA     758   \n",
       "\n",
       "                        Records  \n",
       "0     873 v England, 13/07/2021  \n",
       "1     911 v England, 12/07/2018  \n",
       "2   885 v Sri Lanka, 06/07/2019  \n",
       "3  841 v Bangladesh, 05/06/2019  \n",
       "4     798 v England, 25/06/2019  \n",
       "5       796 v India, 26/03/2021  \n",
       "6    880 v Pakistan, 26/01/2017  \n",
       "7  808 v Bangladesh, 17/05/2019  \n",
       "8   820 v Australia, 06/07/2019  \n",
       "9   813 v Sri Lanka, 10/03/2019  "
      ]
     },
     "execution_count": 25,
     "metadata": {},
     "output_type": "execute_result"
    }
   ],
   "source": [
    "import pandas as pd\n",
    "batsman=pd.DataFrame({'Position':[1,2,3,4,5,6,7,8,9,10],\n",
    "                     \"Names\":names,\n",
    "                     \"Team\":teams,\n",
    "                     \"Ratings\":ratings,\n",
    "                     \"Records\":records})\n",
    "\n",
    "batsman"
   ]
  },
  {
   "cell_type": "code",
   "execution_count": 1,
   "metadata": {},
   "outputs": [],
   "source": [
    "import requests\n",
    "from bs4 import BeautifulSoup"
   ]
  },
  {
   "cell_type": "code",
   "execution_count": 2,
   "metadata": {},
   "outputs": [
    {
     "data": {
      "text/plain": [
       "<Response [200]>"
      ]
     },
     "execution_count": 2,
     "metadata": {},
     "output_type": "execute_result"
    }
   ],
   "source": [
    "request = requests.get(\"https://www.icc-cricket.com/rankings/mens/player-rankings/odi/bowling\")\n",
    "request"
   ]
  },
  {
   "cell_type": "code",
   "execution_count": 3,
   "metadata": {},
   "outputs": [],
   "source": [
    "odi=BeautifulSoup(request.content)"
   ]
  },
  {
   "cell_type": "code",
   "execution_count": 4,
   "metadata": {},
   "outputs": [],
   "source": [
    "name=odi.find_all('table',class_=\"table rankings-table\")"
   ]
  },
  {
   "cell_type": "code",
   "execution_count": 5,
   "metadata": {},
   "outputs": [],
   "source": [
    "names=[]\n",
    "for i in name:\n",
    "    for j in i.find_all('a'):\n",
    "        names.append(j.text)"
   ]
  },
  {
   "cell_type": "code",
   "execution_count": 6,
   "metadata": {},
   "outputs": [],
   "source": [
    "names=names[1:11:]"
   ]
  },
  {
   "cell_type": "code",
   "execution_count": 7,
   "metadata": {},
   "outputs": [],
   "source": [
    "team=[]\n",
    "for i in odi.find_all('table',class_=\"table rankings-table\"):\n",
    "    for j in i.find_all('div',class_=\"rankings-block__banner--nationality\"):\n",
    "        team.append(j.text.replace('\\n',''))\n"
   ]
  },
  {
   "cell_type": "code",
   "execution_count": 8,
   "metadata": {},
   "outputs": [],
   "source": [
    "for i in odi.find_all('table',class_=\"table rankings-table\"):\n",
    "    for j in i.find_all('span',class_=\"table-body__logo-text\"):\n",
    "        team.append(j.text)\n"
   ]
  },
  {
   "cell_type": "code",
   "execution_count": 9,
   "metadata": {},
   "outputs": [],
   "source": [
    "teams=team[0:10]"
   ]
  },
  {
   "cell_type": "code",
   "execution_count": 10,
   "metadata": {},
   "outputs": [],
   "source": [
    "rating=[]\n",
    "for i in odi.find_all('table',class_=\"table rankings-table\"):\n",
    "    for j in i.find_all('div',class_=\"rankings-block__banner--rating\"):\n",
    "        rating.append(j.text)"
   ]
  },
  {
   "cell_type": "code",
   "execution_count": 11,
   "metadata": {},
   "outputs": [],
   "source": [
    "for i in odi.find_all('table',class_=\"table rankings-table\"):\n",
    "    for j in i.find_all('td',class_=\"table-body__cell rating\"):\n",
    "        rating.append(j.text)"
   ]
  },
  {
   "cell_type": "code",
   "execution_count": 12,
   "metadata": {},
   "outputs": [],
   "source": [
    "ratings=rating[0:10]"
   ]
  },
  {
   "cell_type": "code",
   "execution_count": 13,
   "metadata": {},
   "outputs": [],
   "source": [
    "record=[]\n",
    "for i in odi.find_all('table',class_=\"table rankings-table\"):\n",
    "    for j in i.find_all('span',class_=\"rankings-block__career-best-text\"):\n",
    "        record.append(j.text.replace('\\n','').strip())"
   ]
  },
  {
   "cell_type": "code",
   "execution_count": 14,
   "metadata": {},
   "outputs": [],
   "source": [
    "for i in odi.find_all('table',class_=\"table rankings-table\"):\n",
    "    for j in i.find_all('td',class_=\"table-body__cell u-text-right u-hide-phablet\"):\n",
    "        record.append(j.text.replace('\\n','').strip())"
   ]
  },
  {
   "cell_type": "code",
   "execution_count": 15,
   "metadata": {},
   "outputs": [],
   "source": [
    "records=record[0:10]"
   ]
  },
  {
   "cell_type": "code",
   "execution_count": 16,
   "metadata": {},
   "outputs": [],
   "source": [
    "import pandas as pd\n",
    "bowler=pd.DataFrame({'Position':[1,2,3,4,5,6,7,8,9,10],\n",
    "                     \"Names\":names,\n",
    "                     \"Team\":teams,\n",
    "                     \"Ratings\":ratings,\n",
    "                     \"Records\":records})"
   ]
  },
  {
   "cell_type": "code",
   "execution_count": 17,
   "metadata": {},
   "outputs": [
    {
     "data": {
      "text/html": [
       "<div>\n",
       "<style scoped>\n",
       "    .dataframe tbody tr th:only-of-type {\n",
       "        vertical-align: middle;\n",
       "    }\n",
       "\n",
       "    .dataframe tbody tr th {\n",
       "        vertical-align: top;\n",
       "    }\n",
       "\n",
       "    .dataframe thead th {\n",
       "        text-align: right;\n",
       "    }\n",
       "</style>\n",
       "<table border=\"1\" class=\"dataframe\">\n",
       "  <thead>\n",
       "    <tr style=\"text-align: right;\">\n",
       "      <th></th>\n",
       "      <th>Position</th>\n",
       "      <th>Names</th>\n",
       "      <th>Team</th>\n",
       "      <th>Ratings</th>\n",
       "      <th>Records</th>\n",
       "    </tr>\n",
       "  </thead>\n",
       "  <tbody>\n",
       "    <tr>\n",
       "      <th>0</th>\n",
       "      <td>1</td>\n",
       "      <td>Trent Boult</td>\n",
       "      <td>NZ</td>\n",
       "      <td>737</td>\n",
       "      <td>770 v West Indies, 22/06/2019</td>\n",
       "    </tr>\n",
       "    <tr>\n",
       "      <th>1</th>\n",
       "      <td>2</td>\n",
       "      <td>Mujeeb Ur Rahman</td>\n",
       "      <td>AFG</td>\n",
       "      <td>708</td>\n",
       "      <td>712 v Ireland, 24/01/2021</td>\n",
       "    </tr>\n",
       "    <tr>\n",
       "      <th>2</th>\n",
       "      <td>3</td>\n",
       "      <td>Chris Woakes</td>\n",
       "      <td>ENG</td>\n",
       "      <td>700</td>\n",
       "      <td>711 v Sri Lanka, 04/07/2021</td>\n",
       "    </tr>\n",
       "    <tr>\n",
       "      <th>3</th>\n",
       "      <td>4</td>\n",
       "      <td>Mehedi Hasan</td>\n",
       "      <td>BAN</td>\n",
       "      <td>692</td>\n",
       "      <td>725 v Sri Lanka, 25/05/2021</td>\n",
       "    </tr>\n",
       "    <tr>\n",
       "      <th>4</th>\n",
       "      <td>5</td>\n",
       "      <td>Matt Henry</td>\n",
       "      <td>NZ</td>\n",
       "      <td>691</td>\n",
       "      <td>691 v Bangladesh, 26/03/2021</td>\n",
       "    </tr>\n",
       "    <tr>\n",
       "      <th>5</th>\n",
       "      <td>6</td>\n",
       "      <td>Jasprit Bumrah</td>\n",
       "      <td>IND</td>\n",
       "      <td>683</td>\n",
       "      <td>841 v West Indies, 01/11/2018</td>\n",
       "    </tr>\n",
       "    <tr>\n",
       "      <th>6</th>\n",
       "      <td>7</td>\n",
       "      <td>Josh Hazlewood</td>\n",
       "      <td>AUS</td>\n",
       "      <td>660</td>\n",
       "      <td>733 v England, 26/01/2018</td>\n",
       "    </tr>\n",
       "    <tr>\n",
       "      <th>7</th>\n",
       "      <td>8</td>\n",
       "      <td>Shakib Al Hasan</td>\n",
       "      <td>BAN</td>\n",
       "      <td>650</td>\n",
       "      <td>717 v Zimbabwe, 05/11/2009</td>\n",
       "    </tr>\n",
       "    <tr>\n",
       "      <th>8</th>\n",
       "      <td>9</td>\n",
       "      <td>Kagiso Rabada</td>\n",
       "      <td>SA</td>\n",
       "      <td>648</td>\n",
       "      <td>724 v England, 29/05/2017</td>\n",
       "    </tr>\n",
       "    <tr>\n",
       "      <th>9</th>\n",
       "      <td>10</td>\n",
       "      <td>Pat Cummins</td>\n",
       "      <td>AUS</td>\n",
       "      <td>646</td>\n",
       "      <td>729 v Pakistan, 12/06/2019</td>\n",
       "    </tr>\n",
       "  </tbody>\n",
       "</table>\n",
       "</div>"
      ],
      "text/plain": [
       "   Position             Names                    Team Ratings  \\\n",
       "0         1       Trent Boult  NZ                         737   \n",
       "1         2  Mujeeb Ur Rahman                     AFG     708   \n",
       "2         3      Chris Woakes                     ENG     700   \n",
       "3         4      Mehedi Hasan                     BAN     692   \n",
       "4         5        Matt Henry                      NZ     691   \n",
       "5         6    Jasprit Bumrah                     IND     683   \n",
       "6         7    Josh Hazlewood                     AUS     660   \n",
       "7         8   Shakib Al Hasan                     BAN     650   \n",
       "8         9     Kagiso Rabada                      SA     648   \n",
       "9        10       Pat Cummins                     AUS     646   \n",
       "\n",
       "                         Records  \n",
       "0  770 v West Indies, 22/06/2019  \n",
       "1      712 v Ireland, 24/01/2021  \n",
       "2    711 v Sri Lanka, 04/07/2021  \n",
       "3    725 v Sri Lanka, 25/05/2021  \n",
       "4   691 v Bangladesh, 26/03/2021  \n",
       "5  841 v West Indies, 01/11/2018  \n",
       "6      733 v England, 26/01/2018  \n",
       "7     717 v Zimbabwe, 05/11/2009  \n",
       "8      724 v England, 29/05/2017  \n",
       "9     729 v Pakistan, 12/06/2019  "
      ]
     },
     "execution_count": 17,
     "metadata": {},
     "output_type": "execute_result"
    }
   ],
   "source": [
    "bowler"
   ]
  },
  {
   "cell_type": "code",
   "execution_count": 59,
   "metadata": {},
   "outputs": [],
   "source": [
    "import requests\n",
    "from bs4 import BeautifulSoup"
   ]
  },
  {
   "cell_type": "code",
   "execution_count": 60,
   "metadata": {},
   "outputs": [
    {
     "data": {
      "text/plain": [
       "<Response [200]>"
      ]
     },
     "execution_count": 60,
     "metadata": {},
     "output_type": "execute_result"
    }
   ],
   "source": [
    "request = requests.get(\"https://www.icc-cricket.com/rankings/mens/team-rankings/odi\")\n",
    "request"
   ]
  },
  {
   "cell_type": "code",
   "execution_count": 61,
   "metadata": {},
   "outputs": [],
   "source": [
    "odi=BeautifulSoup(request.content)"
   ]
  },
  {
   "cell_type": "code",
   "execution_count": 62,
   "metadata": {},
   "outputs": [],
   "source": [
    "name=odi.find_all('table',class_=\"table rankings-table\")"
   ]
  },
  {
   "cell_type": "code",
   "execution_count": 63,
   "metadata": {},
   "outputs": [],
   "source": [
    "Name=[]\n",
    "for i in odi.find_all('div',class_='rankings-block__container full rankings-table'):\n",
    "    for j in i.find_all('span',class_='u-hide-phablet'):\n",
    "        Name.append(j.text.replace('\\n','').strip())"
   ]
  },
  {
   "cell_type": "code",
   "execution_count": 74,
   "metadata": {},
   "outputs": [],
   "source": [
    "Name=Name[0:10]"
   ]
  },
  {
   "cell_type": "code",
   "execution_count": 65,
   "metadata": {},
   "outputs": [
    {
     "data": {
      "text/plain": [
       "['17']"
      ]
     },
     "execution_count": 65,
     "metadata": {},
     "output_type": "execute_result"
    }
   ],
   "source": [
    "matches=[]\n",
    "for i in odi.find_all(\"td\",class_=\"rankings-block__banner--matches\"):\n",
    "    matches.append(i.text)\n",
    "matches"
   ]
  },
  {
   "cell_type": "code",
   "execution_count": 66,
   "metadata": {},
   "outputs": [
    {
     "data": {
      "text/plain": [
       "10"
      ]
     },
     "execution_count": 66,
     "metadata": {},
     "output_type": "execute_result"
    }
   ],
   "source": [
    "match=[]\n",
    "for i in odi.find_all(\"td\",class_=\"table-body__cell u-center-text\"):\n",
    "    match.append(i.text)\n",
    "match=matches+match[:18:2]\n",
    "len(match)"
   ]
  },
  {
   "cell_type": "code",
   "execution_count": 67,
   "metadata": {},
   "outputs": [],
   "source": [
    "points=[]\n",
    "for i in odi.find_all(\"td\",class_=\"rankings-block__banner--points\"):\n",
    "    points.append(i.text)"
   ]
  },
  {
   "cell_type": "code",
   "execution_count": 68,
   "metadata": {},
   "outputs": [
    {
     "data": {
      "text/plain": [
       "10"
      ]
     },
     "execution_count": 68,
     "metadata": {},
     "output_type": "execute_result"
    }
   ],
   "source": [
    "point=[]\n",
    "for i in odi.find_all(\"td\",class_=\"table-body__cell u-center-text\"):\n",
    "    point.append(i.text)\n",
    "point=points+point[1:18:2]\n",
    "len(point)"
   ]
  },
  {
   "cell_type": "code",
   "execution_count": 69,
   "metadata": {},
   "outputs": [],
   "source": [
    "ratings=[]\n",
    "for i in odi.find_all(\"td\",class_=\"rankings-block__banner--rating u-text-right\"):\n",
    "    ratings.append(i.text.replace('\\n','').strip())"
   ]
  },
  {
   "cell_type": "code",
   "execution_count": 70,
   "metadata": {},
   "outputs": [],
   "source": [
    "rating=[]\n",
    "for i in odi.find_all(\"td\",class_=\"table-body__cell u-text-right rating\"):\n",
    "    rating.append(i.text.replace('\\n','').strip())"
   ]
  },
  {
   "cell_type": "code",
   "execution_count": 77,
   "metadata": {},
   "outputs": [],
   "source": [
    "rating=ratings+rating\n",
    "rating=rating[0:20:2]"
   ]
  },
  {
   "cell_type": "code",
   "execution_count": 78,
   "metadata": {},
   "outputs": [],
   "source": [
    "import pandas as pd\n",
    "team=pd.DataFrame({\n",
    "                     \"Names\":Name,\n",
    "                     \"Match\":match,\n",
    "                   'Points':point,\n",
    "                    \"Ratings\":rating})"
   ]
  },
  {
   "cell_type": "code",
   "execution_count": 79,
   "metadata": {},
   "outputs": [
    {
     "data": {
      "text/html": [
       "<div>\n",
       "<style scoped>\n",
       "    .dataframe tbody tr th:only-of-type {\n",
       "        vertical-align: middle;\n",
       "    }\n",
       "\n",
       "    .dataframe tbody tr th {\n",
       "        vertical-align: top;\n",
       "    }\n",
       "\n",
       "    .dataframe thead th {\n",
       "        text-align: right;\n",
       "    }\n",
       "</style>\n",
       "<table border=\"1\" class=\"dataframe\">\n",
       "  <thead>\n",
       "    <tr style=\"text-align: right;\">\n",
       "      <th></th>\n",
       "      <th>Names</th>\n",
       "      <th>Match</th>\n",
       "      <th>Points</th>\n",
       "      <th>Ratings</th>\n",
       "    </tr>\n",
       "  </thead>\n",
       "  <tbody>\n",
       "    <tr>\n",
       "      <th>0</th>\n",
       "      <td>New Zealand</td>\n",
       "      <td>17</td>\n",
       "      <td>2,054</td>\n",
       "      <td>121</td>\n",
       "    </tr>\n",
       "    <tr>\n",
       "      <th>1</th>\n",
       "      <td>England</td>\n",
       "      <td>32</td>\n",
       "      <td>3,793</td>\n",
       "      <td>119</td>\n",
       "    </tr>\n",
       "    <tr>\n",
       "      <th>2</th>\n",
       "      <td>Australia</td>\n",
       "      <td>26</td>\n",
       "      <td>3,077</td>\n",
       "      <td>113</td>\n",
       "    </tr>\n",
       "    <tr>\n",
       "      <th>3</th>\n",
       "      <td>India</td>\n",
       "      <td>32</td>\n",
       "      <td>3,624</td>\n",
       "      <td>93</td>\n",
       "    </tr>\n",
       "    <tr>\n",
       "      <th>4</th>\n",
       "      <td>South Africa</td>\n",
       "      <td>22</td>\n",
       "      <td>2,267</td>\n",
       "      <td>82</td>\n",
       "    </tr>\n",
       "    <tr>\n",
       "      <th>5</th>\n",
       "      <td>Pakistan</td>\n",
       "      <td>27</td>\n",
       "      <td>2,524</td>\n",
       "      <td>62</td>\n",
       "    </tr>\n",
       "    <tr>\n",
       "      <th>6</th>\n",
       "      <td>Bangladesh</td>\n",
       "      <td>29</td>\n",
       "      <td>2,639</td>\n",
       "      <td>46</td>\n",
       "    </tr>\n",
       "    <tr>\n",
       "      <th>7</th>\n",
       "      <td>West Indies</td>\n",
       "      <td>28</td>\n",
       "      <td>2,290</td>\n",
       "      <td>37</td>\n",
       "    </tr>\n",
       "    <tr>\n",
       "      <th>8</th>\n",
       "      <td>Sri Lanka</td>\n",
       "      <td>29</td>\n",
       "      <td>2,303</td>\n",
       "      <td>24</td>\n",
       "    </tr>\n",
       "    <tr>\n",
       "      <th>9</th>\n",
       "      <td>Afghanistan</td>\n",
       "      <td>17</td>\n",
       "      <td>1,054</td>\n",
       "      <td>16</td>\n",
       "    </tr>\n",
       "  </tbody>\n",
       "</table>\n",
       "</div>"
      ],
      "text/plain": [
       "          Names Match Points Ratings\n",
       "0   New Zealand    17  2,054     121\n",
       "1       England    32  3,793     119\n",
       "2     Australia    26  3,077     113\n",
       "3         India    32  3,624      93\n",
       "4  South Africa    22  2,267      82\n",
       "5      Pakistan    27  2,524      62\n",
       "6    Bangladesh    29  2,639      46\n",
       "7   West Indies    28  2,290      37\n",
       "8     Sri Lanka    29  2,303      24\n",
       "9   Afghanistan    17  1,054      16"
      ]
     },
     "execution_count": 79,
     "metadata": {},
     "output_type": "execute_result"
    }
   ],
   "source": [
    "team"
   ]
  },
  {
   "cell_type": "markdown",
   "metadata": {},
   "source": [
    "# QUESTION :6"
   ]
  },
  {
   "cell_type": "code",
   "execution_count": 80,
   "metadata": {},
   "outputs": [],
   "source": [
    "import requests\n",
    "from bs4 import BeautifulSoup"
   ]
  },
  {
   "cell_type": "code",
   "execution_count": 81,
   "metadata": {},
   "outputs": [
    {
     "data": {
      "text/plain": [
       "<Response [200]>"
      ]
     },
     "execution_count": 81,
     "metadata": {},
     "output_type": "execute_result"
    }
   ],
   "source": [
    "request = requests.get(\"https://www.icc-cricket.com/rankings/womens/team-rankings/odi\")\n",
    "request"
   ]
  },
  {
   "cell_type": "code",
   "execution_count": 82,
   "metadata": {},
   "outputs": [],
   "source": [
    "women=BeautifulSoup(request.content)"
   ]
  },
  {
   "cell_type": "code",
   "execution_count": 92,
   "metadata": {},
   "outputs": [],
   "source": [
    "name=[]\n",
    "for i in women.find_all(\"span\",class_=\"u-hide-phablet\"):\n",
    "     name.append(i.text)\n"
   ]
  },
  {
   "cell_type": "code",
   "execution_count": 93,
   "metadata": {},
   "outputs": [],
   "source": [
    "match=[]\n",
    "for i in women.find_all(\"td\",class_=\"rankings-block__banner--matches\"):\n",
    "    match.append(i.text)\n"
   ]
  },
  {
   "cell_type": "code",
   "execution_count": 94,
   "metadata": {},
   "outputs": [],
   "source": [
    "t = []\n",
    "for i in women.find_all(\"td\",class_=\"table-body__cell u-center-text\"):\n",
    "    t.append(i.text)\n",
    "match=match+t[::2]\n"
   ]
  },
  {
   "cell_type": "code",
   "execution_count": 95,
   "metadata": {},
   "outputs": [],
   "source": [
    "point= []\n",
    "for i in women.find_all(\"td\",class_=\"rankings-block__banner--points\"):\n",
    "    point.append(i.text)\n",
    "point=point+t[1::2]\n"
   ]
  },
  {
   "cell_type": "code",
   "execution_count": 96,
   "metadata": {},
   "outputs": [],
   "source": [
    "rating=[]\n",
    "for i in women.find_all(\"td\",class_=\"rankings-block__banner--rating u-text-right\"):\n",
    "    rating.append(i.text.replace(\"\\n\",\"\").strip())\n",
    "\n"
   ]
  },
  {
   "cell_type": "code",
   "execution_count": 97,
   "metadata": {},
   "outputs": [],
   "source": [
    "for i in women.find_all(\"td\",class_=\"table-body__cell u-text-right rating\"):\n",
    "    rating.append(i.text)"
   ]
  },
  {
   "cell_type": "code",
   "execution_count": 99,
   "metadata": {},
   "outputs": [
    {
     "data": {
      "text/html": [
       "<div>\n",
       "<style scoped>\n",
       "    .dataframe tbody tr th:only-of-type {\n",
       "        vertical-align: middle;\n",
       "    }\n",
       "\n",
       "    .dataframe tbody tr th {\n",
       "        vertical-align: top;\n",
       "    }\n",
       "\n",
       "    .dataframe thead th {\n",
       "        text-align: right;\n",
       "    }\n",
       "</style>\n",
       "<table border=\"1\" class=\"dataframe\">\n",
       "  <thead>\n",
       "    <tr style=\"text-align: right;\">\n",
       "      <th></th>\n",
       "      <th>Top 10 ODI Women's Team</th>\n",
       "      <th>Matches</th>\n",
       "      <th>Points</th>\n",
       "      <th>Rating</th>\n",
       "    </tr>\n",
       "  </thead>\n",
       "  <tbody>\n",
       "    <tr>\n",
       "      <th>0</th>\n",
       "      <td>Australia</td>\n",
       "      <td>18</td>\n",
       "      <td>2,955</td>\n",
       "      <td>164</td>\n",
       "    </tr>\n",
       "    <tr>\n",
       "      <th>1</th>\n",
       "      <td>England</td>\n",
       "      <td>20</td>\n",
       "      <td>2,370</td>\n",
       "      <td>119</td>\n",
       "    </tr>\n",
       "    <tr>\n",
       "      <th>2</th>\n",
       "      <td>South Africa</td>\n",
       "      <td>24</td>\n",
       "      <td>2,828</td>\n",
       "      <td>118</td>\n",
       "    </tr>\n",
       "    <tr>\n",
       "      <th>3</th>\n",
       "      <td>India</td>\n",
       "      <td>23</td>\n",
       "      <td>2,535</td>\n",
       "      <td>110</td>\n",
       "    </tr>\n",
       "    <tr>\n",
       "      <th>4</th>\n",
       "      <td>New Zealand</td>\n",
       "      <td>21</td>\n",
       "      <td>1,947</td>\n",
       "      <td>93</td>\n",
       "    </tr>\n",
       "    <tr>\n",
       "      <th>5</th>\n",
       "      <td>West Indies</td>\n",
       "      <td>17</td>\n",
       "      <td>1,427</td>\n",
       "      <td>84</td>\n",
       "    </tr>\n",
       "    <tr>\n",
       "      <th>6</th>\n",
       "      <td>Pakistan</td>\n",
       "      <td>20</td>\n",
       "      <td>1,496</td>\n",
       "      <td>75</td>\n",
       "    </tr>\n",
       "    <tr>\n",
       "      <th>7</th>\n",
       "      <td>Bangladesh</td>\n",
       "      <td>5</td>\n",
       "      <td>306</td>\n",
       "      <td>61</td>\n",
       "    </tr>\n",
       "    <tr>\n",
       "      <th>8</th>\n",
       "      <td>Sri Lanka</td>\n",
       "      <td>11</td>\n",
       "      <td>519</td>\n",
       "      <td>47</td>\n",
       "    </tr>\n",
       "    <tr>\n",
       "      <th>9</th>\n",
       "      <td>Ireland</td>\n",
       "      <td>2</td>\n",
       "      <td>25</td>\n",
       "      <td>13</td>\n",
       "    </tr>\n",
       "  </tbody>\n",
       "</table>\n",
       "</div>"
      ],
      "text/plain": [
       "  Top 10 ODI Women's Team Matches Points Rating\n",
       "0               Australia      18  2,955    164\n",
       "1                 England      20  2,370    119\n",
       "2            South Africa      24  2,828    118\n",
       "3                   India      23  2,535    110\n",
       "4             New Zealand      21  1,947     93\n",
       "5             West Indies      17  1,427     84\n",
       "6                Pakistan      20  1,496     75\n",
       "7              Bangladesh       5    306     61\n",
       "8               Sri Lanka      11    519     47\n",
       "9                 Ireland       2     25     13"
      ]
     },
     "execution_count": 99,
     "metadata": {},
     "output_type": "execute_result"
    }
   ],
   "source": [
    "df4 = pd.DataFrame({\"Top 10 ODI Women's Team\":name[0:10],\n",
    "                   \"Matches\":match,\n",
    "                   \"Points\":point,\n",
    "                   \"Rating\":rating\n",
    "                   })\n",
    "df4\n"
   ]
  },
  {
   "cell_type": "code",
   "execution_count": 100,
   "metadata": {},
   "outputs": [],
   "source": [
    "import requests\n",
    "from bs4 import BeautifulSoup"
   ]
  },
  {
   "cell_type": "code",
   "execution_count": 103,
   "metadata": {},
   "outputs": [
    {
     "data": {
      "text/plain": [
       "<Response [200]>"
      ]
     },
     "execution_count": 103,
     "metadata": {},
     "output_type": "execute_result"
    }
   ],
   "source": [
    "request=requests.get(\"https://www.icc-cricket.com/rankings/womens/player-rankings/odi/all-rounder\")\n",
    "request\n"
   ]
  },
  {
   "cell_type": "code",
   "execution_count": 106,
   "metadata": {},
   "outputs": [],
   "source": [
    "soup=BeautifulSoup(request.content)"
   ]
  },
  {
   "cell_type": "code",
   "execution_count": 133,
   "metadata": {},
   "outputs": [],
   "source": [
    "name= []\n",
    "for i in soup.find_all(\"table\",class_=\"table rankings-table\"):\n",
    "    for j in i.find_all(\"a\"):\n",
    "        name.append(j.text.replace(\"\\n\",\"\"))\n",
    "name.remove(\"\")#Removing the empty 0 index\n"
   ]
  },
  {
   "cell_type": "code",
   "execution_count": 134,
   "metadata": {},
   "outputs": [],
   "source": [
    "team=[]\n",
    "for i in soup.find_all(\"div\",class_=\"rankings-block__banner--nationality\"):\n",
    "    team.append(i.text.strip())\n"
   ]
  },
  {
   "cell_type": "code",
   "execution_count": 135,
   "metadata": {},
   "outputs": [],
   "source": [
    "for i in soup.find_all(\"span\",class_=\"table-body__logo-text\"):\n",
    "    team.append(i.text)\n"
   ]
  },
  {
   "cell_type": "code",
   "execution_count": 136,
   "metadata": {},
   "outputs": [],
   "source": [
    "Rating =[]\n",
    "for i in soup.find_all(\"div\",class_=\"rankings-block__banner--rating\"):\n",
    "    Rating.append(i.text)\n"
   ]
  },
  {
   "cell_type": "code",
   "execution_count": 137,
   "metadata": {},
   "outputs": [],
   "source": [
    "for i in soup.find_all(\"td\",class_=\"table-body__cell rating\"):\n",
    "    Rating.append(i.text)\n"
   ]
  },
  {
   "cell_type": "code",
   "execution_count": 138,
   "metadata": {},
   "outputs": [
    {
     "data": {
      "text/html": [
       "<div>\n",
       "<style scoped>\n",
       "    .dataframe tbody tr th:only-of-type {\n",
       "        vertical-align: middle;\n",
       "    }\n",
       "\n",
       "    .dataframe tbody tr th {\n",
       "        vertical-align: top;\n",
       "    }\n",
       "\n",
       "    .dataframe thead th {\n",
       "        text-align: right;\n",
       "    }\n",
       "</style>\n",
       "<table border=\"1\" class=\"dataframe\">\n",
       "  <thead>\n",
       "    <tr style=\"text-align: right;\">\n",
       "      <th></th>\n",
       "      <th>Top 10 Women's All rounder</th>\n",
       "      <th>Team</th>\n",
       "      <th>Rating</th>\n",
       "    </tr>\n",
       "  </thead>\n",
       "  <tbody>\n",
       "    <tr>\n",
       "      <th>0</th>\n",
       "      <td>Mithali Raj</td>\n",
       "      <td>IND</td>\n",
       "      <td>762</td>\n",
       "    </tr>\n",
       "    <tr>\n",
       "      <th>1</th>\n",
       "      <td>Lizelle Lee</td>\n",
       "      <td>SA</td>\n",
       "      <td>758</td>\n",
       "    </tr>\n",
       "    <tr>\n",
       "      <th>2</th>\n",
       "      <td>Alyssa Healy</td>\n",
       "      <td>AUS</td>\n",
       "      <td>756</td>\n",
       "    </tr>\n",
       "    <tr>\n",
       "      <th>3</th>\n",
       "      <td>Tammy Beaumont</td>\n",
       "      <td>ENG</td>\n",
       "      <td>754</td>\n",
       "    </tr>\n",
       "    <tr>\n",
       "      <th>4</th>\n",
       "      <td>Stafanie Taylor</td>\n",
       "      <td>WI</td>\n",
       "      <td>736</td>\n",
       "    </tr>\n",
       "    <tr>\n",
       "      <th>5</th>\n",
       "      <td>Meg Lanning</td>\n",
       "      <td>AUS</td>\n",
       "      <td>723</td>\n",
       "    </tr>\n",
       "    <tr>\n",
       "      <th>6</th>\n",
       "      <td>Amy Satterthwaite</td>\n",
       "      <td>NZ</td>\n",
       "      <td>715</td>\n",
       "    </tr>\n",
       "    <tr>\n",
       "      <th>7</th>\n",
       "      <td>Natalie Sciver</td>\n",
       "      <td>ENG</td>\n",
       "      <td>706</td>\n",
       "    </tr>\n",
       "    <tr>\n",
       "      <th>8</th>\n",
       "      <td>Smriti Mandhana</td>\n",
       "      <td>IND</td>\n",
       "      <td>701</td>\n",
       "    </tr>\n",
       "    <tr>\n",
       "      <th>9</th>\n",
       "      <td>Laura Wolvaardt</td>\n",
       "      <td>SA</td>\n",
       "      <td>683</td>\n",
       "    </tr>\n",
       "  </tbody>\n",
       "</table>\n",
       "</div>"
      ],
      "text/plain": [
       "  Top 10 Women's All rounder Team Rating\n",
       "0                Mithali Raj  IND    762\n",
       "1                Lizelle Lee   SA    758\n",
       "2               Alyssa Healy  AUS    756\n",
       "3             Tammy Beaumont  ENG    754\n",
       "4            Stafanie Taylor   WI    736\n",
       "5                Meg Lanning  AUS    723\n",
       "6          Amy Satterthwaite   NZ    715\n",
       "7             Natalie Sciver  ENG    706\n",
       "8            Smriti Mandhana  IND    701\n",
       "9            Laura Wolvaardt   SA    683"
      ]
     },
     "execution_count": 138,
     "metadata": {},
     "output_type": "execute_result"
    }
   ],
   "source": [
    "df6 = pd.DataFrame({\"Top 10 Women's All rounder\":name[:10],\n",
    "                   \"Team\":team[:10],\n",
    "                   \"Rating\":Rating[:10]})\n",
    "df6\n"
   ]
  },
  {
   "cell_type": "code",
   "execution_count": 1,
   "metadata": {},
   "outputs": [
    {
     "data": {
      "text/plain": [
       "<Response [200]>"
      ]
     },
     "execution_count": 1,
     "metadata": {},
     "output_type": "execute_result"
    }
   ],
   "source": [
    "import requests\n",
    "from bs4 import BeautifulSoup\n",
    "request = requests.get(\"https://www.icc-cricket.com/rankings/womens/player-rankings/odi/batting\")\n",
    "request"
   ]
  },
  {
   "cell_type": "code",
   "execution_count": 2,
   "metadata": {},
   "outputs": [],
   "source": [
    "beauty = BeautifulSoup(request.content)"
   ]
  },
  {
   "cell_type": "code",
   "execution_count": 3,
   "metadata": {},
   "outputs": [],
   "source": [
    "name=[]\n",
    "for i in beauty.find_all(\"table\",class_=\"table rankings-table\"):\n",
    "    for j in i.find_all(\"a\"):\n",
    "        name.append(j.text.replace(\"\\n\",\"\"))\n",
    "name.remove(\"\")"
   ]
  },
  {
   "cell_type": "code",
   "execution_count": 40,
   "metadata": {},
   "outputs": [],
   "source": [
    "t=[]\n",
    "for i in beauty.find_all(\"table\",class_=\"table rankings-table\"):\n",
    "    for j in i.find_all(\"td\"):\n",
    "        t.append(j.text.replace(\"\\n\",\"\").strip())"
   ]
  },
  {
   "cell_type": "code",
   "execution_count": 6,
   "metadata": {},
   "outputs": [],
   "source": [
    "team = []\n",
    "for i in range(2,len(t),5):\n",
    "    team.append(t[i])\n"
   ]
  },
  {
   "cell_type": "code",
   "execution_count": 7,
   "metadata": {},
   "outputs": [],
   "source": [
    "Rating = []\n",
    "for i in range(3,len(t),5):\n",
    "    Rating.append(t[i])\n"
   ]
  },
  {
   "cell_type": "code",
   "execution_count": 8,
   "metadata": {},
   "outputs": [],
   "source": [
    "career = []\n",
    "for i in t[4::5]:\n",
    "    career.append(i)\n"
   ]
  },
  {
   "cell_type": "code",
   "execution_count": 9,
   "metadata": {},
   "outputs": [
    {
     "data": {
      "text/html": [
       "<div>\n",
       "<style scoped>\n",
       "    .dataframe tbody tr th:only-of-type {\n",
       "        vertical-align: middle;\n",
       "    }\n",
       "\n",
       "    .dataframe tbody tr th {\n",
       "        vertical-align: top;\n",
       "    }\n",
       "\n",
       "    .dataframe thead th {\n",
       "        text-align: right;\n",
       "    }\n",
       "</style>\n",
       "<table border=\"1\" class=\"dataframe\">\n",
       "  <thead>\n",
       "    <tr style=\"text-align: right;\">\n",
       "      <th></th>\n",
       "      <th>Player_Name</th>\n",
       "      <th>Team</th>\n",
       "      <th>Rating</th>\n",
       "      <th>Career Best Rating</th>\n",
       "    </tr>\n",
       "  </thead>\n",
       "  <tbody>\n",
       "    <tr>\n",
       "      <th>0</th>\n",
       "      <td>Mithali Raj</td>\n",
       "      <td>IND</td>\n",
       "      <td>762</td>\n",
       "      <td>839 v Australia, 24/12/2004</td>\n",
       "    </tr>\n",
       "    <tr>\n",
       "      <th>1</th>\n",
       "      <td>Lizelle Lee</td>\n",
       "      <td>SA</td>\n",
       "      <td>758</td>\n",
       "      <td>773 v India, 14/03/2021</td>\n",
       "    </tr>\n",
       "    <tr>\n",
       "      <th>2</th>\n",
       "      <td>Alyssa Healy</td>\n",
       "      <td>AUS</td>\n",
       "      <td>756</td>\n",
       "      <td>756 v New Zealand, 10/04/2021</td>\n",
       "    </tr>\n",
       "    <tr>\n",
       "      <th>3</th>\n",
       "      <td>Tammy Beaumont</td>\n",
       "      <td>ENG</td>\n",
       "      <td>754</td>\n",
       "      <td>791 v India, 27/06/2021</td>\n",
       "    </tr>\n",
       "    <tr>\n",
       "      <th>4</th>\n",
       "      <td>Stafanie Taylor</td>\n",
       "      <td>WI</td>\n",
       "      <td>736</td>\n",
       "      <td>766 v Pakistan, 07/07/2021</td>\n",
       "    </tr>\n",
       "    <tr>\n",
       "      <th>5</th>\n",
       "      <td>Meg Lanning</td>\n",
       "      <td>AUS</td>\n",
       "      <td>723</td>\n",
       "      <td>834 v New Zealand, 24/02/2016</td>\n",
       "    </tr>\n",
       "    <tr>\n",
       "      <th>6</th>\n",
       "      <td>Amy Satterthwaite</td>\n",
       "      <td>NZ</td>\n",
       "      <td>715</td>\n",
       "      <td>756 v Australia, 02/03/2017</td>\n",
       "    </tr>\n",
       "    <tr>\n",
       "      <th>7</th>\n",
       "      <td>Natalie Sciver</td>\n",
       "      <td>ENG</td>\n",
       "      <td>706</td>\n",
       "      <td>712 v India, 25/02/2019</td>\n",
       "    </tr>\n",
       "    <tr>\n",
       "      <th>8</th>\n",
       "      <td>Smriti Mandhana</td>\n",
       "      <td>IND</td>\n",
       "      <td>701</td>\n",
       "      <td>797 v England, 28/02/2019</td>\n",
       "    </tr>\n",
       "    <tr>\n",
       "      <th>9</th>\n",
       "      <td>Laura Wolvaardt</td>\n",
       "      <td>SA</td>\n",
       "      <td>683</td>\n",
       "      <td>725 v India, 07/03/2021</td>\n",
       "    </tr>\n",
       "  </tbody>\n",
       "</table>\n",
       "</div>"
      ],
      "text/plain": [
       "         Player_Name Team Rating             Career Best Rating\n",
       "0        Mithali Raj  IND    762    839 v Australia, 24/12/2004\n",
       "1        Lizelle Lee   SA    758        773 v India, 14/03/2021\n",
       "2       Alyssa Healy  AUS    756  756 v New Zealand, 10/04/2021\n",
       "3     Tammy Beaumont  ENG    754        791 v India, 27/06/2021\n",
       "4    Stafanie Taylor   WI    736     766 v Pakistan, 07/07/2021\n",
       "5        Meg Lanning  AUS    723  834 v New Zealand, 24/02/2016\n",
       "6  Amy Satterthwaite   NZ    715    756 v Australia, 02/03/2017\n",
       "7     Natalie Sciver  ENG    706        712 v India, 25/02/2019\n",
       "8    Smriti Mandhana  IND    701      797 v England, 28/02/2019\n",
       "9    Laura Wolvaardt   SA    683        725 v India, 07/03/2021"
      ]
     },
     "execution_count": 9,
     "metadata": {},
     "output_type": "execute_result"
    }
   ],
   "source": [
    "import pandas as pd\n",
    "df6 = pd.DataFrame({\"Player_Name\":name,\n",
    "                   \"Team\":team,\n",
    "                   \"Rating\":Rating,\n",
    "                   \"Career Best Rating\":career})\n",
    "df6.head(10)\n"
   ]
  },
  {
   "cell_type": "markdown",
   "metadata": {},
   "source": [
    "# QUESTION  7"
   ]
  },
  {
   "cell_type": "code",
   "execution_count": 41,
   "metadata": {},
   "outputs": [],
   "source": [
    "import requests\n",
    "from bs4 import BeautifulSoup\n",
    "import pandas as pd\n"
   ]
  },
  {
   "cell_type": "code",
   "execution_count": 42,
   "metadata": {},
   "outputs": [
    {
     "data": {
      "text/plain": [
       "<Response [503]>"
      ]
     },
     "execution_count": 42,
     "metadata": {},
     "output_type": "execute_result"
    }
   ],
   "source": [
    "req=requests.get(\"https://www.amazon.in/s?k=Mobile+Phone+Under+19000&ref=nb_sb_noss_2\")\n",
    "req"
   ]
  },
  {
   "cell_type": "markdown",
   "metadata": {},
   "source": [
    "# QUESTION:8"
   ]
  },
  {
   "cell_type": "code",
   "execution_count": 47,
   "metadata": {},
   "outputs": [],
   "source": [
    "import requests\n",
    "from bs4 import BeautifulSoup\n",
    "import pandas as pd"
   ]
  },
  {
   "cell_type": "code",
   "execution_count": 48,
   "metadata": {},
   "outputs": [
    {
     "data": {
      "text/plain": [
       "<Response [200]>"
      ]
     },
     "execution_count": 48,
     "metadata": {},
     "output_type": "execute_result"
    }
   ],
   "source": [
    "req=requests.get(\"https://forecast.weather.gov/MapClick.php?lat=37.777120000000025&lon=-122.41963999999996\")\n",
    "req"
   ]
  },
  {
   "cell_type": "code",
   "execution_count": 49,
   "metadata": {},
   "outputs": [],
   "source": [
    "soup=BeautifulSoup(req.content)"
   ]
  },
  {
   "cell_type": "code",
   "execution_count": 50,
   "metadata": {},
   "outputs": [],
   "source": [
    "h=[]\n",
    "for i in soup.find_all(\"p\"):\n",
    "    h.append(i.text.replace(\"\\n\",\"\")) "
   ]
  },
  {
   "cell_type": "code",
   "execution_count": 51,
   "metadata": {},
   "outputs": [],
   "source": [
    "day=[]\n",
    "for i in range(8,len(h),4):\n",
    "    day.append(h[i])"
   ]
  },
  {
   "cell_type": "code",
   "execution_count": 52,
   "metadata": {},
   "outputs": [],
   "source": [
    "des=[]\n",
    "for i in range(10,len(h),4):\n",
    "    des.append(h[i])"
   ]
  },
  {
   "cell_type": "code",
   "execution_count": 53,
   "metadata": {},
   "outputs": [],
   "source": [
    "temp=[]\n",
    "for i in range(11,len(h),4):\n",
    "    temp.append(h[i])"
   ]
  },
  {
   "cell_type": "code",
   "execution_count": 59,
   "metadata": {},
   "outputs": [],
   "source": [
    "det=[]\n",
    "for i in soup.find_all(\"div\",class_=\"col-sm-10 forecast-text\"):\n",
    "     det.append(i.text.replace(\"\\n\",\"\").split())"
   ]
  },
  {
   "cell_type": "code",
   "execution_count": 93,
   "metadata": {},
   "outputs": [],
   "source": [
    "df=pd.DataFrame({\"Day\":name[0:9],\n",
    "                 \"Des\":des[0:9],\n",
    "                 \"Temp\":temp,\n",
    "                 \"Description\":det[0:9]\n",
    "})"
   ]
  },
  {
   "cell_type": "code",
   "execution_count": 94,
   "metadata": {},
   "outputs": [
    {
     "data": {
      "text/html": [
       "<div>\n",
       "<style scoped>\n",
       "    .dataframe tbody tr th:only-of-type {\n",
       "        vertical-align: middle;\n",
       "    }\n",
       "\n",
       "    .dataframe tbody tr th {\n",
       "        vertical-align: top;\n",
       "    }\n",
       "\n",
       "    .dataframe thead th {\n",
       "        text-align: right;\n",
       "    }\n",
       "</style>\n",
       "<table border=\"1\" class=\"dataframe\">\n",
       "  <thead>\n",
       "    <tr style=\"text-align: right;\">\n",
       "      <th></th>\n",
       "      <th>Day</th>\n",
       "      <th>Des</th>\n",
       "      <th>Temp</th>\n",
       "      <th>Description</th>\n",
       "    </tr>\n",
       "  </thead>\n",
       "  <tbody>\n",
       "    <tr>\n",
       "      <th>0</th>\n",
       "      <td>Today</td>\n",
       "      <td>Slight ChanceT-storms andBreezy</td>\n",
       "      <td>High: 66 °F</td>\n",
       "      <td>A 20 percent chance of showers and thunderstor...</td>\n",
       "    </tr>\n",
       "    <tr>\n",
       "      <th>1</th>\n",
       "      <td>Tonight</td>\n",
       "      <td>Slight ChanceT-storms andBreezy</td>\n",
       "      <td>Low: 57 °F</td>\n",
       "      <td>A 20 percent chance of showers and thunderstor...</td>\n",
       "    </tr>\n",
       "    <tr>\n",
       "      <th>2</th>\n",
       "      <td>Tuesday</td>\n",
       "      <td>Slight ChanceT-storms thenSlight ChanceRain</td>\n",
       "      <td>High: 75 °F</td>\n",
       "      <td>A slight chance of showers and thunderstorms b...</td>\n",
       "    </tr>\n",
       "    <tr>\n",
       "      <th>3</th>\n",
       "      <td>TuesdayNight</td>\n",
       "      <td>Partly Cloudy</td>\n",
       "      <td>Low: 58 °F</td>\n",
       "      <td>Partly cloudy, with a low around 58. West wind...</td>\n",
       "    </tr>\n",
       "    <tr>\n",
       "      <th>4</th>\n",
       "      <td>Wednesday</td>\n",
       "      <td>Mostly Sunny</td>\n",
       "      <td>High: 72 °F</td>\n",
       "      <td>Mostly sunny, with a high near 72. Light west ...</td>\n",
       "    </tr>\n",
       "    <tr>\n",
       "      <th>5</th>\n",
       "      <td>WednesdayNight</td>\n",
       "      <td>Mostly Cloudy</td>\n",
       "      <td>Low: 58 °F</td>\n",
       "      <td>Mostly cloudy, with a low around 58.</td>\n",
       "    </tr>\n",
       "    <tr>\n",
       "      <th>6</th>\n",
       "      <td>Thursday</td>\n",
       "      <td>Mostly Sunny</td>\n",
       "      <td>High: 72 °F</td>\n",
       "      <td>Mostly sunny, with a high near 72.</td>\n",
       "    </tr>\n",
       "    <tr>\n",
       "      <th>7</th>\n",
       "      <td>ThursdayNight</td>\n",
       "      <td>Partly Cloudy</td>\n",
       "      <td>Low: 57 °F</td>\n",
       "      <td>Partly cloudy, with a low around 57.</td>\n",
       "    </tr>\n",
       "    <tr>\n",
       "      <th>8</th>\n",
       "      <td>Friday</td>\n",
       "      <td>Mostly Sunny</td>\n",
       "      <td>High: 70 °F</td>\n",
       "      <td>Mostly sunny, with a high near 70.</td>\n",
       "    </tr>\n",
       "  </tbody>\n",
       "</table>\n",
       "</div>"
      ],
      "text/plain": [
       "              Day                                          Des         Temp  \\\n",
       "0           Today              Slight ChanceT-storms andBreezy  High: 66 °F   \n",
       "1         Tonight              Slight ChanceT-storms andBreezy   Low: 57 °F   \n",
       "2         Tuesday  Slight ChanceT-storms thenSlight ChanceRain  High: 75 °F   \n",
       "3    TuesdayNight                                Partly Cloudy   Low: 58 °F   \n",
       "4       Wednesday                                 Mostly Sunny  High: 72 °F   \n",
       "5  WednesdayNight                                Mostly Cloudy   Low: 58 °F   \n",
       "6        Thursday                                 Mostly Sunny  High: 72 °F   \n",
       "7   ThursdayNight                                Partly Cloudy   Low: 57 °F   \n",
       "8          Friday                                 Mostly Sunny  High: 70 °F   \n",
       "\n",
       "                                         Description  \n",
       "0  A 20 percent chance of showers and thunderstor...  \n",
       "1  A 20 percent chance of showers and thunderstor...  \n",
       "2  A slight chance of showers and thunderstorms b...  \n",
       "3  Partly cloudy, with a low around 58. West wind...  \n",
       "4  Mostly sunny, with a high near 72. Light west ...  \n",
       "5               Mostly cloudy, with a low around 58.  \n",
       "6                 Mostly sunny, with a high near 72.  \n",
       "7               Partly cloudy, with a low around 57.  \n",
       "8                 Mostly sunny, with a high near 70.  "
      ]
     },
     "execution_count": 94,
     "metadata": {},
     "output_type": "execute_result"
    }
   ],
   "source": [
    "df"
   ]
  },
  {
   "cell_type": "markdown",
   "metadata": {},
   "source": [
    "# QUESTION 9"
   ]
  },
  {
   "cell_type": "code",
   "execution_count": 1,
   "metadata": {},
   "outputs": [],
   "source": [
    "import requests\n",
    "from bs4 import BeautifulSoup"
   ]
  },
  {
   "cell_type": "code",
   "execution_count": 2,
   "metadata": {},
   "outputs": [
    {
     "data": {
      "text/plain": [
       "<Response [200]>"
      ]
     },
     "execution_count": 2,
     "metadata": {},
     "output_type": "execute_result"
    }
   ],
   "source": [
    "request = requests.get(\"https://internshala.com/fresher-jobs\")\n",
    "request"
   ]
  },
  {
   "cell_type": "code",
   "execution_count": 3,
   "metadata": {},
   "outputs": [],
   "source": [
    "fresher  = BeautifulSoup(request.content)"
   ]
  },
  {
   "cell_type": "code",
   "execution_count": 4,
   "metadata": {},
   "outputs": [],
   "source": [
    "profile = []\n",
    "for i in fresher.find_all(\"div\",class_=\"heading_4_5 profile\"):\n",
    "    profile.append(i.text.strip())\n"
   ]
  },
  {
   "cell_type": "code",
   "execution_count": 5,
   "metadata": {},
   "outputs": [],
   "source": [
    "company = []\n",
    "for i in fresher.find_all(\"div\",class_=\"heading_6 company_name\"):\n",
    "    company.append(i.text.strip())\n"
   ]
  },
  {
   "cell_type": "code",
   "execution_count": 6,
   "metadata": {},
   "outputs": [],
   "source": [
    "b = []\n",
    "for i in fresher.find_all(\"div\",class_=\"item_body\"):\n",
    "    b.append(i.text.replace(\"\\n\",\"\").strip())\n"
   ]
  },
  {
   "cell_type": "code",
   "execution_count": 7,
   "metadata": {},
   "outputs": [
    {
     "data": {
      "text/plain": [
       "40"
      ]
     },
     "execution_count": 7,
     "metadata": {},
     "output_type": "execute_result"
    }
   ],
   "source": [
    "ctc=b[1::3]\n",
    "len(ctc)"
   ]
  },
  {
   "cell_type": "code",
   "execution_count": 8,
   "metadata": {},
   "outputs": [
    {
     "data": {
      "text/plain": [
       "40"
      ]
     },
     "execution_count": 8,
     "metadata": {},
     "output_type": "execute_result"
    }
   ],
   "source": [
    "apply_date=[]\n",
    "apply_date=b[2::3]\n",
    "len(apply_date)"
   ]
  },
  {
   "cell_type": "code",
   "execution_count": 9,
   "metadata": {},
   "outputs": [
    {
     "data": {
      "text/plain": [
       "<Response [200]>"
      ]
     },
     "execution_count": 9,
     "metadata": {},
     "output_type": "execute_result"
    }
   ],
   "source": [
    "request = requests.get(\"https://internshala.com/fresher-jobs/page-2\")\n",
    "request"
   ]
  },
  {
   "cell_type": "code",
   "execution_count": 10,
   "metadata": {},
   "outputs": [],
   "source": [
    "fresher  = BeautifulSoup(request.content)"
   ]
  },
  {
   "cell_type": "code",
   "execution_count": 11,
   "metadata": {},
   "outputs": [
    {
     "data": {
      "text/plain": [
       "80"
      ]
     },
     "execution_count": 11,
     "metadata": {},
     "output_type": "execute_result"
    }
   ],
   "source": [
    "for i in fresher.find_all(\"div\",class_=\"heading_4_5 profile\"):\n",
    "    profile.append(i.text.strip())\n",
    "len(profile)"
   ]
  },
  {
   "cell_type": "code",
   "execution_count": 12,
   "metadata": {},
   "outputs": [
    {
     "data": {
      "text/plain": [
       "80"
      ]
     },
     "execution_count": 12,
     "metadata": {},
     "output_type": "execute_result"
    }
   ],
   "source": [
    "for i in fresher.find_all(\"div\",class_=\"heading_6 company_name\"):\n",
    "    company.append(i.text.strip())\n",
    "len(company)"
   ]
  },
  {
   "cell_type": "code",
   "execution_count": 13,
   "metadata": {},
   "outputs": [],
   "source": [
    "b = []\n",
    "for i in fresher.find_all(\"div\",class_=\"item_body\"):\n",
    "    b.append(i.text.replace(\"\\n\",\"\").strip())"
   ]
  },
  {
   "cell_type": "code",
   "execution_count": 14,
   "metadata": {},
   "outputs": [
    {
     "data": {
      "text/plain": [
       "80"
      ]
     },
     "execution_count": 14,
     "metadata": {},
     "output_type": "execute_result"
    }
   ],
   "source": [
    "ctc=ctc+b[1::3]\n",
    "len(ctc)"
   ]
  },
  {
   "cell_type": "code",
   "execution_count": 15,
   "metadata": {},
   "outputs": [
    {
     "data": {
      "text/plain": [
       "80"
      ]
     },
     "execution_count": 15,
     "metadata": {},
     "output_type": "execute_result"
    }
   ],
   "source": [
    "apply_date=apply_date+b[2::3]\n",
    "len(apply_date)"
   ]
  },
  {
   "cell_type": "code",
   "execution_count": 16,
   "metadata": {},
   "outputs": [
    {
     "data": {
      "text/plain": [
       "<Response [200]>"
      ]
     },
     "execution_count": 16,
     "metadata": {},
     "output_type": "execute_result"
    }
   ],
   "source": [
    "request=requests.get('https://internshala.com/fresher-jobs/page-3')\n",
    "request"
   ]
  },
  {
   "cell_type": "code",
   "execution_count": 17,
   "metadata": {},
   "outputs": [],
   "source": [
    "fresher=BeautifulSoup(request.content)"
   ]
  },
  {
   "cell_type": "code",
   "execution_count": 18,
   "metadata": {},
   "outputs": [
    {
     "data": {
      "text/plain": [
       "120"
      ]
     },
     "execution_count": 18,
     "metadata": {},
     "output_type": "execute_result"
    }
   ],
   "source": [
    "for i in fresher.find_all(\"div\",class_=\"heading_4_5 profile\"):\n",
    "    profile.append(i.text.replace('\\n','').strip())\n",
    "    \n",
    "len(profile)"
   ]
  },
  {
   "cell_type": "code",
   "execution_count": 19,
   "metadata": {},
   "outputs": [
    {
     "data": {
      "text/plain": [
       "120"
      ]
     },
     "execution_count": 19,
     "metadata": {},
     "output_type": "execute_result"
    }
   ],
   "source": [
    "for i in fresher.find_all(\"div\",class_=\"heading_6 company_name\"):\n",
    "    company.append(i.text.replace('\\n','').strip())\n",
    "    \n",
    "len(company)"
   ]
  },
  {
   "cell_type": "code",
   "execution_count": 20,
   "metadata": {},
   "outputs": [],
   "source": [
    "b=[]\n",
    "for i in fresher.find_all(\"div\",class_=\"item_body\"):\n",
    "    b.append(i.text.replace('\\n','').strip())"
   ]
  },
  {
   "cell_type": "code",
   "execution_count": 21,
   "metadata": {},
   "outputs": [
    {
     "data": {
      "text/plain": [
       "120"
      ]
     },
     "execution_count": 21,
     "metadata": {},
     "output_type": "execute_result"
    }
   ],
   "source": [
    "ctc=ctc+b[1::3]\n",
    "len(ctc)\n"
   ]
  },
  {
   "cell_type": "code",
   "execution_count": 22,
   "metadata": {},
   "outputs": [
    {
     "data": {
      "text/plain": [
       "120"
      ]
     },
     "execution_count": 22,
     "metadata": {},
     "output_type": "execute_result"
    }
   ],
   "source": [
    "apply_date=apply_date+b[2::3]\n",
    "len(apply_date)"
   ]
  },
  {
   "cell_type": "code",
   "execution_count": 23,
   "metadata": {},
   "outputs": [
    {
     "data": {
      "text/plain": [
       "<Response [200]>"
      ]
     },
     "execution_count": 23,
     "metadata": {},
     "output_type": "execute_result"
    }
   ],
   "source": [
    "request=requests.get('https://internshala.com/fresher-jobs/page-4')\n",
    "request"
   ]
  },
  {
   "cell_type": "code",
   "execution_count": 24,
   "metadata": {},
   "outputs": [],
   "source": [
    "fresher=BeautifulSoup(request.content)"
   ]
  },
  {
   "cell_type": "code",
   "execution_count": 25,
   "metadata": {},
   "outputs": [
    {
     "data": {
      "text/plain": [
       "152"
      ]
     },
     "execution_count": 25,
     "metadata": {},
     "output_type": "execute_result"
    }
   ],
   "source": [
    "for i in fresher.find_all(\"div\",class_='heading_4_5 profile'):\n",
    "    profile.append(i.text.replace('\\n','').strip())\n",
    "len(profile)"
   ]
  },
  {
   "cell_type": "code",
   "execution_count": 26,
   "metadata": {},
   "outputs": [
    {
     "data": {
      "text/plain": [
       "152"
      ]
     },
     "execution_count": 26,
     "metadata": {},
     "output_type": "execute_result"
    }
   ],
   "source": [
    "for i in fresher.find_all(\"div\",class_='heading_6 company_name'):\n",
    "    company.append(i.text.replace('\\n','').strip())\n",
    "len(company)"
   ]
  },
  {
   "cell_type": "code",
   "execution_count": 27,
   "metadata": {},
   "outputs": [],
   "source": [
    "b=[]\n",
    "for i in fresher.find_all(\"div\",class_='item_body'):\n",
    "    b.append(i.text.replace('\\n','').strip())"
   ]
  },
  {
   "cell_type": "code",
   "execution_count": 28,
   "metadata": {},
   "outputs": [
    {
     "data": {
      "text/plain": [
       "152"
      ]
     },
     "execution_count": 28,
     "metadata": {},
     "output_type": "execute_result"
    }
   ],
   "source": [
    "ctc=ctc+b[1::3]\n",
    "len(ctc)"
   ]
  },
  {
   "cell_type": "code",
   "execution_count": 29,
   "metadata": {},
   "outputs": [],
   "source": [
    "apply_date=apply_date+b[2::3]"
   ]
  },
  {
   "cell_type": "code",
   "execution_count": 30,
   "metadata": {},
   "outputs": [
    {
     "data": {
      "text/plain": [
       "152"
      ]
     },
     "execution_count": 30,
     "metadata": {},
     "output_type": "execute_result"
    }
   ],
   "source": [
    "len(apply_date)"
   ]
  },
  {
   "cell_type": "code",
   "execution_count": 31,
   "metadata": {},
   "outputs": [],
   "source": [
    "import pandas as pd\n",
    "fresher=pd.DataFrame({\n",
    "\"Position\" :profile,\n",
    "\"Company\" :company,\n",
    "\"CTC\" :ctc,\n",
    "\"Apply Date\":apply_date})"
   ]
  },
  {
   "cell_type": "code",
   "execution_count": 32,
   "metadata": {},
   "outputs": [
    {
     "data": {
      "text/html": [
       "<div>\n",
       "<style scoped>\n",
       "    .dataframe tbody tr th:only-of-type {\n",
       "        vertical-align: middle;\n",
       "    }\n",
       "\n",
       "    .dataframe tbody tr th {\n",
       "        vertical-align: top;\n",
       "    }\n",
       "\n",
       "    .dataframe thead th {\n",
       "        text-align: right;\n",
       "    }\n",
       "</style>\n",
       "<table border=\"1\" class=\"dataframe\">\n",
       "  <thead>\n",
       "    <tr style=\"text-align: right;\">\n",
       "      <th></th>\n",
       "      <th>Position</th>\n",
       "      <th>Company</th>\n",
       "      <th>CTC</th>\n",
       "      <th>Apply Date</th>\n",
       "    </tr>\n",
       "  </thead>\n",
       "  <tbody>\n",
       "    <tr>\n",
       "      <th>0</th>\n",
       "      <td>Sales Manager/Omni Sport Leader - Retail</td>\n",
       "      <td>Decathlon Sport India Private Limited</td>\n",
       "      <td>3.3 - 4.5 LPA</td>\n",
       "      <td>21 Aug' 21</td>\n",
       "    </tr>\n",
       "    <tr>\n",
       "      <th>1</th>\n",
       "      <td>Product Marketer</td>\n",
       "      <td>Habitate Technologies Private Limited</td>\n",
       "      <td>3.2 - 4.2 LPA</td>\n",
       "      <td>25 Aug' 21</td>\n",
       "    </tr>\n",
       "    <tr>\n",
       "      <th>2</th>\n",
       "      <td>Customer Support Associates</td>\n",
       "      <td>Recruit CRM</td>\n",
       "      <td>5 - 7 LPA</td>\n",
       "      <td>25 Aug' 21</td>\n",
       "    </tr>\n",
       "    <tr>\n",
       "      <th>3</th>\n",
       "      <td>Content &amp; Customer Care Executive</td>\n",
       "      <td>Revo International LLP</td>\n",
       "      <td>3 - 3.05 LPA</td>\n",
       "      <td>25 Aug' 21</td>\n",
       "    </tr>\n",
       "    <tr>\n",
       "      <th>4</th>\n",
       "      <td>Django Developer</td>\n",
       "      <td>Startxlabs Technologies Private Limited</td>\n",
       "      <td>3.5 - 7.5 LPA</td>\n",
       "      <td>25 Aug' 21</td>\n",
       "    </tr>\n",
       "    <tr>\n",
       "      <th>...</th>\n",
       "      <td>...</td>\n",
       "      <td>...</td>\n",
       "      <td>...</td>\n",
       "      <td>...</td>\n",
       "    </tr>\n",
       "    <tr>\n",
       "      <th>147</th>\n",
       "      <td>Associate Full Stack Developer</td>\n",
       "      <td>REPOZITORY TECHNOLOGIES PRIVATE LIMITED</td>\n",
       "      <td>3 - 3.6 LPA</td>\n",
       "      <td>28 Jul' 21</td>\n",
       "    </tr>\n",
       "    <tr>\n",
       "      <th>148</th>\n",
       "      <td>Business Development Associate</td>\n",
       "      <td>Padhhigh</td>\n",
       "      <td>3.6 - 5 LPA</td>\n",
       "      <td>5 Aug' 21</td>\n",
       "    </tr>\n",
       "    <tr>\n",
       "      <th>149</th>\n",
       "      <td>Mobile App Developer</td>\n",
       "      <td>Ruhi</td>\n",
       "      <td>3 - 4 LPA</td>\n",
       "      <td>28 Jul' 21</td>\n",
       "    </tr>\n",
       "    <tr>\n",
       "      <th>150</th>\n",
       "      <td>Marketing Manager</td>\n",
       "      <td>DeepThought Edutech Ventures Private Limited</td>\n",
       "      <td>4 - 5 LPA</td>\n",
       "      <td>28 Jul' 21</td>\n",
       "    </tr>\n",
       "    <tr>\n",
       "      <th>151</th>\n",
       "      <td>Software Development Engineer (Web)</td>\n",
       "      <td>Internshala</td>\n",
       "      <td>6.6 - 8.28 LPA</td>\n",
       "      <td>28 Jul' 21</td>\n",
       "    </tr>\n",
       "  </tbody>\n",
       "</table>\n",
       "<p>152 rows × 4 columns</p>\n",
       "</div>"
      ],
      "text/plain": [
       "                                     Position  \\\n",
       "0    Sales Manager/Omni Sport Leader - Retail   \n",
       "1                            Product Marketer   \n",
       "2                 Customer Support Associates   \n",
       "3           Content & Customer Care Executive   \n",
       "4                            Django Developer   \n",
       "..                                        ...   \n",
       "147            Associate Full Stack Developer   \n",
       "148            Business Development Associate   \n",
       "149                      Mobile App Developer   \n",
       "150                         Marketing Manager   \n",
       "151       Software Development Engineer (Web)   \n",
       "\n",
       "                                          Company             CTC  Apply Date  \n",
       "0           Decathlon Sport India Private Limited   3.3 - 4.5 LPA  21 Aug' 21  \n",
       "1           Habitate Technologies Private Limited   3.2 - 4.2 LPA  25 Aug' 21  \n",
       "2                                     Recruit CRM       5 - 7 LPA  25 Aug' 21  \n",
       "3                          Revo International LLP    3 - 3.05 LPA  25 Aug' 21  \n",
       "4         Startxlabs Technologies Private Limited   3.5 - 7.5 LPA  25 Aug' 21  \n",
       "..                                            ...             ...         ...  \n",
       "147       REPOZITORY TECHNOLOGIES PRIVATE LIMITED     3 - 3.6 LPA  28 Jul' 21  \n",
       "148                                      Padhhigh     3.6 - 5 LPA   5 Aug' 21  \n",
       "149                                          Ruhi       3 - 4 LPA  28 Jul' 21  \n",
       "150  DeepThought Edutech Ventures Private Limited       4 - 5 LPA  28 Jul' 21  \n",
       "151                                   Internshala  6.6 - 8.28 LPA  28 Jul' 21  \n",
       "\n",
       "[152 rows x 4 columns]"
      ]
     },
     "execution_count": 32,
     "metadata": {},
     "output_type": "execute_result"
    }
   ],
   "source": [
    "fresher"
   ]
  },
  {
   "cell_type": "markdown",
   "metadata": {},
   "source": [
    "# QUESTION  10"
   ]
  },
  {
   "cell_type": "code",
   "execution_count": 1,
   "metadata": {},
   "outputs": [],
   "source": [
    "import requests\n",
    "from bs4 import BeautifulSoup"
   ]
  },
  {
   "cell_type": "code",
   "execution_count": 2,
   "metadata": {},
   "outputs": [],
   "source": [
    "request=requests.get('https://www.nobroker.in/2bhk-flats-for-sale-in-gurgaon_gurgaon')"
   ]
  },
  {
   "cell_type": "code",
   "execution_count": 3,
   "metadata": {},
   "outputs": [],
   "source": [
    "house=BeautifulSoup(request.content)"
   ]
  },
  {
   "cell_type": "code",
   "execution_count": 4,
   "metadata": {},
   "outputs": [
    {
     "data": {
      "text/plain": [
       "['2 BHK Flat  For Sale  In Experion The Heartsong In Gurgaon ',\n",
       " '2 BHK Flat  For Sale  In Huda Housing Board &#40;hbc&#41; Sector 9,gurgaon In Imt Manesar ',\n",
       " '2 BHK Flat  For Sale  In New Palam Vihar ',\n",
       " '2 BHK Apartment  For Sale  In Bestech Park View Ananda In Sector-81 ',\n",
       " '2 BHK Flat  For Sale  In Maple Heights In Sector 43 ',\n",
       " '2 BHK Apartment  For Sale  In Pyramid Urban Homes In Sector-70 A ',\n",
       " '2 BHK Apartment  For Sale  In Tulip Lemon In Sector-69 ',\n",
       " '2 BHK Apartment  For Sale  In Crescent Parc - Royal Greens In Sector 92 ',\n",
       " '2 BHK Flat  For Sale  In Huda Nhk Cghs In Sector-1  ',\n",
       " '2 BHK Flat  For Sale  In Anjani Apartment In Patel Nagar ']"
      ]
     },
     "execution_count": 4,
     "metadata": {},
     "output_type": "execute_result"
    }
   ],
   "source": [
    "Type=[]\n",
    "for i in house.find_all('h2',class_=\"heading-6 font-semi-bold nb__1AShY\"):\n",
    "    Type.append(i.text)\n",
    "Type"
   ]
  },
  {
   "cell_type": "code",
   "execution_count": 5,
   "metadata": {},
   "outputs": [
    {
     "data": {
      "text/plain": [
       "['Sector 108, Dharampur, Near SobhaDevlopers',\n",
       " 'Sector 9 Gurugram, Haryana 122051, India',\n",
       " 'Standalone Building, New Palam Vihar Phase 3 Marg',\n",
       " 'Bestech Park View Ananda\\xa0 Sector-81, Gurgaon, Haryana, INDIA.',\n",
       " 'Block C, Sushant Lok Phase I, Sector 43, Gurugram, Haryana 122003, India',\n",
       " 'Pyramid Urban Homes\\xa0 Sector-70 A, Gurgaon, Haryana, INDIA.',\n",
       " 'Tulip Lemon\\xa0 Sector 69, Gurgaon, Haryana, INDIA.',\n",
       " 'Crescent Parc - Royal Greens\\xa0 Sector 92, Gurugram, Haryana 122505, India',\n",
       " 'Golf Court Road, Sector 1, Near Bal Bharti Public School IMT Manesar India',\n",
       " 'Behind SBI Mehrauli Road']"
      ]
     },
     "execution_count": 5,
     "metadata": {},
     "output_type": "execute_result"
    }
   ],
   "source": [
    "Place=[]\n",
    "for i in house.find_all('div',class_='nb__2CMjv'):\n",
    "    Place.append(i.text)\n",
    "Place"
   ]
  },
  {
   "cell_type": "code",
   "execution_count": 6,
   "metadata": {},
   "outputs": [
    {
     "data": {
      "text/plain": [
       "['1,283 sqft',\n",
       " '700 sqft',\n",
       " '750 sqft',\n",
       " '1,360 sqft',\n",
       " '980 sqft',\n",
       " '650 sqft',\n",
       " '700 sqft',\n",
       " '1,000 sqft',\n",
       " '1,100 sqft',\n",
       " '650 sqft']"
      ]
     },
     "execution_count": 6,
     "metadata": {},
     "output_type": "execute_result"
    }
   ],
   "source": [
    "Area=[]\n",
    "for i in house.find_all('div',class_='nb__3oNyC'):\n",
    "    Area.append(i.text)\n",
    "Area"
   ]
  },
  {
   "cell_type": "code",
   "execution_count": 8,
   "metadata": {},
   "outputs": [],
   "source": [
    "emi=[]\n",
    "for i in house.find_all('div',class_='font-semi-bold heading-6'):\n",
    "    emi.append(i.text)"
   ]
  },
  {
   "cell_type": "code",
   "execution_count": 9,
   "metadata": {},
   "outputs": [
    {
     "data": {
      "text/plain": [
       "['₹46,997/Month',\n",
       " '₹21,206/Month',\n",
       " '₹14,328/Month',\n",
       " '₹46,997/Month',\n",
       " '₹49,863/Month',\n",
       " '₹22,352/Month',\n",
       " '₹26,364/Month',\n",
       " '₹29,803/Month',\n",
       " '₹31,522/Month',\n",
       " '₹19,486/Month']"
      ]
     },
     "execution_count": 9,
     "metadata": {},
     "output_type": "execute_result"
    }
   ],
   "source": [
    "emi=emi[1::3]\n",
    "emi"
   ]
  },
  {
   "cell_type": "code",
   "execution_count": 10,
   "metadata": {},
   "outputs": [],
   "source": [
    "price=[]\n",
    "for i in house.find_all('div',class_=\"font-semi-bold heading-6\"):\n",
    "    price.append(i.text)"
   ]
  },
  {
   "cell_type": "code",
   "execution_count": 11,
   "metadata": {},
   "outputs": [],
   "source": [
    "price=price[2::3]"
   ]
  },
  {
   "cell_type": "code",
   "execution_count": 13,
   "metadata": {},
   "outputs": [
    {
     "data": {
      "text/html": [
       "<div>\n",
       "<style scoped>\n",
       "    .dataframe tbody tr th:only-of-type {\n",
       "        vertical-align: middle;\n",
       "    }\n",
       "\n",
       "    .dataframe tbody tr th {\n",
       "        vertical-align: top;\n",
       "    }\n",
       "\n",
       "    .dataframe thead th {\n",
       "        text-align: right;\n",
       "    }\n",
       "</style>\n",
       "<table border=\"1\" class=\"dataframe\">\n",
       "  <thead>\n",
       "    <tr style=\"text-align: right;\">\n",
       "      <th></th>\n",
       "      <th>Type</th>\n",
       "      <th>Place</th>\n",
       "      <th>Area</th>\n",
       "      <th>emi</th>\n",
       "      <th>Price</th>\n",
       "    </tr>\n",
       "  </thead>\n",
       "  <tbody>\n",
       "    <tr>\n",
       "      <th>0</th>\n",
       "      <td>2 BHK Flat  For Sale  In Experion The Heartson...</td>\n",
       "      <td>Sector 108, Dharampur, Near SobhaDevlopers</td>\n",
       "      <td>1,283 sqft</td>\n",
       "      <td>₹46,997/Month</td>\n",
       "      <td>₹82 Lacs</td>\n",
       "    </tr>\n",
       "    <tr>\n",
       "      <th>1</th>\n",
       "      <td>2 BHK Flat  For Sale  In Huda Housing Board &amp;#...</td>\n",
       "      <td>Sector 9 Gurugram, Haryana 122051, India</td>\n",
       "      <td>700 sqft</td>\n",
       "      <td>₹21,206/Month</td>\n",
       "      <td>₹37 Lacs</td>\n",
       "    </tr>\n",
       "    <tr>\n",
       "      <th>2</th>\n",
       "      <td>2 BHK Flat  For Sale  In New Palam Vihar</td>\n",
       "      <td>Standalone Building, New Palam Vihar Phase 3 Marg</td>\n",
       "      <td>750 sqft</td>\n",
       "      <td>₹14,328/Month</td>\n",
       "      <td>₹25 Lacs</td>\n",
       "    </tr>\n",
       "    <tr>\n",
       "      <th>3</th>\n",
       "      <td>2 BHK Apartment  For Sale  In Bestech Park Vie...</td>\n",
       "      <td>Bestech Park View Ananda  Sector-81, Gurgaon, ...</td>\n",
       "      <td>1,360 sqft</td>\n",
       "      <td>₹46,997/Month</td>\n",
       "      <td>₹82 Lacs</td>\n",
       "    </tr>\n",
       "    <tr>\n",
       "      <th>4</th>\n",
       "      <td>2 BHK Flat  For Sale  In Maple Heights In Sect...</td>\n",
       "      <td>Block C, Sushant Lok Phase I, Sector 43, Gurug...</td>\n",
       "      <td>980 sqft</td>\n",
       "      <td>₹49,863/Month</td>\n",
       "      <td>₹87 Lacs</td>\n",
       "    </tr>\n",
       "    <tr>\n",
       "      <th>5</th>\n",
       "      <td>2 BHK Apartment  For Sale  In Pyramid Urban Ho...</td>\n",
       "      <td>Pyramid Urban Homes  Sector-70 A, Gurgaon, Har...</td>\n",
       "      <td>650 sqft</td>\n",
       "      <td>₹22,352/Month</td>\n",
       "      <td>₹39 Lacs</td>\n",
       "    </tr>\n",
       "    <tr>\n",
       "      <th>6</th>\n",
       "      <td>2 BHK Apartment  For Sale  In Tulip Lemon In S...</td>\n",
       "      <td>Tulip Lemon  Sector 69, Gurgaon, Haryana, INDIA.</td>\n",
       "      <td>700 sqft</td>\n",
       "      <td>₹26,364/Month</td>\n",
       "      <td>₹46 Lacs</td>\n",
       "    </tr>\n",
       "    <tr>\n",
       "      <th>7</th>\n",
       "      <td>2 BHK Apartment  For Sale  In Crescent Parc - ...</td>\n",
       "      <td>Crescent Parc - Royal Greens  Sector 92, Gurug...</td>\n",
       "      <td>1,000 sqft</td>\n",
       "      <td>₹29,803/Month</td>\n",
       "      <td>₹52 Lacs</td>\n",
       "    </tr>\n",
       "    <tr>\n",
       "      <th>8</th>\n",
       "      <td>2 BHK Flat  For Sale  In Huda Nhk Cghs In Sect...</td>\n",
       "      <td>Golf Court Road, Sector 1, Near Bal Bharti Pub...</td>\n",
       "      <td>1,100 sqft</td>\n",
       "      <td>₹31,522/Month</td>\n",
       "      <td>₹55 Lacs</td>\n",
       "    </tr>\n",
       "    <tr>\n",
       "      <th>9</th>\n",
       "      <td>2 BHK Flat  For Sale  In Anjani Apartment In P...</td>\n",
       "      <td>Behind SBI Mehrauli Road</td>\n",
       "      <td>650 sqft</td>\n",
       "      <td>₹19,486/Month</td>\n",
       "      <td>₹34 Lacs</td>\n",
       "    </tr>\n",
       "  </tbody>\n",
       "</table>\n",
       "</div>"
      ],
      "text/plain": [
       "                                                Type  \\\n",
       "0  2 BHK Flat  For Sale  In Experion The Heartson...   \n",
       "1  2 BHK Flat  For Sale  In Huda Housing Board &#...   \n",
       "2          2 BHK Flat  For Sale  In New Palam Vihar    \n",
       "3  2 BHK Apartment  For Sale  In Bestech Park Vie...   \n",
       "4  2 BHK Flat  For Sale  In Maple Heights In Sect...   \n",
       "5  2 BHK Apartment  For Sale  In Pyramid Urban Ho...   \n",
       "6  2 BHK Apartment  For Sale  In Tulip Lemon In S...   \n",
       "7  2 BHK Apartment  For Sale  In Crescent Parc - ...   \n",
       "8  2 BHK Flat  For Sale  In Huda Nhk Cghs In Sect...   \n",
       "9  2 BHK Flat  For Sale  In Anjani Apartment In P...   \n",
       "\n",
       "                                               Place        Area  \\\n",
       "0         Sector 108, Dharampur, Near SobhaDevlopers  1,283 sqft   \n",
       "1           Sector 9 Gurugram, Haryana 122051, India    700 sqft   \n",
       "2  Standalone Building, New Palam Vihar Phase 3 Marg    750 sqft   \n",
       "3  Bestech Park View Ananda  Sector-81, Gurgaon, ...  1,360 sqft   \n",
       "4  Block C, Sushant Lok Phase I, Sector 43, Gurug...    980 sqft   \n",
       "5  Pyramid Urban Homes  Sector-70 A, Gurgaon, Har...    650 sqft   \n",
       "6   Tulip Lemon  Sector 69, Gurgaon, Haryana, INDIA.    700 sqft   \n",
       "7  Crescent Parc - Royal Greens  Sector 92, Gurug...  1,000 sqft   \n",
       "8  Golf Court Road, Sector 1, Near Bal Bharti Pub...  1,100 sqft   \n",
       "9                           Behind SBI Mehrauli Road    650 sqft   \n",
       "\n",
       "             emi     Price  \n",
       "0  ₹46,997/Month  ₹82 Lacs  \n",
       "1  ₹21,206/Month  ₹37 Lacs  \n",
       "2  ₹14,328/Month  ₹25 Lacs  \n",
       "3  ₹46,997/Month  ₹82 Lacs  \n",
       "4  ₹49,863/Month  ₹87 Lacs  \n",
       "5  ₹22,352/Month  ₹39 Lacs  \n",
       "6  ₹26,364/Month  ₹46 Lacs  \n",
       "7  ₹29,803/Month  ₹52 Lacs  \n",
       "8  ₹31,522/Month  ₹55 Lacs  \n",
       "9  ₹19,486/Month  ₹34 Lacs  "
      ]
     },
     "execution_count": 13,
     "metadata": {},
     "output_type": "execute_result"
    }
   ],
   "source": [
    "import pandas as pd\n",
    "house=pd.DataFrame({\n",
    "\"Type\" :Type,\n",
    "\"Place\" :Place,\n",
    "\"Area\" :Area,\n",
    "\"emi\":emi,\n",
    "\"Price\":price})\n",
    "\n",
    "house"
   ]
  },
  {
   "cell_type": "code",
   "execution_count": null,
   "metadata": {},
   "outputs": [],
   "source": []
  }
 ],
 "metadata": {
  "kernelspec": {
   "display_name": "Python 3",
   "language": "python",
   "name": "python3"
  },
  "language_info": {
   "codemirror_mode": {
    "name": "ipython",
    "version": 3
   },
   "file_extension": ".py",
   "mimetype": "text/x-python",
   "name": "python",
   "nbconvert_exporter": "python",
   "pygments_lexer": "ipython3",
   "version": "3.8.5"
  }
 },
 "nbformat": 4,
 "nbformat_minor": 4
}
